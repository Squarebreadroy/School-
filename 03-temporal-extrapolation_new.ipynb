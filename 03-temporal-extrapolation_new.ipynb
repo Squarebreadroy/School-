{
 "cells": [
  {
   "cell_type": "code",
   "execution_count": 57,
   "metadata": {},
   "outputs": [
    {
     "name": "stdout",
     "output_type": "stream",
     "text": [
      "Processing ChekLapKok...\n",
      "Processing CheungChau...\n",
      "Processing KingsPark...\n",
      "Processing LauFauShan...\n",
      "Processing PengChau...\n",
      "Processing SaiKung...\n",
      "Processing ShaTin...\n",
      "Processing ShekKong...\n",
      "Processing TaiMoShan...\n",
      "Processing TaKwuLing...\n",
      "Processing TatesCairn...\n",
      "Processing TseungKwanO...\n",
      "Processing Waglan...\n",
      "Processing WetlandPark...\n",
      "<class 'pandas.core.frame.DataFrame'>\n",
      "DatetimeIndex: 133656 entries, 2008-01-01 00:01:00 to 2023-03-31 23:01:00\n",
      "Data columns (total 70 columns):\n",
      " #   Column                                Non-Null Count   Dtype\n",
      "---  ------                                --------------   -----\n",
      " 0   ChekLapKok Temperature (0.1 C)        133656 non-null  int64\n",
      " 1   ChekLapKok Relative Humidity (%)      133656 non-null  int64\n",
      " 2   ChekLapKok Wind Speed (0.1 m/s)       133656 non-null  int64\n",
      " 3   ChekLapKok Wind Direction (deg)       133656 non-null  int64\n",
      " 4   ChekLapKok 60-min Rainfall (0.1 mm)   133656 non-null  int64\n",
      " 5   CheungChau Temperature (0.1 C)        133656 non-null  int64\n",
      " 6   CheungChau Relative Humidity (%)      133656 non-null  int64\n",
      " 7   CheungChau Wind Speed (0.1 m/s)       133656 non-null  int64\n",
      " 8   CheungChau Wind Direction (deg)       133656 non-null  int64\n",
      " 9   CheungChau 60-min Rainfall (0.1 mm)   133656 non-null  int64\n",
      " 10  KingsPark Temperature (0.1 C)         133656 non-null  int64\n",
      " 11  KingsPark Relative Humidity (%)       133656 non-null  int64\n",
      " 12  KingsPark Wind Speed (0.1 m/s)        133656 non-null  int64\n",
      " 13  KingsPark Wind Direction (deg)        133656 non-null  int64\n",
      " 14  KingsPark 60-min Rainfall (0.1 mm)    133656 non-null  int64\n",
      " 15  LauFauShan Temperature (0.1 C)        133656 non-null  int64\n",
      " 16  LauFauShan Relative Humidity (%)      133656 non-null  int64\n",
      " 17  LauFauShan Wind Speed (0.1 m/s)       133656 non-null  int64\n",
      " 18  LauFauShan Wind Direction (deg)       133656 non-null  int64\n",
      " 19  LauFauShan 60-min Rainfall (0.1 mm)   133656 non-null  int64\n",
      " 20  PengChau Temperature (0.1 C)          133656 non-null  int64\n",
      " 21  PengChau Relative Humidity (%)        133656 non-null  int64\n",
      " 22  PengChau Wind Speed (0.1 m/s)         133656 non-null  int64\n",
      " 23  PengChau Wind Direction (deg)         133656 non-null  int64\n",
      " 24  PengChau 60-min Rainfall (0.1 mm)     133656 non-null  int64\n",
      " 25  SaiKung Temperature (0.1 C)           133656 non-null  int64\n",
      " 26  SaiKung Relative Humidity (%)         133656 non-null  int64\n",
      " 27  SaiKung Wind Speed (0.1 m/s)          133656 non-null  int64\n",
      " 28  SaiKung Wind Direction (deg)          133656 non-null  int64\n",
      " 29  SaiKung 60-min Rainfall (0.1 mm)      133656 non-null  int64\n",
      " 30  ShaTin Temperature (0.1 C)            133656 non-null  int64\n",
      " 31  ShaTin Relative Humidity (%)          133656 non-null  int64\n",
      " 32  ShaTin Wind Speed (0.1 m/s)           133656 non-null  int64\n",
      " 33  ShaTin Wind Direction (deg)           133656 non-null  int64\n",
      " 34  ShaTin 60-min Rainfall (0.1 mm)       133656 non-null  int64\n",
      " 35  ShekKong Temperature (0.1 C)          133656 non-null  int64\n",
      " 36  ShekKong Relative Humidity (%)        133656 non-null  int64\n",
      " 37  ShekKong Wind Speed (0.1 m/s)         133656 non-null  int64\n",
      " 38  ShekKong Wind Direction (deg)         133656 non-null  int64\n",
      " 39  ShekKong 60-min Rainfall (0.1 mm)     133656 non-null  int64\n",
      " 40  TaiMoShan Temperature (0.1 C)         133656 non-null  int64\n",
      " 41  TaiMoShan Relative Humidity (%)       133656 non-null  int64\n",
      " 42  TaiMoShan Wind Speed (0.1 m/s)        133656 non-null  int64\n",
      " 43  TaiMoShan Wind Direction (deg)        133656 non-null  int64\n",
      " 44  TaiMoShan 60-min Rainfall (0.1 mm)    133656 non-null  int64\n",
      " 45  TaKwuLing Temperature (0.1 C)         133656 non-null  int64\n",
      " 46  TaKwuLing Relative Humidity (%)       133656 non-null  int64\n",
      " 47  TaKwuLing Wind Speed (0.1 m/s)        133656 non-null  int64\n",
      " 48  TaKwuLing Wind Direction (deg)        133656 non-null  int64\n",
      " 49  TaKwuLing 60-min Rainfall (0.1 mm)    133656 non-null  int64\n",
      " 50  TatesCairn Temperature (0.1 C)        133656 non-null  int64\n",
      " 51  TatesCairn Relative Humidity (%)      133656 non-null  int64\n",
      " 52  TatesCairn Wind Speed (0.1 m/s)       133656 non-null  int64\n",
      " 53  TatesCairn Wind Direction (deg)       133656 non-null  int64\n",
      " 54  TatesCairn 60-min Rainfall (0.1 mm)   133656 non-null  int64\n",
      " 55  TseungKwanO Temperature (0.1 C)       133656 non-null  int64\n",
      " 56  TseungKwanO Relative Humidity (%)     133656 non-null  int64\n",
      " 57  TseungKwanO Wind Speed (0.1 m/s)      133656 non-null  int64\n",
      " 58  TseungKwanO Wind Direction (deg)      133656 non-null  int64\n",
      " 59  TseungKwanO 60-min Rainfall (0.1 mm)  133656 non-null  int64\n",
      " 60  Waglan Temperature (0.1 C)            133656 non-null  int64\n",
      " 61  Waglan Relative Humidity (%)          133656 non-null  int64\n",
      " 62  Waglan Wind Speed (0.1 m/s)           133656 non-null  int64\n",
      " 63  Waglan Wind Direction (deg)           133656 non-null  int64\n",
      " 64  Waglan 60-min Rainfall (0.1 mm)       133656 non-null  int64\n",
      " 65  WetlandPark Temperature (0.1 C)       133656 non-null  int64\n",
      " 66  WetlandPark Relative Humidity (%)     133656 non-null  int64\n",
      " 67  WetlandPark Wind Speed (0.1 m/s)      133656 non-null  int64\n",
      " 68  WetlandPark Wind Direction (deg)      133656 non-null  int64\n",
      " 69  WetlandPark 60-min Rainfall (0.1 mm)  133656 non-null  int64\n",
      "dtypes: int64(70)\n",
      "memory usage: 72.4 MB\n",
      "None\n"
     ]
    }
   ],
   "source": [
    "from pathlib import Path\n",
    "import pandas\n",
    "import numpy\n",
    "\n",
    "# Import all files and merge all data into a single data frame\n",
    "df = pandas.DataFrame()\n",
    "for file in Path('../data').glob('*.csv'):\n",
    "    site = file.stem\n",
    "    print(\"Processing {}...\".format(site))\n",
    "\n",
    "    # Load csv file\n",
    "    _df = pandas.read_csv(\"../data/{}.csv\".format(site), dtype={'YYYYMMDD': str, 'HHMM': str})\n",
    "    _df['HHMM'] = _df['HHMM'].str.zfill(4)\n",
    "    _df.insert(0, 'Datetime', pandas.to_datetime(_df['YYYYMMDD'] + _df['HHMM']))\n",
    "    _df = _df.drop(columns=['YYYYMMDD', 'HHMM'])\n",
    "    _df = _df.set_index(['Datetime'])\n",
    "\n",
    "    # TaiMoShan.csv is different from other files:\n",
    "    if site == 'TaiMoShan':\n",
    "        # 1) It has 2 Wind Direction columns, i.e.: #3 \"Wind Direction (deg) \" and #5 \"Wind Direction (deg)\", handle it before merging\n",
    "        _df['Wind Direction (deg) '] = _df['Wind Direction (deg) '].fillna(_df['Wind Direction (deg)'])\n",
    "        _df = _df.drop(columns=['Wind Direction (deg)'])\n",
    "        # 2) Wind Direction column is in a format of xx.0, convert it to integer before merging for consistency\n",
    "        _df = _df.astype({'Wind Direction (deg) ': 'int64'})\n",
    "\n",
    "    # Add site name to column name, remove leading and tailing spaces\n",
    "    _df.columns = [site + ' ' + column_name_original.strip() for column_name_original in _df.columns]\n",
    "\n",
    "    # Merge data frame\n",
    "    df = pandas.concat([df, _df], axis=1)\n",
    "\n",
    "df.to_excel(\"output.xlsx\")\n",
    "print(df.info())"
   ]
  },
  {
   "cell_type": "code",
   "execution_count": 2,
   "metadata": {},
   "outputs": [
    {
     "name": "stdout",
     "output_type": "stream",
     "text": [
      "<class 'pandas.core.frame.DataFrame'>\n",
      "DatetimeIndex: 133656 entries, 2008-01-01 00:01:00 to 2023-03-31 23:01:00\n",
      "Data columns (total 70 columns):\n",
      " #   Column                                Non-Null Count   Dtype\n",
      "---  ------                                --------------   -----\n",
      " 0   ChekLapKok Temperature (0.1 C)        133656 non-null  int64\n",
      " 1   ChekLapKok Relative Humidity (%)      133656 non-null  int64\n",
      " 2   ChekLapKok Wind Speed (0.1 m/s)       133656 non-null  int64\n",
      " 3   ChekLapKok Wind Direction (deg)       133656 non-null  int64\n",
      " 4   ChekLapKok 60-min Rainfall (0.1 mm)   133656 non-null  int64\n",
      " 5   CheungChau Temperature (0.1 C)        133656 non-null  int64\n",
      " 6   CheungChau Relative Humidity (%)      133656 non-null  int64\n",
      " 7   CheungChau Wind Speed (0.1 m/s)       133656 non-null  int64\n",
      " 8   CheungChau Wind Direction (deg)       133656 non-null  int64\n",
      " 9   CheungChau 60-min Rainfall (0.1 mm)   133656 non-null  int64\n",
      " 10  KingsPark Temperature (0.1 C)         133656 non-null  int64\n",
      " 11  KingsPark Relative Humidity (%)       133656 non-null  int64\n",
      " 12  KingsPark Wind Speed (0.1 m/s)        133656 non-null  int64\n",
      " 13  KingsPark Wind Direction (deg)        133656 non-null  int64\n",
      " 14  KingsPark 60-min Rainfall (0.1 mm)    133656 non-null  int64\n",
      " 15  LauFauShan Temperature (0.1 C)        133656 non-null  int64\n",
      " 16  LauFauShan Relative Humidity (%)      133656 non-null  int64\n",
      " 17  LauFauShan Wind Speed (0.1 m/s)       133656 non-null  int64\n",
      " 18  LauFauShan Wind Direction (deg)       133656 non-null  int64\n",
      " 19  LauFauShan 60-min Rainfall (0.1 mm)   133656 non-null  int64\n",
      " 20  PengChau Temperature (0.1 C)          133656 non-null  int64\n",
      " 21  PengChau Relative Humidity (%)        133656 non-null  int64\n",
      " 22  PengChau Wind Speed (0.1 m/s)         133656 non-null  int64\n",
      " 23  PengChau Wind Direction (deg)         133656 non-null  int64\n",
      " 24  PengChau 60-min Rainfall (0.1 mm)     133656 non-null  int64\n",
      " 25  SaiKung Temperature (0.1 C)           133656 non-null  int64\n",
      " 26  SaiKung Relative Humidity (%)         133656 non-null  int64\n",
      " 27  SaiKung Wind Speed (0.1 m/s)          133656 non-null  int64\n",
      " 28  SaiKung Wind Direction (deg)          133656 non-null  int64\n",
      " 29  SaiKung 60-min Rainfall (0.1 mm)      133656 non-null  int64\n",
      " 30  ShaTin Temperature (0.1 C)            133656 non-null  int64\n",
      " 31  ShaTin Relative Humidity (%)          133656 non-null  int64\n",
      " 32  ShaTin Wind Speed (0.1 m/s)           133656 non-null  int64\n",
      " 33  ShaTin Wind Direction (deg)           133656 non-null  int64\n",
      " 34  ShaTin 60-min Rainfall (0.1 mm)       133656 non-null  int64\n",
      " 35  ShekKong Temperature (0.1 C)          133656 non-null  int64\n",
      " 36  ShekKong Relative Humidity (%)        133656 non-null  int64\n",
      " 37  ShekKong Wind Speed (0.1 m/s)         133656 non-null  int64\n",
      " 38  ShekKong Wind Direction (deg)         133656 non-null  int64\n",
      " 39  ShekKong 60-min Rainfall (0.1 mm)     133656 non-null  int64\n",
      " 40  TaiMoShan Temperature (0.1 C)         133656 non-null  int64\n",
      " 41  TaiMoShan Relative Humidity (%)       133656 non-null  int64\n",
      " 42  TaiMoShan Wind Speed (0.1 m/s)        133656 non-null  int64\n",
      " 43  TaiMoShan Wind Direction (deg)        133656 non-null  int64\n",
      " 44  TaiMoShan 60-min Rainfall (0.1 mm)    133656 non-null  int64\n",
      " 45  TaKwuLing Temperature (0.1 C)         133656 non-null  int64\n",
      " 46  TaKwuLing Relative Humidity (%)       133656 non-null  int64\n",
      " 47  TaKwuLing Wind Speed (0.1 m/s)        133656 non-null  int64\n",
      " 48  TaKwuLing Wind Direction (deg)        133656 non-null  int64\n",
      " 49  TaKwuLing 60-min Rainfall (0.1 mm)    133656 non-null  int64\n",
      " 50  TatesCairn Temperature (0.1 C)        133656 non-null  int64\n",
      " 51  TatesCairn Relative Humidity (%)      133656 non-null  int64\n",
      " 52  TatesCairn Wind Speed (0.1 m/s)       133656 non-null  int64\n",
      " 53  TatesCairn Wind Direction (deg)       133656 non-null  int64\n",
      " 54  TatesCairn 60-min Rainfall (0.1 mm)   133656 non-null  int64\n",
      " 55  TseungKwanO Temperature (0.1 C)       133656 non-null  int64\n",
      " 56  TseungKwanO Relative Humidity (%)     133656 non-null  int64\n",
      " 57  TseungKwanO Wind Speed (0.1 m/s)      133656 non-null  int64\n",
      " 58  TseungKwanO Wind Direction (deg)      133656 non-null  int64\n",
      " 59  TseungKwanO 60-min Rainfall (0.1 mm)  133656 non-null  int64\n",
      " 60  Waglan Temperature (0.1 C)            133656 non-null  int64\n",
      " 61  Waglan Relative Humidity (%)          133656 non-null  int64\n",
      " 62  Waglan Wind Speed (0.1 m/s)           133656 non-null  int64\n",
      " 63  Waglan Wind Direction (deg)           133656 non-null  int64\n",
      " 64  Waglan 60-min Rainfall (0.1 mm)       133656 non-null  int64\n",
      " 65  WetlandPark Temperature (0.1 C)       133656 non-null  int64\n",
      " 66  WetlandPark Relative Humidity (%)     133656 non-null  int64\n",
      " 67  WetlandPark Wind Speed (0.1 m/s)      133656 non-null  int64\n",
      " 68  WetlandPark Wind Direction (deg)      133656 non-null  int64\n",
      " 69  WetlandPark 60-min Rainfall (0.1 mm)  133656 non-null  int64\n",
      "dtypes: int64(70)\n",
      "memory usage: 72.4 MB\n",
      "None\n"
     ]
    }
   ],
   "source": [
    "from pathlib import Path\n",
    "import pandas\n",
    "import numpy\n",
    "df=pandas.read_excel('output.xlsx')\n",
    "df=df.set_index(['Datetime'])\n",
    "print(df.info())"
   ]
  },
  {
   "cell_type": "code",
   "execution_count": 21,
   "metadata": {},
   "outputs": [
    {
     "data": {
      "text/html": [
       "<div>\n",
       "<style scoped>\n",
       "    .dataframe tbody tr th:only-of-type {\n",
       "        vertical-align: middle;\n",
       "    }\n",
       "\n",
       "    .dataframe tbody tr th {\n",
       "        vertical-align: top;\n",
       "    }\n",
       "\n",
       "    .dataframe thead th {\n",
       "        text-align: right;\n",
       "    }\n",
       "</style>\n",
       "<table border=\"1\" class=\"dataframe\">\n",
       "  <thead>\n",
       "    <tr style=\"text-align: right;\">\n",
       "      <th></th>\n",
       "      <th>Temperature</th>\n",
       "      <th>Wind</th>\n",
       "      <th>Rainfall</th>\n",
       "      <th>Humid</th>\n",
       "    </tr>\n",
       "  </thead>\n",
       "  <tbody>\n",
       "    <tr>\n",
       "      <th>Temperature</th>\n",
       "      <td>1.000000</td>\n",
       "      <td>-0.173060</td>\n",
       "      <td>0.073825</td>\n",
       "      <td>0.235193</td>\n",
       "    </tr>\n",
       "    <tr>\n",
       "      <th>Wind</th>\n",
       "      <td>-0.173060</td>\n",
       "      <td>1.000000</td>\n",
       "      <td>0.126080</td>\n",
       "      <td>0.156981</td>\n",
       "    </tr>\n",
       "    <tr>\n",
       "      <th>Rainfall</th>\n",
       "      <td>0.073825</td>\n",
       "      <td>0.126080</td>\n",
       "      <td>1.000000</td>\n",
       "      <td>0.088902</td>\n",
       "    </tr>\n",
       "    <tr>\n",
       "      <th>Humid</th>\n",
       "      <td>0.235193</td>\n",
       "      <td>0.156981</td>\n",
       "      <td>0.088902</td>\n",
       "      <td>1.000000</td>\n",
       "    </tr>\n",
       "  </tbody>\n",
       "</table>\n",
       "</div>"
      ],
      "text/plain": [
       "             Temperature      Wind  Rainfall     Humid\n",
       "Temperature     1.000000 -0.173060  0.073825  0.235193\n",
       "Wind           -0.173060  1.000000  0.126080  0.156981\n",
       "Rainfall        0.073825  0.126080  1.000000  0.088902\n",
       "Humid           0.235193  0.156981  0.088902  1.000000"
      ]
     },
     "execution_count": 21,
     "metadata": {},
     "output_type": "execute_result"
    }
   ],
   "source": [
    "df_range.corr()"
   ]
  },
  {
   "cell_type": "code",
   "execution_count": 41,
   "metadata": {},
   "outputs": [],
   "source": [
    "from keras.utils.np_utils import to_categorical\n",
    "import numpy\n",
    "\n",
    "# As an example, create dataset using WetlandPark Temperature.\n",
    "# Mark invalid data as numpy.nan\n",
    "df_range = pandas.DataFrame(df[['TaiMoShan Temperature (0.1 C)','TaiMoShan Wind Speed (0.1 m/s)','TaiMoShan 60-min Rainfall (0.1 mm)','TaiMoShan Relative Humidity (%)']].replace(32767, numpy.nan))\n",
    "df_range.rename(columns = {'TaiMoShan Temperature (0.1 C)':'Temperature','TaiMoShan Wind Speed (0.1 m/s)':'Wind','TaiMoShan 60-min Rainfall (0.1 mm)':'Rainfall','TaiMoShan Relative Humidity (%)':'Humid'}, inplace = True)\n",
    "\n",
    "# For each day in range\n",
    "from datetime import date, timedelta, datetime\n",
    "start_date = datetime(2013, 1, 1)\n",
    "end_date = datetime(2023, 1, 1)\n",
    "\n",
    "# Python generator to provide date range\n",
    "# Reference: https://stackoverflow.com/questions/1060279/iterating-through-a-range-of-dates-in-python\n",
    "def daterange(start_date, end_date):\n",
    "    for n in range(int((end_date - start_date).total_seconds()//3600)):\n",
    "        yield start_date + timedelta(hours=n)\n",
    "\n",
    "# Create dataset\n",
    "dataset_inputs_1 = []\n",
    "dataset_inputs_2 = []\n",
    "dataset_inputs_3 = []\n",
    "dataset_inputs_4 = []\n",
    "dataset_inputs_5 = []\n",
    "dataset_inputs_6 = []\n",
    "dataset_outputs = []\n",
    "for single_date in daterange(start_date, end_date):\n",
    "    if df_range[single_date-timedelta(hours=7*24):single_date+timedelta(hours=24)].isnull().values.any():\n",
    "        continue  # Skip data with nan\n",
    "    df_previous_week = df_range[single_date-timedelta(hours=7*24):single_date]\n",
    "    df_coming_day = df_range[single_date:single_date+timedelta(hours=24)]\n",
    "\n",
    "    temperature_input = numpy.asarray(df_previous_week['Temperature'].values.tolist(), dtype=numpy.float32)\n",
    "    wind_input = numpy.asarray(df_previous_week['Wind'].values.tolist(), dtype=numpy.float32)\n",
    "    rain_input = numpy.asarray(df_previous_week['Rainfall'].values.tolist(), dtype=numpy.float32)\n",
    "    month_input = to_categorical(single_date.month - 1, num_classes=12, dtype=numpy.float32)\n",
    "    hour_input = to_categorical(single_date.hour, num_classes=24, dtype=numpy.float32)\n",
    "    humid_input = numpy.asarray(df_previous_week['Humid'].values.tolist(),dtype=numpy.float32)\n",
    "    temperature_output = numpy.asarray(df_coming_day['Temperature'].values.tolist(), dtype=numpy.float32)\n",
    "\n",
    "    dataset_inputs_1.append(temperature_input)\n",
    "    dataset_inputs_2.append(month_input)\n",
    "    dataset_inputs_3.append(hour_input)\n",
    "    dataset_inputs_4.append(wind_input)\n",
    "    dataset_inputs_5.append(rain_input)\n",
    "    dataset_inputs_6.append(humid_input)\n",
    "    dataset_outputs.append(temperature_output)\n",
    "    \n",
    "dataset = list(zip(dataset_inputs_1, dataset_inputs_2, dataset_inputs_3, dataset_inputs_4, dataset_inputs_5,dataset_inputs_6, dataset_outputs))"
   ]
  },
  {
   "cell_type": "code",
   "execution_count": 42,
   "metadata": {},
   "outputs": [
    {
     "name": "stdout",
     "output_type": "stream",
     "text": [
      "Dataset Size: 52129\n",
      "Training Set + Validation Set Size: 46916\n",
      "Test Set: 5213\n"
     ]
    }
   ],
   "source": [
    "# Seperate Dataset into 3 parts: training set, validation set, test set\n",
    "# For validation set, we use tensorflow's model fit built-in feature to achieve it\n",
    "\n",
    "DATASET_SIZE = len(dataset)\n",
    "trainval_size = int(0.9 * DATASET_SIZE)\n",
    "test_size = int(DATASET_SIZE - trainval_size)\n",
    "print('Dataset Size:', DATASET_SIZE)\n",
    "print('Training Set + Validation Set Size:', trainval_size)\n",
    "print('Test Set:', test_size)\n",
    "\n",
    "import random\n",
    "random.shuffle(dataset)\n",
    "\n",
    "dataset_trainval = dataset[:trainval_size]\n",
    "dataset_test = dataset[trainval_size:]\n",
    "\n",
    "trainval_input_1, trainval_input_2, trainval_input_3, trainval_input_4, trainval_input_5, trainval_input_6, trainval_output = list(zip(*dataset_trainval))\n",
    "test_input_1, test_input_2, test_input_3, test_input_4, test_input_5, test_input_6, test_output = list(zip(*dataset_test))\n",
    "\n",
    "trainval_input_1 = numpy.asarray(trainval_input_1)\n",
    "trainval_input_2 = numpy.asarray(trainval_input_2)\n",
    "trainval_input_3 = numpy.asarray(trainval_input_3)\n",
    "trainval_input_4 = numpy.asarray(trainval_input_4)\n",
    "trainval_input_5 = numpy.asarray(trainval_input_5)\n",
    "trainval_input_6 = numpy.asarray(trainval_input_6)\n",
    "trainval_output = numpy.asarray(trainval_output)\n",
    "test_input_1 = numpy.asarray(test_input_1)\n",
    "test_input_2 = numpy.asarray(test_input_2)\n",
    "test_input_3 = numpy.asarray(test_input_3)\n",
    "test_input_4 = numpy.asarray(test_input_4)\n",
    "test_input_5 = numpy.asarray(test_input_5)\n",
    "test_input_6 = numpy.asarray(test_input_6)\n",
    "test_output = numpy.asarray(test_output)"
   ]
  },
  {
   "cell_type": "code",
   "execution_count": 61,
   "metadata": {},
   "outputs": [
    {
     "data": {
      "text/plain": [
       "168"
      ]
     },
     "execution_count": 61,
     "metadata": {},
     "output_type": "execute_result"
    }
   ],
   "source": [
    "temperature_input.shape[0]"
   ]
  },
  {
   "cell_type": "code",
   "execution_count": 43,
   "metadata": {},
   "outputs": [
    {
     "name": "stdout",
     "output_type": "stream",
     "text": [
      "2.14.0-dev20230518\n",
      "Model: \"model_2\"\n",
      "__________________________________________________________________________________________________\n",
      " Layer (type)                Output Shape                 Param #   Connected to                  \n",
      "==================================================================================================\n",
      " input_19 (InputLayer)       [(None, 168)]                0         []                            \n",
      "                                                                                                  \n",
      " input_20 (InputLayer)       [(None, 12)]                 0         []                            \n",
      "                                                                                                  \n",
      " input_21 (InputLayer)       [(None, 24)]                 0         []                            \n",
      "                                                                                                  \n",
      " input_22 (InputLayer)       [(None, 168)]                0         []                            \n",
      "                                                                                                  \n",
      " input_23 (InputLayer)       [(None, 168)]                0         []                            \n",
      "                                                                                                  \n",
      " input_24 (InputLayer)       [(None, 168)]                0         []                            \n",
      "                                                                                                  \n",
      " concatenate_3 (Concatenate  (None, 708)                  0         ['input_19[0][0]',            \n",
      " )                                                                   'input_20[0][0]',            \n",
      "                                                                     'input_21[0][0]',            \n",
      "                                                                     'input_22[0][0]',            \n",
      "                                                                     'input_23[0][0]',            \n",
      "                                                                     'input_24[0][0]']            \n",
      "                                                                                                  \n",
      " dense_8 (Dense)             (None, 256)                  181504    ['concatenate_3[0][0]']       \n",
      "                                                                                                  \n",
      " dense_9 (Dense)             (None, 128)                  32896     ['dense_8[0][0]']             \n",
      "                                                                                                  \n",
      " dense_10 (Dense)            (None, 64)                   8256      ['dense_9[0][0]']             \n",
      "                                                                                                  \n",
      " dense_11 (Dense)            (None, 24)                   1560      ['dense_10[0][0]']            \n",
      "                                                                                                  \n",
      "==================================================================================================\n",
      "Total params: 224216 (875.84 KB)\n",
      "Trainable params: 224216 (875.84 KB)\n",
      "Non-trainable params: 0 (0.00 Byte)\n",
      "__________________________________________________________________________________________________\n"
     ]
    }
   ],
   "source": [
    "# Define the architecture of the model\n",
    "\n",
    "import tensorflow as tf\n",
    "print(tf.__version__)\n",
    "\n",
    "temperature_input = tf.keras.Input(shape=(temperature_input.shape[0],))\n",
    "month_input = tf.keras.Input(shape=(month_input.shape[0],))\n",
    "hour_input = tf.keras.Input(shape=(hour_input.shape[0],))\n",
    "wind_input = tf.keras.Input(shape=(wind_input.shape[0],))\n",
    "rain_input = tf.keras.Input(shape=(rain_input.shape[0],))\n",
    "humid_input = tf.keras.Input(shape=(humid_input.shape[0],))\n",
    "\n",
    "merged_model = tf.keras.layers.concatenate([temperature_input, month_input, hour_input,wind_input,rain_input,humid_input])\n",
    "dense1 = tf.keras.layers.Dense(256, activation=tf.keras.layers.LeakyReLU(alpha=0.01))(merged_model)\n",
    "dense2 = tf.keras.layers.Dense(128, activation=tf.keras.layers.LeakyReLU(alpha=0.01))(dense1)\n",
    "dense3 = tf.keras.layers.Dense(64, activation=tf.keras.layers.LeakyReLU(alpha=0.01))(dense2)\n",
    "dense4 = tf.keras.layers.Dense(24, activation=tf.keras.layers.LeakyReLU(alpha=0.01))(dense3)\n",
    "\n",
    "callback = tf.keras.callbacks.EarlyStopping(monitor='loss', patience=20)\n",
    "model = tf.keras.models.Model(inputs=[temperature_input, month_input, hour_input,wind_input,rain_input,humid_input], outputs=dense4)\n",
    "model.summary()\n",
    "\n",
    "model.compile(loss=tf.keras.losses.MeanSquaredError(),\n",
    "              optimizer=tf.keras.optimizers.Adam(),\n",
    "              metrics=[tf.keras.metrics.MeanAbsoluteError()])"
   ]
  },
  {
   "cell_type": "code",
   "execution_count": 44,
   "metadata": {},
   "outputs": [
    {
     "name": "stdout",
     "output_type": "stream",
     "text": [
      "Epoch 1/300\n"
     ]
    },
    {
     "name": "stdout",
     "output_type": "stream",
     "text": [
      "1247/1247 [==============================] - 6s 4ms/step - loss: 760.7733 - mean_absolute_error: 17.0694 - val_loss: 426.4673 - val_mean_absolute_error: 16.4170\n",
      "Epoch 2/300\n",
      "1247/1247 [==============================] - 5s 4ms/step - loss: 327.9634 - mean_absolute_error: 13.3948 - val_loss: 285.0106 - val_mean_absolute_error: 12.2844\n",
      "Epoch 3/300\n",
      "1247/1247 [==============================] - 4s 4ms/step - loss: 300.5214 - mean_absolute_error: 12.7409 - val_loss: 282.5563 - val_mean_absolute_error: 12.3150\n",
      "Epoch 4/300\n",
      "1247/1247 [==============================] - 6s 4ms/step - loss: 290.3274 - mean_absolute_error: 12.5101 - val_loss: 305.1718 - val_mean_absolute_error: 13.1848\n",
      "Epoch 5/300\n",
      "1247/1247 [==============================] - 5s 4ms/step - loss: 283.3291 - mean_absolute_error: 12.3278 - val_loss: 325.2005 - val_mean_absolute_error: 13.2509\n",
      "Epoch 6/300\n",
      "1247/1247 [==============================] - 6s 5ms/step - loss: 272.9836 - mean_absolute_error: 12.0693 - val_loss: 276.5322 - val_mean_absolute_error: 12.3199\n",
      "Epoch 7/300\n",
      "1247/1247 [==============================] - 7s 5ms/step - loss: 265.1880 - mean_absolute_error: 11.8842 - val_loss: 252.6322 - val_mean_absolute_error: 11.5929\n",
      "Epoch 8/300\n",
      "1247/1247 [==============================] - 6s 5ms/step - loss: 265.6034 - mean_absolute_error: 11.9217 - val_loss: 253.1071 - val_mean_absolute_error: 11.5906\n",
      "Epoch 9/300\n",
      "1247/1247 [==============================] - 6s 4ms/step - loss: 257.8613 - mean_absolute_error: 11.7038 - val_loss: 249.3470 - val_mean_absolute_error: 11.4489\n",
      "Epoch 10/300\n",
      "1247/1247 [==============================] - 6s 4ms/step - loss: 258.0047 - mean_absolute_error: 11.7420 - val_loss: 235.4569 - val_mean_absolute_error: 11.0595\n",
      "Epoch 11/300\n",
      "1247/1247 [==============================] - 5s 4ms/step - loss: 251.3596 - mean_absolute_error: 11.5528 - val_loss: 239.8970 - val_mean_absolute_error: 11.0434\n",
      "Epoch 12/300\n",
      "1247/1247 [==============================] - 6s 4ms/step - loss: 246.8969 - mean_absolute_error: 11.4384 - val_loss: 281.7582 - val_mean_absolute_error: 12.1949\n",
      "Epoch 13/300\n",
      "1247/1247 [==============================] - 6s 5ms/step - loss: 242.7269 - mean_absolute_error: 11.3263 - val_loss: 234.8441 - val_mean_absolute_error: 11.2341\n",
      "Epoch 14/300\n",
      "1247/1247 [==============================] - 9s 7ms/step - loss: 242.6716 - mean_absolute_error: 11.3596 - val_loss: 260.1067 - val_mean_absolute_error: 12.0488\n",
      "Epoch 15/300\n",
      "1247/1247 [==============================] - 12s 9ms/step - loss: 237.2989 - mean_absolute_error: 11.2217 - val_loss: 234.4257 - val_mean_absolute_error: 11.1361\n",
      "Epoch 16/300\n",
      "1247/1247 [==============================] - 11s 9ms/step - loss: 233.0403 - mean_absolute_error: 11.1204 - val_loss: 329.8792 - val_mean_absolute_error: 14.7180\n",
      "Epoch 17/300\n",
      "1247/1247 [==============================] - 8s 6ms/step - loss: 231.5338 - mean_absolute_error: 11.0902 - val_loss: 234.3788 - val_mean_absolute_error: 11.2765\n",
      "Epoch 18/300\n",
      "1247/1247 [==============================] - 6s 5ms/step - loss: 227.7114 - mean_absolute_error: 10.9908 - val_loss: 227.4466 - val_mean_absolute_error: 11.0151\n",
      "Epoch 19/300\n",
      "1247/1247 [==============================] - 7s 5ms/step - loss: 225.7868 - mean_absolute_error: 10.9593 - val_loss: 216.8763 - val_mean_absolute_error: 10.6440\n",
      "Epoch 20/300\n",
      "1247/1247 [==============================] - 8s 7ms/step - loss: 222.7361 - mean_absolute_error: 10.8876 - val_loss: 241.4268 - val_mean_absolute_error: 11.5489\n",
      "Epoch 21/300\n",
      "1247/1247 [==============================] - 7s 5ms/step - loss: 220.4546 - mean_absolute_error: 10.8399 - val_loss: 236.5752 - val_mean_absolute_error: 11.3748\n",
      "Epoch 22/300\n",
      "1247/1247 [==============================] - 8s 7ms/step - loss: 215.8989 - mean_absolute_error: 10.7297 - val_loss: 241.5427 - val_mean_absolute_error: 11.4345\n",
      "Epoch 23/300\n",
      "1247/1247 [==============================] - 9s 7ms/step - loss: 213.9632 - mean_absolute_error: 10.7010 - val_loss: 253.3860 - val_mean_absolute_error: 11.8226\n",
      "Epoch 24/300\n",
      "1247/1247 [==============================] - 9s 7ms/step - loss: 212.5221 - mean_absolute_error: 10.6525 - val_loss: 261.4710 - val_mean_absolute_error: 11.7282\n",
      "Epoch 25/300\n",
      "1247/1247 [==============================] - 9s 7ms/step - loss: 211.7040 - mean_absolute_error: 10.6659 - val_loss: 215.4908 - val_mean_absolute_error: 10.4568\n",
      "Epoch 26/300\n",
      "1247/1247 [==============================] - 8s 7ms/step - loss: 205.2816 - mean_absolute_error: 10.4864 - val_loss: 217.9870 - val_mean_absolute_error: 10.6714\n",
      "Epoch 27/300\n",
      "1247/1247 [==============================] - 6s 5ms/step - loss: 207.0895 - mean_absolute_error: 10.5599 - val_loss: 213.9848 - val_mean_absolute_error: 10.5576\n",
      "Epoch 28/300\n",
      "1247/1247 [==============================] - 6s 5ms/step - loss: 203.4557 - mean_absolute_error: 10.4454 - val_loss: 252.5698 - val_mean_absolute_error: 12.1852\n",
      "Epoch 29/300\n",
      "1247/1247 [==============================] - 6s 5ms/step - loss: 200.2847 - mean_absolute_error: 10.3778 - val_loss: 250.5295 - val_mean_absolute_error: 12.1637\n",
      "Epoch 30/300\n",
      "1247/1247 [==============================] - 6s 5ms/step - loss: 196.3195 - mean_absolute_error: 10.2793 - val_loss: 208.6574 - val_mean_absolute_error: 10.4101\n",
      "Epoch 31/300\n",
      "1247/1247 [==============================] - 6s 5ms/step - loss: 196.7319 - mean_absolute_error: 10.2930 - val_loss: 221.1081 - val_mean_absolute_error: 11.3024\n",
      "Epoch 32/300\n",
      "1247/1247 [==============================] - 6s 5ms/step - loss: 192.2678 - mean_absolute_error: 10.1775 - val_loss: 189.3415 - val_mean_absolute_error: 10.0241\n",
      "Epoch 33/300\n",
      "1247/1247 [==============================] - 6s 5ms/step - loss: 190.7271 - mean_absolute_error: 10.1426 - val_loss: 213.4490 - val_mean_absolute_error: 10.7505\n",
      "Epoch 34/300\n",
      "1247/1247 [==============================] - 6s 5ms/step - loss: 189.0015 - mean_absolute_error: 10.0919 - val_loss: 194.8164 - val_mean_absolute_error: 10.1725\n",
      "Epoch 35/300\n",
      "1247/1247 [==============================] - 6s 5ms/step - loss: 184.5121 - mean_absolute_error: 9.9949 - val_loss: 200.0879 - val_mean_absolute_error: 10.3532\n",
      "Epoch 36/300\n",
      "1247/1247 [==============================] - 6s 5ms/step - loss: 183.4742 - mean_absolute_error: 9.9497 - val_loss: 181.9814 - val_mean_absolute_error: 9.7947\n",
      "Epoch 37/300\n",
      "1247/1247 [==============================] - 6s 5ms/step - loss: 179.4778 - mean_absolute_error: 9.8436 - val_loss: 187.6482 - val_mean_absolute_error: 9.9741\n",
      "Epoch 38/300\n",
      "1247/1247 [==============================] - 7s 5ms/step - loss: 179.5613 - mean_absolute_error: 9.8571 - val_loss: 186.1237 - val_mean_absolute_error: 9.9482\n",
      "Epoch 39/300\n",
      "1247/1247 [==============================] - 6s 5ms/step - loss: 176.6392 - mean_absolute_error: 9.8015 - val_loss: 181.9861 - val_mean_absolute_error: 9.8185\n",
      "Epoch 40/300\n",
      "1247/1247 [==============================] - 6s 5ms/step - loss: 174.6889 - mean_absolute_error: 9.7420 - val_loss: 199.2990 - val_mean_absolute_error: 10.1976\n",
      "Epoch 41/300\n",
      "1247/1247 [==============================] - 6s 5ms/step - loss: 172.3347 - mean_absolute_error: 9.6718 - val_loss: 212.0012 - val_mean_absolute_error: 10.7227\n",
      "Epoch 42/300\n",
      "1247/1247 [==============================] - 6s 5ms/step - loss: 170.2767 - mean_absolute_error: 9.6070 - val_loss: 203.8181 - val_mean_absolute_error: 10.7264\n",
      "Epoch 43/300\n",
      "1247/1247 [==============================] - 6s 5ms/step - loss: 167.5430 - mean_absolute_error: 9.5456 - val_loss: 168.2524 - val_mean_absolute_error: 9.4975\n",
      "Epoch 44/300\n",
      "1247/1247 [==============================] - 6s 5ms/step - loss: 165.6237 - mean_absolute_error: 9.4870 - val_loss: 182.3866 - val_mean_absolute_error: 9.8155\n",
      "Epoch 45/300\n",
      "1247/1247 [==============================] - 6s 5ms/step - loss: 163.7626 - mean_absolute_error: 9.4506 - val_loss: 182.0226 - val_mean_absolute_error: 9.9016\n",
      "Epoch 46/300\n",
      "1247/1247 [==============================] - 6s 5ms/step - loss: 164.5541 - mean_absolute_error: 9.4779 - val_loss: 166.0303 - val_mean_absolute_error: 9.4441\n",
      "Epoch 47/300\n",
      "1247/1247 [==============================] - 6s 5ms/step - loss: 162.9641 - mean_absolute_error: 9.4265 - val_loss: 202.2225 - val_mean_absolute_error: 10.5800\n",
      "Epoch 48/300\n",
      "1247/1247 [==============================] - 6s 5ms/step - loss: 163.9865 - mean_absolute_error: 9.4783 - val_loss: 179.0327 - val_mean_absolute_error: 9.8768\n",
      "Epoch 49/300\n",
      "1247/1247 [==============================] - 6s 5ms/step - loss: 158.4788 - mean_absolute_error: 9.3044 - val_loss: 208.1423 - val_mean_absolute_error: 11.0520\n",
      "Epoch 50/300\n",
      "1247/1247 [==============================] - 6s 5ms/step - loss: 155.8624 - mean_absolute_error: 9.2528 - val_loss: 165.9620 - val_mean_absolute_error: 9.5428\n",
      "Epoch 51/300\n",
      "1247/1247 [==============================] - 6s 5ms/step - loss: 153.5985 - mean_absolute_error: 9.1803 - val_loss: 188.6347 - val_mean_absolute_error: 10.3745\n",
      "Epoch 52/300\n",
      "1247/1247 [==============================] - 7s 5ms/step - loss: 153.4157 - mean_absolute_error: 9.2004 - val_loss: 190.1492 - val_mean_absolute_error: 10.7044\n",
      "Epoch 53/300\n",
      "1247/1247 [==============================] - 6s 5ms/step - loss: 152.8185 - mean_absolute_error: 9.1676 - val_loss: 179.4081 - val_mean_absolute_error: 9.9271\n",
      "Epoch 54/300\n",
      "1247/1247 [==============================] - 6s 5ms/step - loss: 150.3652 - mean_absolute_error: 9.1071 - val_loss: 160.4978 - val_mean_absolute_error: 9.3420\n",
      "Epoch 55/300\n",
      "1247/1247 [==============================] - 6s 5ms/step - loss: 146.8643 - mean_absolute_error: 8.9974 - val_loss: 178.0262 - val_mean_absolute_error: 9.8888\n",
      "Epoch 56/300\n",
      "1247/1247 [==============================] - 6s 5ms/step - loss: 147.4785 - mean_absolute_error: 9.0289 - val_loss: 170.9676 - val_mean_absolute_error: 9.8304\n",
      "Epoch 57/300\n",
      "1247/1247 [==============================] - 6s 5ms/step - loss: 146.2092 - mean_absolute_error: 8.9929 - val_loss: 170.7082 - val_mean_absolute_error: 9.6865\n",
      "Epoch 58/300\n",
      "1247/1247 [==============================] - 6s 5ms/step - loss: 144.1057 - mean_absolute_error: 8.9265 - val_loss: 162.4557 - val_mean_absolute_error: 9.3697\n",
      "Epoch 59/300\n",
      "1247/1247 [==============================] - 7s 5ms/step - loss: 143.5886 - mean_absolute_error: 8.9159 - val_loss: 155.9774 - val_mean_absolute_error: 9.1935\n",
      "Epoch 60/300\n",
      "1247/1247 [==============================] - 6s 4ms/step - loss: 139.7147 - mean_absolute_error: 8.7910 - val_loss: 159.3486 - val_mean_absolute_error: 9.3043\n",
      "Epoch 61/300\n",
      "1247/1247 [==============================] - 6s 5ms/step - loss: 137.8415 - mean_absolute_error: 8.7331 - val_loss: 167.7925 - val_mean_absolute_error: 9.6359\n",
      "Epoch 62/300\n",
      "1247/1247 [==============================] - 6s 5ms/step - loss: 138.9522 - mean_absolute_error: 8.7999 - val_loss: 155.2312 - val_mean_absolute_error: 9.1535\n",
      "Epoch 63/300\n",
      "1247/1247 [==============================] - 6s 5ms/step - loss: 146.5142 - mean_absolute_error: 8.9643 - val_loss: 154.0666 - val_mean_absolute_error: 9.1240\n",
      "Epoch 64/300\n",
      "1247/1247 [==============================] - 6s 5ms/step - loss: 137.1969 - mean_absolute_error: 8.7187 - val_loss: 153.0438 - val_mean_absolute_error: 9.2180\n",
      "Epoch 65/300\n",
      "1247/1247 [==============================] - 6s 5ms/step - loss: 133.8486 - mean_absolute_error: 8.6380 - val_loss: 155.5132 - val_mean_absolute_error: 9.2543\n",
      "Epoch 66/300\n",
      "1247/1247 [==============================] - 6s 5ms/step - loss: 133.6390 - mean_absolute_error: 8.6306 - val_loss: 147.3341 - val_mean_absolute_error: 9.0510\n",
      "Epoch 67/300\n",
      "1247/1247 [==============================] - 6s 5ms/step - loss: 132.3161 - mean_absolute_error: 8.6015 - val_loss: 148.9416 - val_mean_absolute_error: 9.0724\n",
      "Epoch 68/300\n",
      "1247/1247 [==============================] - 6s 5ms/step - loss: 132.2839 - mean_absolute_error: 8.5772 - val_loss: 146.1948 - val_mean_absolute_error: 8.9588\n",
      "Epoch 69/300\n",
      "1247/1247 [==============================] - 6s 5ms/step - loss: 129.9308 - mean_absolute_error: 8.5088 - val_loss: 169.7789 - val_mean_absolute_error: 9.7040\n",
      "Epoch 70/300\n",
      "1247/1247 [==============================] - 6s 5ms/step - loss: 128.3392 - mean_absolute_error: 8.4639 - val_loss: 138.1327 - val_mean_absolute_error: 8.6956\n",
      "Epoch 71/300\n",
      "1247/1247 [==============================] - 6s 5ms/step - loss: 127.8551 - mean_absolute_error: 8.4502 - val_loss: 188.7850 - val_mean_absolute_error: 10.2317\n",
      "Epoch 72/300\n",
      "1247/1247 [==============================] - 6s 5ms/step - loss: 128.5870 - mean_absolute_error: 8.4840 - val_loss: 156.1804 - val_mean_absolute_error: 9.3755\n",
      "Epoch 73/300\n",
      "1247/1247 [==============================] - 6s 5ms/step - loss: 125.4325 - mean_absolute_error: 8.3794 - val_loss: 150.4416 - val_mean_absolute_error: 9.1187\n",
      "Epoch 74/300\n",
      "1247/1247 [==============================] - 6s 5ms/step - loss: 125.4062 - mean_absolute_error: 8.3618 - val_loss: 142.5269 - val_mean_absolute_error: 8.7935\n",
      "Epoch 75/300\n",
      "1247/1247 [==============================] - 6s 5ms/step - loss: 125.9484 - mean_absolute_error: 8.4050 - val_loss: 149.1927 - val_mean_absolute_error: 8.9377\n",
      "Epoch 76/300\n",
      "1247/1247 [==============================] - 6s 5ms/step - loss: 122.9708 - mean_absolute_error: 8.2981 - val_loss: 140.1423 - val_mean_absolute_error: 8.7900\n",
      "Epoch 77/300\n",
      "1247/1247 [==============================] - 6s 5ms/step - loss: 122.7933 - mean_absolute_error: 8.3004 - val_loss: 161.8148 - val_mean_absolute_error: 9.4425\n",
      "Epoch 78/300\n",
      "1247/1247 [==============================] - 6s 5ms/step - loss: 124.4830 - mean_absolute_error: 8.3495 - val_loss: 136.5942 - val_mean_absolute_error: 8.6095\n",
      "Epoch 79/300\n",
      "1247/1247 [==============================] - 6s 5ms/step - loss: 121.8730 - mean_absolute_error: 8.2697 - val_loss: 152.8743 - val_mean_absolute_error: 9.1540\n",
      "Epoch 80/300\n",
      "1247/1247 [==============================] - 6s 5ms/step - loss: 119.9301 - mean_absolute_error: 8.2069 - val_loss: 157.1900 - val_mean_absolute_error: 9.5467\n",
      "Epoch 81/300\n",
      "1247/1247 [==============================] - 6s 5ms/step - loss: 119.1284 - mean_absolute_error: 8.1750 - val_loss: 132.9056 - val_mean_absolute_error: 8.5517\n",
      "Epoch 82/300\n",
      "1247/1247 [==============================] - 6s 5ms/step - loss: 117.7148 - mean_absolute_error: 8.1152 - val_loss: 155.2492 - val_mean_absolute_error: 9.5034\n",
      "Epoch 83/300\n",
      "1247/1247 [==============================] - 6s 5ms/step - loss: 119.0837 - mean_absolute_error: 8.1772 - val_loss: 133.4887 - val_mean_absolute_error: 8.5291\n",
      "Epoch 84/300\n",
      "1247/1247 [==============================] - 6s 5ms/step - loss: 116.0641 - mean_absolute_error: 8.0766 - val_loss: 142.8772 - val_mean_absolute_error: 8.9140\n",
      "Epoch 85/300\n",
      "1247/1247 [==============================] - 6s 5ms/step - loss: 118.3440 - mean_absolute_error: 8.1610 - val_loss: 195.3014 - val_mean_absolute_error: 10.3523\n",
      "Epoch 86/300\n",
      "1247/1247 [==============================] - 6s 5ms/step - loss: 117.4931 - mean_absolute_error: 8.1160 - val_loss: 142.5364 - val_mean_absolute_error: 8.9309\n",
      "Epoch 87/300\n",
      "1247/1247 [==============================] - 6s 5ms/step - loss: 114.8553 - mean_absolute_error: 8.0425 - val_loss: 151.0867 - val_mean_absolute_error: 9.2674\n",
      "Epoch 88/300\n",
      "1247/1247 [==============================] - 6s 5ms/step - loss: 114.1217 - mean_absolute_error: 8.0060 - val_loss: 185.7157 - val_mean_absolute_error: 10.5446\n",
      "Epoch 89/300\n",
      "1247/1247 [==============================] - 6s 5ms/step - loss: 116.2481 - mean_absolute_error: 8.0813 - val_loss: 127.1589 - val_mean_absolute_error: 8.3289\n",
      "Epoch 90/300\n",
      "1247/1247 [==============================] - 6s 5ms/step - loss: 113.4815 - mean_absolute_error: 7.9864 - val_loss: 144.5670 - val_mean_absolute_error: 8.8275\n",
      "Epoch 91/300\n",
      "1247/1247 [==============================] - 6s 5ms/step - loss: 111.3422 - mean_absolute_error: 7.9202 - val_loss: 155.5762 - val_mean_absolute_error: 9.1582\n",
      "Epoch 92/300\n",
      "1247/1247 [==============================] - 6s 5ms/step - loss: 113.4939 - mean_absolute_error: 7.9909 - val_loss: 132.3732 - val_mean_absolute_error: 8.5287\n",
      "Epoch 93/300\n",
      "1247/1247 [==============================] - 6s 5ms/step - loss: 111.0077 - mean_absolute_error: 7.9179 - val_loss: 131.2974 - val_mean_absolute_error: 8.5360\n",
      "Epoch 94/300\n",
      "1247/1247 [==============================] - 6s 5ms/step - loss: 110.6439 - mean_absolute_error: 7.8928 - val_loss: 127.5864 - val_mean_absolute_error: 8.3835\n",
      "Epoch 95/300\n",
      "1247/1247 [==============================] - 6s 5ms/step - loss: 111.2703 - mean_absolute_error: 7.9175 - val_loss: 131.2141 - val_mean_absolute_error: 8.5389\n",
      "Epoch 96/300\n",
      "1247/1247 [==============================] - 6s 5ms/step - loss: 108.8020 - mean_absolute_error: 7.8250 - val_loss: 156.0895 - val_mean_absolute_error: 9.2861\n",
      "Epoch 97/300\n",
      "1247/1247 [==============================] - 6s 5ms/step - loss: 111.7568 - mean_absolute_error: 7.9233 - val_loss: 134.8813 - val_mean_absolute_error: 8.6099\n",
      "Epoch 98/300\n",
      "1247/1247 [==============================] - 6s 5ms/step - loss: 108.5127 - mean_absolute_error: 7.8243 - val_loss: 122.4809 - val_mean_absolute_error: 8.2389\n",
      "Epoch 99/300\n",
      "1247/1247 [==============================] - 6s 5ms/step - loss: 108.1188 - mean_absolute_error: 7.8013 - val_loss: 126.2815 - val_mean_absolute_error: 8.3587\n",
      "Epoch 100/300\n",
      "1247/1247 [==============================] - 6s 5ms/step - loss: 107.5186 - mean_absolute_error: 7.7871 - val_loss: 125.9765 - val_mean_absolute_error: 8.3535\n",
      "Epoch 101/300\n",
      "1247/1247 [==============================] - 6s 5ms/step - loss: 108.3981 - mean_absolute_error: 7.8197 - val_loss: 146.3124 - val_mean_absolute_error: 9.1646\n",
      "Epoch 102/300\n",
      "1247/1247 [==============================] - 6s 5ms/step - loss: 107.8353 - mean_absolute_error: 7.8053 - val_loss: 129.0536 - val_mean_absolute_error: 8.4777\n",
      "Epoch 103/300\n",
      "1247/1247 [==============================] - 6s 5ms/step - loss: 107.3784 - mean_absolute_error: 7.7598 - val_loss: 133.1622 - val_mean_absolute_error: 8.5286\n",
      "Epoch 104/300\n",
      "1247/1247 [==============================] - 6s 5ms/step - loss: 105.2852 - mean_absolute_error: 7.7019 - val_loss: 120.0155 - val_mean_absolute_error: 8.1398\n",
      "Epoch 105/300\n",
      "1247/1247 [==============================] - 6s 5ms/step - loss: 104.8064 - mean_absolute_error: 7.6846 - val_loss: 122.4165 - val_mean_absolute_error: 8.1881\n",
      "Epoch 106/300\n",
      "1247/1247 [==============================] - 6s 5ms/step - loss: 106.1943 - mean_absolute_error: 7.7460 - val_loss: 125.7318 - val_mean_absolute_error: 8.3191\n",
      "Epoch 107/300\n",
      "1247/1247 [==============================] - 6s 5ms/step - loss: 105.5043 - mean_absolute_error: 7.7164 - val_loss: 138.6811 - val_mean_absolute_error: 8.8890\n",
      "Epoch 108/300\n",
      "1247/1247 [==============================] - 6s 5ms/step - loss: 104.3277 - mean_absolute_error: 7.6856 - val_loss: 138.2910 - val_mean_absolute_error: 8.7140\n",
      "Epoch 109/300\n",
      "1247/1247 [==============================] - 6s 5ms/step - loss: 107.7989 - mean_absolute_error: 7.7595 - val_loss: 123.9551 - val_mean_absolute_error: 8.3345\n",
      "Epoch 110/300\n",
      "1247/1247 [==============================] - 6s 5ms/step - loss: 111.8006 - mean_absolute_error: 7.8828 - val_loss: 123.3464 - val_mean_absolute_error: 8.2344\n",
      "Epoch 111/300\n",
      "1247/1247 [==============================] - 6s 5ms/step - loss: 105.3935 - mean_absolute_error: 7.6982 - val_loss: 123.8012 - val_mean_absolute_error: 8.4077\n",
      "Epoch 112/300\n",
      "1247/1247 [==============================] - 6s 5ms/step - loss: 105.2851 - mean_absolute_error: 7.6822 - val_loss: 129.4277 - val_mean_absolute_error: 8.4165\n",
      "Epoch 113/300\n",
      "1247/1247 [==============================] - 6s 5ms/step - loss: 103.1980 - mean_absolute_error: 7.6209 - val_loss: 147.3730 - val_mean_absolute_error: 9.3328\n",
      "Epoch 114/300\n",
      "1247/1247 [==============================] - 6s 5ms/step - loss: 101.8080 - mean_absolute_error: 7.5858 - val_loss: 126.9047 - val_mean_absolute_error: 8.4356\n",
      "Epoch 115/300\n",
      "1247/1247 [==============================] - 6s 5ms/step - loss: 101.2043 - mean_absolute_error: 7.5509 - val_loss: 123.7895 - val_mean_absolute_error: 8.3445\n",
      "Epoch 116/300\n",
      "1247/1247 [==============================] - 6s 5ms/step - loss: 103.1528 - mean_absolute_error: 7.6123 - val_loss: 130.2654 - val_mean_absolute_error: 8.5851\n",
      "Epoch 117/300\n",
      "1247/1247 [==============================] - 6s 5ms/step - loss: 98.7353 - mean_absolute_error: 7.4675 - val_loss: 129.4901 - val_mean_absolute_error: 8.5733\n",
      "Epoch 118/300\n",
      "1247/1247 [==============================] - 6s 5ms/step - loss: 100.2443 - mean_absolute_error: 7.5129 - val_loss: 114.8195 - val_mean_absolute_error: 7.9986\n",
      "Epoch 119/300\n",
      "1247/1247 [==============================] - 6s 5ms/step - loss: 100.8042 - mean_absolute_error: 7.5422 - val_loss: 123.1236 - val_mean_absolute_error: 8.2587\n",
      "Epoch 120/300\n",
      "1247/1247 [==============================] - 6s 5ms/step - loss: 99.5869 - mean_absolute_error: 7.5010 - val_loss: 117.8745 - val_mean_absolute_error: 8.0917\n",
      "Epoch 121/300\n",
      "1247/1247 [==============================] - 6s 5ms/step - loss: 98.5662 - mean_absolute_error: 7.4572 - val_loss: 126.8178 - val_mean_absolute_error: 8.4551\n",
      "Epoch 122/300\n",
      "1247/1247 [==============================] - 6s 5ms/step - loss: 99.6993 - mean_absolute_error: 7.4981 - val_loss: 125.7533 - val_mean_absolute_error: 8.5250\n",
      "Epoch 123/300\n",
      "1247/1247 [==============================] - 6s 5ms/step - loss: 98.6954 - mean_absolute_error: 7.4500 - val_loss: 122.0932 - val_mean_absolute_error: 8.2154\n",
      "Epoch 124/300\n",
      "1247/1247 [==============================] - 6s 5ms/step - loss: 97.7486 - mean_absolute_error: 7.4265 - val_loss: 131.1732 - val_mean_absolute_error: 8.6820\n",
      "Epoch 125/300\n",
      "1247/1247 [==============================] - 6s 5ms/step - loss: 97.3628 - mean_absolute_error: 7.4201 - val_loss: 112.7312 - val_mean_absolute_error: 7.9352\n",
      "Epoch 126/300\n",
      "1247/1247 [==============================] - 6s 5ms/step - loss: 99.3777 - mean_absolute_error: 7.4826 - val_loss: 111.6852 - val_mean_absolute_error: 7.8399\n",
      "Epoch 127/300\n",
      "1247/1247 [==============================] - 6s 5ms/step - loss: 96.5028 - mean_absolute_error: 7.3825 - val_loss: 113.8150 - val_mean_absolute_error: 7.9675\n",
      "Epoch 128/300\n",
      "1247/1247 [==============================] - 6s 5ms/step - loss: 98.1963 - mean_absolute_error: 7.4380 - val_loss: 122.3282 - val_mean_absolute_error: 8.2700\n",
      "Epoch 129/300\n",
      "1247/1247 [==============================] - 6s 5ms/step - loss: 98.7531 - mean_absolute_error: 7.4520 - val_loss: 125.2897 - val_mean_absolute_error: 8.3223\n",
      "Epoch 130/300\n",
      "1247/1247 [==============================] - 6s 5ms/step - loss: 95.4475 - mean_absolute_error: 7.3277 - val_loss: 119.5109 - val_mean_absolute_error: 8.1276\n",
      "Epoch 131/300\n",
      "1247/1247 [==============================] - 6s 5ms/step - loss: 95.2450 - mean_absolute_error: 7.3207 - val_loss: 115.4075 - val_mean_absolute_error: 8.0102\n",
      "Epoch 132/300\n",
      "1247/1247 [==============================] - 6s 5ms/step - loss: 95.3899 - mean_absolute_error: 7.3368 - val_loss: 128.8551 - val_mean_absolute_error: 8.5611\n",
      "Epoch 133/300\n",
      "1247/1247 [==============================] - 6s 5ms/step - loss: 96.8177 - mean_absolute_error: 7.3939 - val_loss: 114.4754 - val_mean_absolute_error: 7.9773\n",
      "Epoch 134/300\n",
      "1247/1247 [==============================] - 6s 5ms/step - loss: 93.6919 - mean_absolute_error: 7.2660 - val_loss: 111.6854 - val_mean_absolute_error: 7.8909\n",
      "Epoch 135/300\n",
      "1247/1247 [==============================] - 6s 5ms/step - loss: 94.2425 - mean_absolute_error: 7.2920 - val_loss: 111.0090 - val_mean_absolute_error: 7.8768\n",
      "Epoch 136/300\n",
      "1247/1247 [==============================] - 6s 5ms/step - loss: 93.3509 - mean_absolute_error: 7.2538 - val_loss: 113.0724 - val_mean_absolute_error: 7.9538\n",
      "Epoch 137/300\n",
      "1247/1247 [==============================] - 6s 5ms/step - loss: 94.4246 - mean_absolute_error: 7.3054 - val_loss: 113.2383 - val_mean_absolute_error: 7.9570\n",
      "Epoch 138/300\n",
      "1247/1247 [==============================] - 6s 5ms/step - loss: 92.9316 - mean_absolute_error: 7.2440 - val_loss: 110.5232 - val_mean_absolute_error: 7.8206\n",
      "Epoch 139/300\n",
      "1247/1247 [==============================] - 6s 5ms/step - loss: 93.5161 - mean_absolute_error: 7.2681 - val_loss: 111.4285 - val_mean_absolute_error: 7.8943\n",
      "Epoch 140/300\n",
      "1247/1247 [==============================] - 6s 5ms/step - loss: 92.4543 - mean_absolute_error: 7.2189 - val_loss: 126.0555 - val_mean_absolute_error: 8.4691\n",
      "Epoch 141/300\n",
      "1247/1247 [==============================] - 6s 5ms/step - loss: 93.1173 - mean_absolute_error: 7.2457 - val_loss: 110.7629 - val_mean_absolute_error: 7.8550\n",
      "Epoch 142/300\n",
      "1247/1247 [==============================] - 6s 5ms/step - loss: 100.0774 - mean_absolute_error: 7.4852 - val_loss: 127.4281 - val_mean_absolute_error: 8.3790\n",
      "Epoch 143/300\n",
      "1247/1247 [==============================] - 6s 5ms/step - loss: 92.5980 - mean_absolute_error: 7.2278 - val_loss: 111.3410 - val_mean_absolute_error: 7.8613\n",
      "Epoch 144/300\n",
      "1247/1247 [==============================] - 6s 5ms/step - loss: 92.1281 - mean_absolute_error: 7.2213 - val_loss: 106.9455 - val_mean_absolute_error: 7.7067\n",
      "Epoch 145/300\n",
      "1247/1247 [==============================] - 6s 5ms/step - loss: 91.6619 - mean_absolute_error: 7.2031 - val_loss: 112.4409 - val_mean_absolute_error: 7.9041\n",
      "Epoch 146/300\n",
      "1247/1247 [==============================] - 6s 5ms/step - loss: 97.4645 - mean_absolute_error: 7.3819 - val_loss: 128.2623 - val_mean_absolute_error: 8.5319\n",
      "Epoch 147/300\n",
      "1247/1247 [==============================] - 6s 5ms/step - loss: 92.4207 - mean_absolute_error: 7.2197 - val_loss: 114.8061 - val_mean_absolute_error: 8.0496\n",
      "Epoch 148/300\n",
      "1247/1247 [==============================] - 6s 5ms/step - loss: 90.2583 - mean_absolute_error: 7.1376 - val_loss: 107.5573 - val_mean_absolute_error: 7.7311\n",
      "Epoch 149/300\n",
      "1247/1247 [==============================] - 6s 5ms/step - loss: 90.4570 - mean_absolute_error: 7.1435 - val_loss: 120.7616 - val_mean_absolute_error: 8.3391\n",
      "Epoch 150/300\n",
      "1247/1247 [==============================] - 6s 5ms/step - loss: 93.0675 - mean_absolute_error: 7.2415 - val_loss: 117.3875 - val_mean_absolute_error: 7.9860\n",
      "Epoch 151/300\n",
      "1247/1247 [==============================] - 6s 5ms/step - loss: 89.6601 - mean_absolute_error: 7.1251 - val_loss: 116.5630 - val_mean_absolute_error: 8.0463\n",
      "Epoch 152/300\n",
      "1247/1247 [==============================] - 6s 5ms/step - loss: 97.6465 - mean_absolute_error: 7.3820 - val_loss: 119.7796 - val_mean_absolute_error: 8.1700\n",
      "Epoch 153/300\n",
      "1247/1247 [==============================] - 6s 5ms/step - loss: 87.2848 - mean_absolute_error: 7.0179 - val_loss: 111.5891 - val_mean_absolute_error: 7.8990\n",
      "Epoch 154/300\n",
      "1247/1247 [==============================] - 6s 5ms/step - loss: 90.2707 - mean_absolute_error: 7.1332 - val_loss: 106.5119 - val_mean_absolute_error: 7.7175\n",
      "Epoch 155/300\n",
      "1247/1247 [==============================] - 6s 5ms/step - loss: 90.9812 - mean_absolute_error: 7.1600 - val_loss: 109.4340 - val_mean_absolute_error: 7.8227\n",
      "Epoch 156/300\n",
      "1247/1247 [==============================] - 6s 5ms/step - loss: 91.9779 - mean_absolute_error: 7.1797 - val_loss: 132.8658 - val_mean_absolute_error: 8.5856\n",
      "Epoch 157/300\n",
      "1247/1247 [==============================] - 6s 5ms/step - loss: 88.9837 - mean_absolute_error: 7.0791 - val_loss: 112.8992 - val_mean_absolute_error: 7.9699\n",
      "Epoch 158/300\n",
      "1247/1247 [==============================] - 6s 5ms/step - loss: 88.1266 - mean_absolute_error: 7.0479 - val_loss: 114.3979 - val_mean_absolute_error: 7.9040\n",
      "Epoch 159/300\n",
      "1247/1247 [==============================] - 6s 5ms/step - loss: 88.9500 - mean_absolute_error: 7.0870 - val_loss: 108.4879 - val_mean_absolute_error: 7.7488\n",
      "Epoch 160/300\n",
      "1247/1247 [==============================] - 6s 5ms/step - loss: 88.2638 - mean_absolute_error: 7.0570 - val_loss: 111.8715 - val_mean_absolute_error: 7.8781\n",
      "Epoch 161/300\n",
      "1247/1247 [==============================] - 8s 7ms/step - loss: 87.5659 - mean_absolute_error: 7.0240 - val_loss: 108.4218 - val_mean_absolute_error: 7.7070\n",
      "Epoch 162/300\n",
      "1247/1247 [==============================] - 9s 7ms/step - loss: 88.8070 - mean_absolute_error: 7.0778 - val_loss: 111.1146 - val_mean_absolute_error: 7.8961\n",
      "Epoch 163/300\n",
      "1247/1247 [==============================] - 8s 6ms/step - loss: 87.6750 - mean_absolute_error: 7.0265 - val_loss: 111.3229 - val_mean_absolute_error: 7.8637\n",
      "Epoch 164/300\n",
      "1247/1247 [==============================] - 6s 5ms/step - loss: 87.2651 - mean_absolute_error: 7.0165 - val_loss: 110.0935 - val_mean_absolute_error: 7.8437\n",
      "Epoch 165/300\n",
      "1247/1247 [==============================] - 6s 5ms/step - loss: 87.5620 - mean_absolute_error: 7.0264 - val_loss: 109.1704 - val_mean_absolute_error: 7.8175\n",
      "Epoch 166/300\n",
      "1247/1247 [==============================] - 6s 5ms/step - loss: 88.1090 - mean_absolute_error: 7.0370 - val_loss: 123.8224 - val_mean_absolute_error: 8.2537\n",
      "Epoch 167/300\n",
      "1247/1247 [==============================] - 6s 5ms/step - loss: 88.6844 - mean_absolute_error: 7.0709 - val_loss: 107.1628 - val_mean_absolute_error: 7.7419\n",
      "Epoch 168/300\n",
      "1247/1247 [==============================] - 6s 5ms/step - loss: 114.8412 - mean_absolute_error: 7.8310 - val_loss: 113.2608 - val_mean_absolute_error: 7.8540\n",
      "Epoch 169/300\n",
      "1247/1247 [==============================] - 7s 5ms/step - loss: 85.6891 - mean_absolute_error: 6.9315 - val_loss: 103.8537 - val_mean_absolute_error: 7.5522\n",
      "Epoch 170/300\n",
      "1247/1247 [==============================] - 7s 6ms/step - loss: 84.3206 - mean_absolute_error: 6.9039 - val_loss: 111.7474 - val_mean_absolute_error: 7.8710\n",
      "Epoch 171/300\n",
      "1247/1247 [==============================] - 6s 5ms/step - loss: 84.9923 - mean_absolute_error: 6.9273 - val_loss: 107.6598 - val_mean_absolute_error: 7.7039\n",
      "Epoch 172/300\n",
      "1247/1247 [==============================] - 6s 5ms/step - loss: 85.3779 - mean_absolute_error: 6.9432 - val_loss: 114.2384 - val_mean_absolute_error: 7.9574\n",
      "Epoch 173/300\n",
      "1247/1247 [==============================] - 6s 5ms/step - loss: 88.6418 - mean_absolute_error: 7.0486 - val_loss: 104.0943 - val_mean_absolute_error: 7.6000\n",
      "Epoch 174/300\n",
      "1247/1247 [==============================] - 6s 5ms/step - loss: 83.9421 - mean_absolute_error: 6.8816 - val_loss: 105.3378 - val_mean_absolute_error: 7.6808\n",
      "Epoch 175/300\n",
      "1247/1247 [==============================] - 6s 5ms/step - loss: 86.1158 - mean_absolute_error: 6.9585 - val_loss: 108.4548 - val_mean_absolute_error: 7.7370\n",
      "Epoch 176/300\n",
      "1247/1247 [==============================] - 7s 6ms/step - loss: 84.5382 - mean_absolute_error: 6.9060 - val_loss: 110.3479 - val_mean_absolute_error: 7.8566\n",
      "Epoch 177/300\n",
      "1247/1247 [==============================] - 7s 6ms/step - loss: 93.7353 - mean_absolute_error: 7.2023 - val_loss: 107.1888 - val_mean_absolute_error: 7.6778\n",
      "Epoch 178/300\n",
      "1247/1247 [==============================] - 6s 5ms/step - loss: 82.7504 - mean_absolute_error: 6.8211 - val_loss: 100.7551 - val_mean_absolute_error: 7.4515\n",
      "Epoch 179/300\n",
      "1247/1247 [==============================] - 6s 5ms/step - loss: 82.2049 - mean_absolute_error: 6.8094 - val_loss: 103.3605 - val_mean_absolute_error: 7.5851\n",
      "Epoch 180/300\n",
      "1247/1247 [==============================] - 6s 5ms/step - loss: 85.5978 - mean_absolute_error: 6.9387 - val_loss: 117.5717 - val_mean_absolute_error: 8.0375\n",
      "Epoch 181/300\n",
      "1247/1247 [==============================] - 6s 5ms/step - loss: 83.4343 - mean_absolute_error: 6.8549 - val_loss: 106.6793 - val_mean_absolute_error: 7.7280\n",
      "Epoch 182/300\n",
      "1247/1247 [==============================] - 6s 5ms/step - loss: 83.1793 - mean_absolute_error: 6.8416 - val_loss: 134.5865 - val_mean_absolute_error: 8.9848\n",
      "Epoch 183/300\n",
      "1247/1247 [==============================] - 6s 5ms/step - loss: 85.4726 - mean_absolute_error: 6.9107 - val_loss: 102.1244 - val_mean_absolute_error: 7.5233\n",
      "Epoch 184/300\n",
      "1247/1247 [==============================] - 6s 5ms/step - loss: 84.1122 - mean_absolute_error: 6.8813 - val_loss: 105.7360 - val_mean_absolute_error: 7.7138\n",
      "Epoch 185/300\n",
      "1247/1247 [==============================] - 6s 5ms/step - loss: 82.6206 - mean_absolute_error: 6.8264 - val_loss: 110.9448 - val_mean_absolute_error: 7.9851\n",
      "Epoch 186/300\n",
      "1247/1247 [==============================] - 6s 5ms/step - loss: 83.0983 - mean_absolute_error: 6.8477 - val_loss: 102.4618 - val_mean_absolute_error: 7.5590\n",
      "Epoch 187/300\n",
      "1247/1247 [==============================] - 6s 5ms/step - loss: 81.6193 - mean_absolute_error: 6.7808 - val_loss: 120.3472 - val_mean_absolute_error: 8.3368\n",
      "Epoch 188/300\n",
      "1247/1247 [==============================] - 6s 5ms/step - loss: 83.4701 - mean_absolute_error: 6.8547 - val_loss: 105.3792 - val_mean_absolute_error: 7.6659\n",
      "Epoch 189/300\n",
      "1247/1247 [==============================] - 6s 5ms/step - loss: 81.9918 - mean_absolute_error: 6.7945 - val_loss: 103.4659 - val_mean_absolute_error: 7.5659\n",
      "Epoch 190/300\n",
      "1247/1247 [==============================] - 6s 5ms/step - loss: 81.8172 - mean_absolute_error: 6.7921 - val_loss: 102.7167 - val_mean_absolute_error: 7.5918\n",
      "Epoch 191/300\n",
      "1247/1247 [==============================] - 6s 5ms/step - loss: 82.1754 - mean_absolute_error: 6.8091 - val_loss: 101.4227 - val_mean_absolute_error: 7.5503\n",
      "Epoch 192/300\n",
      "1247/1247 [==============================] - 6s 5ms/step - loss: 79.9521 - mean_absolute_error: 6.7116 - val_loss: 103.4495 - val_mean_absolute_error: 7.5748\n",
      "Epoch 193/300\n",
      "1247/1247 [==============================] - 6s 5ms/step - loss: 83.8781 - mean_absolute_error: 6.8645 - val_loss: 105.9092 - val_mean_absolute_error: 7.7525\n",
      "Epoch 194/300\n",
      "1247/1247 [==============================] - 6s 5ms/step - loss: 80.4030 - mean_absolute_error: 6.7320 - val_loss: 104.9015 - val_mean_absolute_error: 7.5952\n",
      "Epoch 195/300\n",
      "1247/1247 [==============================] - 6s 5ms/step - loss: 87.4511 - mean_absolute_error: 6.9779 - val_loss: 114.7615 - val_mean_absolute_error: 7.9950\n",
      "Epoch 196/300\n",
      "1247/1247 [==============================] - 6s 5ms/step - loss: 79.4521 - mean_absolute_error: 6.6925 - val_loss: 113.2864 - val_mean_absolute_error: 7.9738\n",
      "Epoch 197/300\n",
      "1247/1247 [==============================] - 6s 5ms/step - loss: 80.8775 - mean_absolute_error: 6.7511 - val_loss: 107.0323 - val_mean_absolute_error: 7.7634\n",
      "Epoch 198/300\n",
      "1247/1247 [==============================] - 6s 5ms/step - loss: 80.6854 - mean_absolute_error: 6.7424 - val_loss: 102.2020 - val_mean_absolute_error: 7.5780\n",
      "Epoch 199/300\n",
      "1247/1247 [==============================] - 6s 5ms/step - loss: 88.7063 - mean_absolute_error: 7.0119 - val_loss: 116.7285 - val_mean_absolute_error: 8.0213\n",
      "Epoch 200/300\n",
      "1247/1247 [==============================] - 6s 5ms/step - loss: 80.1500 - mean_absolute_error: 6.7085 - val_loss: 99.4048 - val_mean_absolute_error: 7.4400\n",
      "Epoch 201/300\n",
      "1247/1247 [==============================] - 6s 5ms/step - loss: 81.7426 - mean_absolute_error: 6.7619 - val_loss: 103.0375 - val_mean_absolute_error: 7.6154\n",
      "Epoch 202/300\n",
      "1247/1247 [==============================] - 6s 5ms/step - loss: 77.2984 - mean_absolute_error: 6.5992 - val_loss: 109.9589 - val_mean_absolute_error: 7.9759\n",
      "Epoch 203/300\n",
      "1247/1247 [==============================] - 6s 5ms/step - loss: 78.5359 - mean_absolute_error: 6.6558 - val_loss: 101.2061 - val_mean_absolute_error: 7.4838\n",
      "Epoch 204/300\n",
      "1247/1247 [==============================] - 6s 5ms/step - loss: 79.8244 - mean_absolute_error: 6.7119 - val_loss: 99.5009 - val_mean_absolute_error: 7.4098\n",
      "Epoch 205/300\n",
      "1247/1247 [==============================] - 6s 5ms/step - loss: 81.0689 - mean_absolute_error: 6.7458 - val_loss: 107.7341 - val_mean_absolute_error: 7.8367\n",
      "Epoch 206/300\n",
      "1247/1247 [==============================] - 6s 5ms/step - loss: 85.1442 - mean_absolute_error: 6.8924 - val_loss: 97.2735 - val_mean_absolute_error: 7.3706\n",
      "Epoch 207/300\n",
      "1247/1247 [==============================] - 6s 5ms/step - loss: 76.7265 - mean_absolute_error: 6.5773 - val_loss: 108.5970 - val_mean_absolute_error: 7.9022\n",
      "Epoch 208/300\n",
      "1247/1247 [==============================] - 6s 5ms/step - loss: 85.6320 - mean_absolute_error: 6.8929 - val_loss: 100.9128 - val_mean_absolute_error: 7.5048\n",
      "Epoch 209/300\n",
      "1247/1247 [==============================] - 6s 5ms/step - loss: 76.6950 - mean_absolute_error: 6.5722 - val_loss: 101.4427 - val_mean_absolute_error: 7.5221\n",
      "Epoch 210/300\n",
      "1247/1247 [==============================] - 6s 5ms/step - loss: 77.7296 - mean_absolute_error: 6.6274 - val_loss: 100.6563 - val_mean_absolute_error: 7.4683\n",
      "Epoch 211/300\n",
      "1247/1247 [==============================] - 6s 5ms/step - loss: 78.1939 - mean_absolute_error: 6.6351 - val_loss: 103.4566 - val_mean_absolute_error: 7.6291\n",
      "Epoch 212/300\n",
      "1247/1247 [==============================] - 6s 5ms/step - loss: 78.4352 - mean_absolute_error: 6.6327 - val_loss: 100.4056 - val_mean_absolute_error: 7.4901\n",
      "Epoch 213/300\n",
      "1247/1247 [==============================] - 6s 5ms/step - loss: 78.6395 - mean_absolute_error: 6.6543 - val_loss: 96.6395 - val_mean_absolute_error: 7.3283\n",
      "Epoch 214/300\n",
      "1247/1247 [==============================] - 6s 5ms/step - loss: 77.3851 - mean_absolute_error: 6.6096 - val_loss: 95.0658 - val_mean_absolute_error: 7.2705\n",
      "Epoch 215/300\n",
      "1247/1247 [==============================] - 6s 5ms/step - loss: 79.7631 - mean_absolute_error: 6.6991 - val_loss: 97.1936 - val_mean_absolute_error: 7.3629\n",
      "Epoch 216/300\n",
      "1247/1247 [==============================] - 6s 5ms/step - loss: 76.5297 - mean_absolute_error: 6.5663 - val_loss: 100.5050 - val_mean_absolute_error: 7.4756\n",
      "Epoch 217/300\n",
      "1247/1247 [==============================] - 6s 5ms/step - loss: 78.4939 - mean_absolute_error: 6.6494 - val_loss: 102.8579 - val_mean_absolute_error: 7.4791\n",
      "Epoch 218/300\n",
      "1247/1247 [==============================] - 6s 4ms/step - loss: 81.2185 - mean_absolute_error: 6.7159 - val_loss: 103.0971 - val_mean_absolute_error: 7.6395\n",
      "Epoch 219/300\n",
      "1247/1247 [==============================] - 7s 5ms/step - loss: 76.5800 - mean_absolute_error: 6.5684 - val_loss: 100.1449 - val_mean_absolute_error: 7.4505\n",
      "Epoch 220/300\n",
      "1247/1247 [==============================] - 7s 6ms/step - loss: 78.4909 - mean_absolute_error: 6.6360 - val_loss: 109.8531 - val_mean_absolute_error: 7.8802\n",
      "Epoch 221/300\n",
      "1247/1247 [==============================] - 6s 5ms/step - loss: 76.2503 - mean_absolute_error: 6.5531 - val_loss: 99.4149 - val_mean_absolute_error: 7.4372\n",
      "Epoch 222/300\n",
      "1247/1247 [==============================] - 6s 5ms/step - loss: 77.0017 - mean_absolute_error: 6.5846 - val_loss: 108.0281 - val_mean_absolute_error: 7.6809\n",
      "Epoch 223/300\n",
      "1247/1247 [==============================] - 7s 5ms/step - loss: 76.3406 - mean_absolute_error: 6.5535 - val_loss: 97.4160 - val_mean_absolute_error: 7.3495\n",
      "Epoch 224/300\n",
      "1247/1247 [==============================] - 6s 5ms/step - loss: 75.9329 - mean_absolute_error: 6.5457 - val_loss: 103.7728 - val_mean_absolute_error: 7.5911\n",
      "Epoch 225/300\n",
      "1247/1247 [==============================] - 6s 5ms/step - loss: 78.3319 - mean_absolute_error: 6.6304 - val_loss: 101.2784 - val_mean_absolute_error: 7.5381\n",
      "Epoch 226/300\n",
      "1247/1247 [==============================] - 6s 5ms/step - loss: 83.6808 - mean_absolute_error: 6.8066 - val_loss: 103.8060 - val_mean_absolute_error: 7.6617\n",
      "Epoch 227/300\n",
      "1247/1247 [==============================] - 6s 5ms/step - loss: 77.2573 - mean_absolute_error: 6.5945 - val_loss: 96.8636 - val_mean_absolute_error: 7.3645\n",
      "Epoch 228/300\n",
      "1247/1247 [==============================] - 6s 5ms/step - loss: 81.6979 - mean_absolute_error: 6.7309 - val_loss: 97.2149 - val_mean_absolute_error: 7.3299\n",
      "Epoch 229/300\n",
      "1247/1247 [==============================] - 6s 5ms/step - loss: 74.3164 - mean_absolute_error: 6.4700 - val_loss: 104.8532 - val_mean_absolute_error: 7.6599\n",
      "Epoch 230/300\n",
      "1247/1247 [==============================] - 6s 5ms/step - loss: 76.9903 - mean_absolute_error: 6.5755 - val_loss: 105.5062 - val_mean_absolute_error: 7.6669\n",
      "Epoch 231/300\n",
      "1247/1247 [==============================] - 6s 5ms/step - loss: 76.3210 - mean_absolute_error: 6.5610 - val_loss: 97.3908 - val_mean_absolute_error: 7.3312\n",
      "Epoch 232/300\n",
      "1247/1247 [==============================] - 6s 5ms/step - loss: 74.2983 - mean_absolute_error: 6.4690 - val_loss: 96.3882 - val_mean_absolute_error: 7.3029\n",
      "Epoch 233/300\n",
      "1247/1247 [==============================] - 6s 5ms/step - loss: 75.5560 - mean_absolute_error: 6.5250 - val_loss: 99.0772 - val_mean_absolute_error: 7.4092\n",
      "Epoch 234/300\n",
      "1247/1247 [==============================] - 6s 5ms/step - loss: 75.7505 - mean_absolute_error: 6.5392 - val_loss: 100.3910 - val_mean_absolute_error: 7.5273\n",
      "Epoch 235/300\n",
      "1247/1247 [==============================] - 6s 5ms/step - loss: 77.9543 - mean_absolute_error: 6.6146 - val_loss: 100.6061 - val_mean_absolute_error: 7.5202\n",
      "Epoch 236/300\n",
      "1247/1247 [==============================] - 6s 5ms/step - loss: 75.0652 - mean_absolute_error: 6.5001 - val_loss: 102.0503 - val_mean_absolute_error: 7.5087\n",
      "Epoch 237/300\n",
      "1247/1247 [==============================] - 6s 5ms/step - loss: 74.6285 - mean_absolute_error: 6.4784 - val_loss: 99.1312 - val_mean_absolute_error: 7.4528\n",
      "Epoch 238/300\n",
      "1247/1247 [==============================] - 6s 5ms/step - loss: 73.8289 - mean_absolute_error: 6.4522 - val_loss: 100.2120 - val_mean_absolute_error: 7.4846\n",
      "Epoch 239/300\n",
      "1247/1247 [==============================] - 6s 5ms/step - loss: 74.6014 - mean_absolute_error: 6.4918 - val_loss: 97.4316 - val_mean_absolute_error: 7.4356\n",
      "Epoch 240/300\n",
      "1247/1247 [==============================] - 6s 5ms/step - loss: 77.0471 - mean_absolute_error: 6.5877 - val_loss: 93.2898 - val_mean_absolute_error: 7.1811\n",
      "Epoch 241/300\n",
      "1247/1247 [==============================] - 6s 5ms/step - loss: 80.5089 - mean_absolute_error: 6.6933 - val_loss: 94.7934 - val_mean_absolute_error: 7.2611\n",
      "Epoch 242/300\n",
      "1247/1247 [==============================] - 6s 5ms/step - loss: 72.8136 - mean_absolute_error: 6.4026 - val_loss: 97.1631 - val_mean_absolute_error: 7.3581\n",
      "Epoch 243/300\n",
      "1247/1247 [==============================] - 6s 5ms/step - loss: 73.5561 - mean_absolute_error: 6.4462 - val_loss: 97.0412 - val_mean_absolute_error: 7.3395\n",
      "Epoch 244/300\n",
      "1247/1247 [==============================] - 6s 5ms/step - loss: 73.3032 - mean_absolute_error: 6.4361 - val_loss: 96.2935 - val_mean_absolute_error: 7.3021\n",
      "Epoch 245/300\n",
      "1247/1247 [==============================] - 6s 5ms/step - loss: 73.1189 - mean_absolute_error: 6.4265 - val_loss: 98.3771 - val_mean_absolute_error: 7.4142\n",
      "Epoch 246/300\n",
      "1247/1247 [==============================] - 6s 5ms/step - loss: 73.6957 - mean_absolute_error: 6.4518 - val_loss: 96.3645 - val_mean_absolute_error: 7.3193\n",
      "Epoch 247/300\n",
      "1247/1247 [==============================] - 6s 5ms/step - loss: 85.3402 - mean_absolute_error: 6.8693 - val_loss: 113.1889 - val_mean_absolute_error: 7.8637\n",
      "Epoch 248/300\n",
      "1247/1247 [==============================] - 6s 5ms/step - loss: 71.6667 - mean_absolute_error: 6.3537 - val_loss: 95.3306 - val_mean_absolute_error: 7.2953\n",
      "Epoch 249/300\n",
      "1247/1247 [==============================] - 6s 5ms/step - loss: 71.7349 - mean_absolute_error: 6.3604 - val_loss: 99.3177 - val_mean_absolute_error: 7.4911\n",
      "Epoch 250/300\n",
      "1247/1247 [==============================] - 6s 5ms/step - loss: 73.4144 - mean_absolute_error: 6.4302 - val_loss: 96.6418 - val_mean_absolute_error: 7.4058\n",
      "Epoch 251/300\n",
      "1247/1247 [==============================] - 6s 5ms/step - loss: 74.3000 - mean_absolute_error: 6.4680 - val_loss: 98.2569 - val_mean_absolute_error: 7.3953\n",
      "Epoch 252/300\n",
      "1247/1247 [==============================] - 6s 5ms/step - loss: 77.4811 - mean_absolute_error: 6.5596 - val_loss: 138.4440 - val_mean_absolute_error: 8.6305\n",
      "Epoch 253/300\n",
      "1247/1247 [==============================] - 6s 5ms/step - loss: 75.8676 - mean_absolute_error: 6.5154 - val_loss: 94.3164 - val_mean_absolute_error: 7.2745\n",
      "Epoch 254/300\n",
      "1247/1247 [==============================] - 6s 5ms/step - loss: 71.1636 - mean_absolute_error: 6.3337 - val_loss: 97.3277 - val_mean_absolute_error: 7.3581\n",
      "Epoch 255/300\n",
      "1247/1247 [==============================] - 6s 5ms/step - loss: 71.9562 - mean_absolute_error: 6.3726 - val_loss: 94.8621 - val_mean_absolute_error: 7.2763\n",
      "Epoch 256/300\n",
      "1247/1247 [==============================] - 6s 5ms/step - loss: 78.5826 - mean_absolute_error: 6.6164 - val_loss: 97.1597 - val_mean_absolute_error: 7.3708\n",
      "Epoch 257/300\n",
      "1247/1247 [==============================] - 6s 5ms/step - loss: 71.3809 - mean_absolute_error: 6.3449 - val_loss: 93.7001 - val_mean_absolute_error: 7.2552\n",
      "Epoch 258/300\n",
      "1247/1247 [==============================] - 6s 5ms/step - loss: 72.3308 - mean_absolute_error: 6.3737 - val_loss: 95.5144 - val_mean_absolute_error: 7.2908\n",
      "Epoch 259/300\n",
      "1247/1247 [==============================] - 6s 5ms/step - loss: 74.6319 - mean_absolute_error: 6.4742 - val_loss: 97.3379 - val_mean_absolute_error: 7.4227\n",
      "Epoch 260/300\n",
      "1247/1247 [==============================] - 6s 5ms/step - loss: 71.3201 - mean_absolute_error: 6.3421 - val_loss: 95.8003 - val_mean_absolute_error: 7.2745\n",
      "Epoch 261/300\n",
      "1247/1247 [==============================] - 6s 5ms/step - loss: 72.3066 - mean_absolute_error: 6.3755 - val_loss: 103.7971 - val_mean_absolute_error: 7.6162\n",
      "Epoch 262/300\n",
      "1247/1247 [==============================] - 6s 5ms/step - loss: 82.5564 - mean_absolute_error: 6.7369 - val_loss: 92.8078 - val_mean_absolute_error: 7.1694\n",
      "Epoch 263/300\n",
      "1247/1247 [==============================] - 6s 5ms/step - loss: 72.3448 - mean_absolute_error: 6.3726 - val_loss: 98.1725 - val_mean_absolute_error: 7.3934\n",
      "Epoch 264/300\n",
      "1247/1247 [==============================] - 6s 5ms/step - loss: 69.4322 - mean_absolute_error: 6.2458 - val_loss: 96.6027 - val_mean_absolute_error: 7.3738\n",
      "Epoch 265/300\n",
      "1247/1247 [==============================] - 6s 5ms/step - loss: 73.7448 - mean_absolute_error: 6.4424 - val_loss: 91.4400 - val_mean_absolute_error: 7.1278\n",
      "Epoch 266/300\n",
      "1247/1247 [==============================] - 6s 5ms/step - loss: 74.2741 - mean_absolute_error: 6.4568 - val_loss: 100.1479 - val_mean_absolute_error: 7.5378\n",
      "Epoch 267/300\n",
      "1247/1247 [==============================] - 6s 5ms/step - loss: 69.6640 - mean_absolute_error: 6.2618 - val_loss: 90.4337 - val_mean_absolute_error: 7.0968\n",
      "Epoch 268/300\n",
      "1247/1247 [==============================] - 6s 5ms/step - loss: 69.8078 - mean_absolute_error: 6.2732 - val_loss: 92.4356 - val_mean_absolute_error: 7.1582\n",
      "Epoch 269/300\n",
      "1247/1247 [==============================] - 6s 5ms/step - loss: 72.8573 - mean_absolute_error: 6.4047 - val_loss: 98.3656 - val_mean_absolute_error: 7.4092\n",
      "Epoch 270/300\n",
      "1247/1247 [==============================] - 6s 5ms/step - loss: 72.5551 - mean_absolute_error: 6.3929 - val_loss: 104.2579 - val_mean_absolute_error: 7.7028\n",
      "Epoch 271/300\n",
      "1247/1247 [==============================] - 6s 5ms/step - loss: 69.6472 - mean_absolute_error: 6.2619 - val_loss: 91.7158 - val_mean_absolute_error: 7.1461\n",
      "Epoch 272/300\n",
      "1247/1247 [==============================] - 6s 5ms/step - loss: 70.7750 - mean_absolute_error: 6.3130 - val_loss: 94.9253 - val_mean_absolute_error: 7.3157\n",
      "Epoch 273/300\n",
      "1247/1247 [==============================] - 6s 5ms/step - loss: 75.7852 - mean_absolute_error: 6.5083 - val_loss: 94.1746 - val_mean_absolute_error: 7.2373\n",
      "Epoch 274/300\n",
      "1247/1247 [==============================] - 6s 5ms/step - loss: 69.8653 - mean_absolute_error: 6.2805 - val_loss: 97.3319 - val_mean_absolute_error: 7.3418\n",
      "Epoch 275/300\n",
      "1247/1247 [==============================] - 6s 5ms/step - loss: 70.4481 - mean_absolute_error: 6.3048 - val_loss: 93.5967 - val_mean_absolute_error: 7.2146\n",
      "Epoch 276/300\n",
      "1247/1247 [==============================] - 6s 5ms/step - loss: 71.6579 - mean_absolute_error: 6.3440 - val_loss: 94.4352 - val_mean_absolute_error: 7.2838\n",
      "Epoch 277/300\n",
      "1247/1247 [==============================] - 6s 5ms/step - loss: 77.6997 - mean_absolute_error: 6.5736 - val_loss: 92.9693 - val_mean_absolute_error: 7.1721\n",
      "Epoch 278/300\n",
      "1247/1247 [==============================] - 6s 5ms/step - loss: 72.8396 - mean_absolute_error: 6.3711 - val_loss: 90.4733 - val_mean_absolute_error: 7.0855\n",
      "Epoch 279/300\n",
      "1247/1247 [==============================] - 6s 5ms/step - loss: 68.9624 - mean_absolute_error: 6.2233 - val_loss: 94.8287 - val_mean_absolute_error: 7.2405\n",
      "Epoch 280/300\n",
      "1247/1247 [==============================] - 6s 5ms/step - loss: 70.3293 - mean_absolute_error: 6.2986 - val_loss: 97.1997 - val_mean_absolute_error: 7.3881\n",
      "Epoch 281/300\n",
      "1247/1247 [==============================] - 6s 5ms/step - loss: 71.4148 - mean_absolute_error: 6.3395 - val_loss: 95.4210 - val_mean_absolute_error: 7.2984\n",
      "Epoch 282/300\n",
      "1247/1247 [==============================] - 6s 5ms/step - loss: 69.9463 - mean_absolute_error: 6.2728 - val_loss: 98.6952 - val_mean_absolute_error: 7.4813\n",
      "Epoch 283/300\n",
      "1247/1247 [==============================] - 6s 5ms/step - loss: 71.6844 - mean_absolute_error: 6.3534 - val_loss: 100.8664 - val_mean_absolute_error: 7.4751\n",
      "Epoch 284/300\n",
      "1247/1247 [==============================] - 6s 5ms/step - loss: 69.2342 - mean_absolute_error: 6.2426 - val_loss: 101.3559 - val_mean_absolute_error: 7.6909\n",
      "Epoch 285/300\n",
      "1247/1247 [==============================] - 6s 5ms/step - loss: 70.2284 - mean_absolute_error: 6.2923 - val_loss: 92.0911 - val_mean_absolute_error: 7.1588\n",
      "Epoch 286/300\n",
      "1247/1247 [==============================] - 6s 5ms/step - loss: 73.8852 - mean_absolute_error: 6.4347 - val_loss: 99.1593 - val_mean_absolute_error: 7.5317\n",
      "Epoch 287/300\n",
      "1247/1247 [==============================] - 6s 5ms/step - loss: 71.0245 - mean_absolute_error: 6.3250 - val_loss: 98.5643 - val_mean_absolute_error: 7.4546\n",
      "Epoch 288/300\n",
      "1247/1247 [==============================] - 6s 5ms/step - loss: 68.9443 - mean_absolute_error: 6.2328 - val_loss: 93.7832 - val_mean_absolute_error: 7.2301\n",
      "Epoch 289/300\n",
      "1247/1247 [==============================] - 6s 5ms/step - loss: 69.2919 - mean_absolute_error: 6.2526 - val_loss: 96.9837 - val_mean_absolute_error: 7.3767\n",
      "Epoch 290/300\n",
      "1247/1247 [==============================] - 6s 5ms/step - loss: 71.3782 - mean_absolute_error: 6.3212 - val_loss: 109.8379 - val_mean_absolute_error: 7.8140\n",
      "Epoch 291/300\n",
      "1247/1247 [==============================] - 6s 5ms/step - loss: 73.3243 - mean_absolute_error: 6.3744 - val_loss: 91.0238 - val_mean_absolute_error: 7.1226\n",
      "Epoch 292/300\n",
      "1247/1247 [==============================] - 6s 5ms/step - loss: 68.6088 - mean_absolute_error: 6.2148 - val_loss: 98.5380 - val_mean_absolute_error: 7.4272\n",
      "Epoch 293/300\n",
      "1247/1247 [==============================] - 6s 5ms/step - loss: 68.4674 - mean_absolute_error: 6.2111 - val_loss: 90.9157 - val_mean_absolute_error: 7.1391\n",
      "Epoch 294/300\n",
      "1247/1247 [==============================] - 6s 5ms/step - loss: 69.3390 - mean_absolute_error: 6.2505 - val_loss: 91.6416 - val_mean_absolute_error: 7.1392\n",
      "Epoch 295/300\n",
      "1247/1247 [==============================] - 6s 5ms/step - loss: 68.8902 - mean_absolute_error: 6.2339 - val_loss: 92.4416 - val_mean_absolute_error: 7.1962\n",
      "Epoch 296/300\n",
      "1247/1247 [==============================] - 6s 5ms/step - loss: 71.2462 - mean_absolute_error: 6.3265 - val_loss: 92.2761 - val_mean_absolute_error: 7.1882\n",
      "Epoch 297/300\n",
      "1247/1247 [==============================] - 6s 5ms/step - loss: 72.5839 - mean_absolute_error: 6.3771 - val_loss: 93.4841 - val_mean_absolute_error: 7.1814\n",
      "Epoch 298/300\n",
      "1247/1247 [==============================] - 6s 5ms/step - loss: 68.9841 - mean_absolute_error: 6.2304 - val_loss: 93.6257 - val_mean_absolute_error: 7.2467\n",
      "Epoch 299/300\n",
      "1247/1247 [==============================] - 6s 5ms/step - loss: 68.3513 - mean_absolute_error: 6.2072 - val_loss: 95.5297 - val_mean_absolute_error: 7.3501\n",
      "Epoch 300/300\n",
      "1247/1247 [==============================] - 6s 5ms/step - loss: 68.2262 - mean_absolute_error: 6.2024 - val_loss: 90.7302 - val_mean_absolute_error: 7.1013\n",
      "163/163 [==============================] - 0s 2ms/step - loss: 91.3404 - mean_absolute_error: 7.1109\n",
      "\n",
      "Test Mean Absolute Error: 7.110860824584961\n",
      "INFO:tensorflow:Assets written to: ..\\model\\model-20230626-112220\\assets\n"
     ]
    },
    {
     "name": "stderr",
     "output_type": "stream",
     "text": [
      "INFO:tensorflow:Assets written to: ..\\model\\model-20230626-112220\\assets\n"
     ]
    },
    {
     "name": "stdout",
     "output_type": "stream",
     "text": [
      "Model model-20230626-112220 saved\n"
     ]
    }
   ],
   "source": [
    "# Model Training\n",
    "\n",
    "MODEL_FOLDER = '../model'\n",
    "\n",
    "from datetime import datetime\n",
    "from pathlib import Path\n",
    "\n",
    "history=model.fit(\n",
    "    x=[trainval_input_1, trainval_input_2, trainval_input_3,trainval_input_4,trainval_input_5,trainval_input_6],\n",
    "    y=trainval_output,\n",
    "    validation_split=0.15,\n",
    "    epochs=300,\n",
    "    callbacks=[callback]\n",
    ")\n",
    "\n",
    "test_loss, test_mean_absolute_error = model.evaluate(x=[test_input_1, test_input_2, test_input_3,test_input_4,test_input_5,test_input_6], y=test_output)\n",
    "print('\\nTest Mean Absolute Error:', test_mean_absolute_error)\n",
    "\n",
    "model_file_name = 'model-{}'.format(datetime.now().strftime('%Y%m%d-%H%M%S'))\n",
    "model_file = Path(MODEL_FOLDER) / model_file_name\n",
    "model.save(model_file)\n",
    "print('Model {} saved'.format(model_file_name))\n"
   ]
  },
  {
   "cell_type": "code",
   "execution_count": 47,
   "metadata": {},
   "outputs": [
    {
     "data": {
      "application/vnd.plotly.v1+json": {
       "config": {
        "plotlyServerURL": "https://plot.ly"
       },
       "data": [
        {
         "hovertemplate": "variable=loss<br>index=%{x}<br>value=%{y}<extra></extra>",
         "legendgroup": "loss",
         "line": {
          "color": "#636efa",
          "dash": "solid"
         },
         "marker": {
          "symbol": "circle"
         },
         "mode": "lines",
         "name": "loss",
         "orientation": "v",
         "showlegend": true,
         "type": "scatter",
         "x": [
          0,
          1,
          2,
          3,
          4,
          5,
          6,
          7,
          8,
          9,
          10,
          11,
          12,
          13,
          14,
          15,
          16,
          17,
          18,
          19,
          20,
          21,
          22,
          23,
          24,
          25,
          26,
          27,
          28,
          29,
          30,
          31,
          32,
          33,
          34,
          35,
          36,
          37,
          38,
          39,
          40,
          41,
          42,
          43,
          44,
          45,
          46,
          47,
          48,
          49,
          50,
          51,
          52,
          53,
          54,
          55,
          56,
          57,
          58,
          59,
          60,
          61,
          62,
          63,
          64,
          65,
          66,
          67,
          68,
          69,
          70,
          71,
          72,
          73,
          74,
          75,
          76,
          77,
          78,
          79,
          80,
          81,
          82,
          83,
          84,
          85,
          86,
          87,
          88,
          89,
          90,
          91,
          92,
          93,
          94,
          95,
          96,
          97,
          98,
          99,
          100,
          101,
          102,
          103,
          104,
          105,
          106,
          107,
          108,
          109,
          110,
          111,
          112,
          113,
          114,
          115,
          116,
          117,
          118,
          119,
          120,
          121,
          122,
          123,
          124,
          125,
          126,
          127,
          128,
          129,
          130,
          131,
          132,
          133,
          134,
          135,
          136,
          137,
          138,
          139,
          140,
          141,
          142,
          143,
          144,
          145,
          146,
          147,
          148,
          149,
          150,
          151,
          152,
          153,
          154,
          155,
          156,
          157,
          158,
          159,
          160,
          161,
          162,
          163,
          164,
          165,
          166,
          167,
          168,
          169,
          170,
          171,
          172,
          173,
          174,
          175,
          176,
          177,
          178,
          179,
          180,
          181,
          182,
          183,
          184,
          185,
          186,
          187,
          188,
          189,
          190,
          191,
          192,
          193,
          194,
          195,
          196,
          197,
          198,
          199,
          200,
          201,
          202,
          203,
          204,
          205,
          206,
          207,
          208,
          209,
          210,
          211,
          212,
          213,
          214,
          215,
          216,
          217,
          218,
          219,
          220,
          221,
          222,
          223,
          224,
          225,
          226,
          227,
          228,
          229,
          230,
          231,
          232,
          233,
          234,
          235,
          236,
          237,
          238,
          239,
          240,
          241,
          242,
          243,
          244,
          245,
          246,
          247,
          248,
          249,
          250,
          251,
          252,
          253,
          254,
          255,
          256,
          257,
          258,
          259,
          260,
          261,
          262,
          263,
          264,
          265,
          266,
          267,
          268,
          269,
          270,
          271,
          272,
          273,
          274,
          275,
          276,
          277,
          278,
          279,
          280,
          281,
          282,
          283,
          284,
          285,
          286,
          287,
          288,
          289,
          290,
          291,
          292,
          293,
          294,
          295,
          296,
          297,
          298,
          299
         ],
         "xaxis": "x",
         "y": [
          760.7732543945312,
          327.9634094238281,
          300.5213623046875,
          290.3274230957031,
          283.3291015625,
          272.98358154296875,
          265.1880187988281,
          265.6033935546875,
          257.86126708984375,
          258.00469970703125,
          251.359619140625,
          246.89691162109375,
          242.72691345214844,
          242.671630859375,
          237.29888916015625,
          233.04034423828125,
          231.53382873535156,
          227.71139526367188,
          225.78677368164062,
          222.73606872558594,
          220.45455932617188,
          215.89891052246094,
          213.96324157714844,
          212.5221405029297,
          211.7040252685547,
          205.28158569335938,
          207.0895233154297,
          203.45570373535156,
          200.2847137451172,
          196.31951904296875,
          196.73193359375,
          192.26776123046875,
          190.72708129882812,
          189.00152587890625,
          184.51205444335938,
          183.4741668701172,
          179.47784423828125,
          179.561279296875,
          176.63916015625,
          174.68885803222656,
          172.33468627929688,
          170.2766571044922,
          167.5430145263672,
          165.6237335205078,
          163.7626190185547,
          164.55410766601562,
          162.96405029296875,
          163.9865264892578,
          158.4788055419922,
          155.86241149902344,
          153.59849548339844,
          153.4156951904297,
          152.81845092773438,
          150.3651885986328,
          146.8643341064453,
          147.47850036621094,
          146.2091827392578,
          144.10568237304688,
          143.58863830566406,
          139.71466064453125,
          137.84146118164062,
          138.95217895507812,
          146.51416015625,
          137.1968536376953,
          133.8486328125,
          133.6389923095703,
          132.31607055664062,
          132.283935546875,
          129.93081665039062,
          128.33920288085938,
          127.85507202148438,
          128.5869598388672,
          125.43247985839844,
          125.40616607666016,
          125.94844055175781,
          122.97077178955078,
          122.7933349609375,
          124.4830322265625,
          121.87303924560547,
          119.93011474609375,
          119.12842559814453,
          117.7148208618164,
          119.08366394042969,
          116.0641098022461,
          118.34404754638672,
          117.4930648803711,
          114.8553237915039,
          114.1216812133789,
          116.24810791015625,
          113.48149108886719,
          111.34215545654297,
          113.49388122558594,
          111.00768280029297,
          110.64387512207031,
          111.270263671875,
          108.8020248413086,
          111.75679779052734,
          108.51271057128906,
          108.11883544921875,
          107.51858520507812,
          108.39806365966797,
          107.83533477783203,
          107.37842559814453,
          105.28515625,
          104.80641174316406,
          106.19425201416016,
          105.50431060791016,
          104.32772064208984,
          107.79893493652344,
          111.80062866210938,
          105.39346313476562,
          105.28511810302734,
          103.19803619384766,
          101.8079605102539,
          101.20428466796875,
          103.15275573730469,
          98.73528289794922,
          100.24425506591797,
          100.80422973632812,
          99.58690643310547,
          98.56620788574219,
          99.69931030273438,
          98.69538116455078,
          97.74857330322266,
          97.36279296875,
          99.37773132324219,
          96.50276184082031,
          98.19634246826172,
          98.75308227539062,
          95.447509765625,
          95.24503326416016,
          95.389892578125,
          96.81767272949219,
          93.69190979003906,
          94.2425308227539,
          93.35086059570312,
          94.42459106445312,
          92.93159484863281,
          93.51610565185547,
          92.45428466796875,
          93.11726379394531,
          100.07737731933594,
          92.59800720214844,
          92.1280746459961,
          91.66193389892578,
          97.46448516845703,
          92.42073822021484,
          90.25828552246094,
          90.45702362060547,
          93.0675048828125,
          89.66011810302734,
          97.64653778076172,
          87.28483581542969,
          90.27073669433594,
          90.98123168945312,
          91.97786712646484,
          88.98371887207031,
          88.12664794921875,
          88.95001220703125,
          88.2637939453125,
          87.56586456298828,
          88.8070068359375,
          87.67504119873047,
          87.26510620117188,
          87.56197357177734,
          88.10896301269531,
          88.68441772460938,
          114.84115600585938,
          85.68907165527344,
          84.32061767578125,
          84.9923095703125,
          85.37786865234375,
          88.6418228149414,
          83.94206237792969,
          86.11576843261719,
          84.53817749023438,
          93.7352523803711,
          82.75041198730469,
          82.20491027832031,
          85.59777069091797,
          83.4343032836914,
          83.17927551269531,
          85.47259521484375,
          84.11224365234375,
          82.62057495117188,
          83.0982666015625,
          81.61930084228516,
          83.47014617919922,
          81.9918212890625,
          81.81724548339844,
          82.17542266845703,
          79.95208740234375,
          83.8780746459961,
          80.40301513671875,
          87.45108032226562,
          79.4521255493164,
          80.87747192382812,
          80.68541717529297,
          88.70630645751953,
          80.14999389648438,
          81.74264526367188,
          77.29835510253906,
          78.53591918945312,
          79.82444763183594,
          81.0688705444336,
          85.14417266845703,
          76.72653198242188,
          85.63197326660156,
          76.6949691772461,
          77.7296142578125,
          78.1938705444336,
          78.43522644042969,
          78.63948822021484,
          77.38511657714844,
          79.7630844116211,
          76.52973175048828,
          78.49393463134766,
          81.21847534179688,
          76.5799560546875,
          78.49087524414062,
          76.25031280517578,
          77.00165557861328,
          76.34061431884766,
          75.93289947509766,
          78.33187866210938,
          83.68075561523438,
          77.25730895996094,
          81.69790649414062,
          74.31640625,
          76.99027252197266,
          76.32096099853516,
          74.29833221435547,
          75.5560302734375,
          75.75054168701172,
          77.954345703125,
          75.06519317626953,
          74.62849426269531,
          73.82893371582031,
          74.60140991210938,
          77.04706573486328,
          80.5089111328125,
          72.81355285644531,
          73.55606079101562,
          73.30315399169922,
          73.11893463134766,
          73.69574737548828,
          85.34024047851562,
          71.66670989990234,
          71.73485565185547,
          73.41443634033203,
          74.30001068115234,
          77.4811019897461,
          75.86760711669922,
          71.16361236572266,
          71.95616912841797,
          78.58264923095703,
          71.38088989257812,
          72.3307876586914,
          74.63191223144531,
          71.32012176513672,
          72.306640625,
          82.55643463134766,
          72.34477233886719,
          69.4321517944336,
          73.7447509765625,
          74.2740707397461,
          69.66397094726562,
          69.80775451660156,
          72.8572998046875,
          72.55511474609375,
          69.64717864990234,
          70.77497100830078,
          75.78522491455078,
          69.86529541015625,
          70.44807434082031,
          71.65789031982422,
          77.69973754882812,
          72.83964538574219,
          68.96240997314453,
          70.329345703125,
          71.41476440429688,
          69.94634246826172,
          71.68443298339844,
          69.23417663574219,
          70.22843170166016,
          73.88520050048828,
          71.0245132446289,
          68.94425201416016,
          69.29190063476562,
          71.37818145751953,
          73.32434844970703,
          68.6087875366211,
          68.46741485595703,
          69.33904266357422,
          68.89022827148438,
          71.24617767333984,
          72.58394622802734,
          68.98406982421875,
          68.3513412475586,
          68.2261734008789
         ],
         "yaxis": "y"
        },
        {
         "hovertemplate": "variable=val_loss<br>index=%{x}<br>value=%{y}<extra></extra>",
         "legendgroup": "val_loss",
         "line": {
          "color": "#EF553B",
          "dash": "solid"
         },
         "marker": {
          "symbol": "circle"
         },
         "mode": "lines",
         "name": "val_loss",
         "orientation": "v",
         "showlegend": true,
         "type": "scatter",
         "x": [
          0,
          1,
          2,
          3,
          4,
          5,
          6,
          7,
          8,
          9,
          10,
          11,
          12,
          13,
          14,
          15,
          16,
          17,
          18,
          19,
          20,
          21,
          22,
          23,
          24,
          25,
          26,
          27,
          28,
          29,
          30,
          31,
          32,
          33,
          34,
          35,
          36,
          37,
          38,
          39,
          40,
          41,
          42,
          43,
          44,
          45,
          46,
          47,
          48,
          49,
          50,
          51,
          52,
          53,
          54,
          55,
          56,
          57,
          58,
          59,
          60,
          61,
          62,
          63,
          64,
          65,
          66,
          67,
          68,
          69,
          70,
          71,
          72,
          73,
          74,
          75,
          76,
          77,
          78,
          79,
          80,
          81,
          82,
          83,
          84,
          85,
          86,
          87,
          88,
          89,
          90,
          91,
          92,
          93,
          94,
          95,
          96,
          97,
          98,
          99,
          100,
          101,
          102,
          103,
          104,
          105,
          106,
          107,
          108,
          109,
          110,
          111,
          112,
          113,
          114,
          115,
          116,
          117,
          118,
          119,
          120,
          121,
          122,
          123,
          124,
          125,
          126,
          127,
          128,
          129,
          130,
          131,
          132,
          133,
          134,
          135,
          136,
          137,
          138,
          139,
          140,
          141,
          142,
          143,
          144,
          145,
          146,
          147,
          148,
          149,
          150,
          151,
          152,
          153,
          154,
          155,
          156,
          157,
          158,
          159,
          160,
          161,
          162,
          163,
          164,
          165,
          166,
          167,
          168,
          169,
          170,
          171,
          172,
          173,
          174,
          175,
          176,
          177,
          178,
          179,
          180,
          181,
          182,
          183,
          184,
          185,
          186,
          187,
          188,
          189,
          190,
          191,
          192,
          193,
          194,
          195,
          196,
          197,
          198,
          199,
          200,
          201,
          202,
          203,
          204,
          205,
          206,
          207,
          208,
          209,
          210,
          211,
          212,
          213,
          214,
          215,
          216,
          217,
          218,
          219,
          220,
          221,
          222,
          223,
          224,
          225,
          226,
          227,
          228,
          229,
          230,
          231,
          232,
          233,
          234,
          235,
          236,
          237,
          238,
          239,
          240,
          241,
          242,
          243,
          244,
          245,
          246,
          247,
          248,
          249,
          250,
          251,
          252,
          253,
          254,
          255,
          256,
          257,
          258,
          259,
          260,
          261,
          262,
          263,
          264,
          265,
          266,
          267,
          268,
          269,
          270,
          271,
          272,
          273,
          274,
          275,
          276,
          277,
          278,
          279,
          280,
          281,
          282,
          283,
          284,
          285,
          286,
          287,
          288,
          289,
          290,
          291,
          292,
          293,
          294,
          295,
          296,
          297,
          298,
          299
         ],
         "xaxis": "x",
         "y": [
          426.46734619140625,
          285.01055908203125,
          282.55633544921875,
          305.1718444824219,
          325.2004699707031,
          276.5322265625,
          252.63223266601562,
          253.1071319580078,
          249.34703063964844,
          235.45692443847656,
          239.89698791503906,
          281.75823974609375,
          234.8441162109375,
          260.1066589355469,
          234.42568969726562,
          329.879150390625,
          234.37881469726562,
          227.44664001464844,
          216.87628173828125,
          241.4267578125,
          236.57518005371094,
          241.54273986816406,
          253.38601684570312,
          261.47100830078125,
          215.49078369140625,
          217.9870147705078,
          213.98477172851562,
          252.56983947753906,
          250.5294952392578,
          208.65736389160156,
          221.1081085205078,
          189.3415069580078,
          213.44895935058594,
          194.81637573242188,
          200.0879364013672,
          181.9814453125,
          187.648193359375,
          186.12367248535156,
          181.98605346679688,
          199.29898071289062,
          212.0011749267578,
          203.8180694580078,
          168.2523651123047,
          182.38662719726562,
          182.02264404296875,
          166.03030395507812,
          202.22251892089844,
          179.03269958496094,
          208.14234924316406,
          165.96197509765625,
          188.6347198486328,
          190.14915466308594,
          179.40814208984375,
          160.49781799316406,
          178.0261993408203,
          170.9676055908203,
          170.7081756591797,
          162.45570373535156,
          155.97738647460938,
          159.3485565185547,
          167.79249572753906,
          155.2311553955078,
          154.06661987304688,
          153.0437774658203,
          155.51319885253906,
          147.33409118652344,
          148.94155883789062,
          146.19483947753906,
          169.7788848876953,
          138.13267517089844,
          188.78504943847656,
          156.180419921875,
          150.4415740966797,
          142.5269012451172,
          149.19268798828125,
          140.1422882080078,
          161.81480407714844,
          136.59420776367188,
          152.8743133544922,
          157.1900177001953,
          132.90557861328125,
          155.24920654296875,
          133.48873901367188,
          142.87718200683594,
          195.30136108398438,
          142.536376953125,
          151.08665466308594,
          185.71572875976562,
          127.1589126586914,
          144.56695556640625,
          155.57615661621094,
          132.37318420410156,
          131.29742431640625,
          127.5864028930664,
          131.214111328125,
          156.08950805664062,
          134.88133239746094,
          122.4809341430664,
          126.28150177001953,
          125.97650146484375,
          146.3123779296875,
          129.05357360839844,
          133.16217041015625,
          120.0154800415039,
          122.4165267944336,
          125.73184967041016,
          138.68109130859375,
          138.29103088378906,
          123.95509338378906,
          123.34642028808594,
          123.80121612548828,
          129.42767333984375,
          147.37295532226562,
          126.90474700927734,
          123.78948211669922,
          130.26541137695312,
          129.49008178710938,
          114.81951904296875,
          123.12357330322266,
          117.87450408935547,
          126.81781005859375,
          125.75334930419922,
          122.09323120117188,
          131.17324829101562,
          112.73117065429688,
          111.6852035522461,
          113.81504821777344,
          122.32820892333984,
          125.28971862792969,
          119.51091766357422,
          115.40750885009766,
          128.8551483154297,
          114.47541809082031,
          111.68535614013672,
          111.00899505615234,
          113.0724105834961,
          113.23826599121094,
          110.52324676513672,
          111.42852020263672,
          126.05545806884766,
          110.76287078857422,
          127.42810821533203,
          111.34099578857422,
          106.94546508789062,
          112.44091033935547,
          128.26231384277344,
          114.80610656738281,
          107.55729675292969,
          120.76158142089844,
          117.38749694824219,
          116.56298065185547,
          119.77961730957031,
          111.58905792236328,
          106.51189422607422,
          109.43404388427734,
          132.86582946777344,
          112.89924621582031,
          114.39786529541016,
          108.48794555664062,
          111.87154388427734,
          108.42180633544922,
          111.1146240234375,
          111.32291412353516,
          110.09354400634766,
          109.17042541503906,
          123.82240295410156,
          107.1628189086914,
          113.26077270507812,
          103.85372161865234,
          111.7474136352539,
          107.65980529785156,
          114.23841094970703,
          104.09434509277344,
          105.33783721923828,
          108.454833984375,
          110.34785461425781,
          107.18875885009766,
          100.75508880615234,
          103.36051940917969,
          117.57166290283203,
          106.67933654785156,
          134.5865020751953,
          102.12440490722656,
          105.73602294921875,
          110.94476318359375,
          102.46180725097656,
          120.34716796875,
          105.379150390625,
          103.46591186523438,
          102.71674346923828,
          101.42271423339844,
          103.4494857788086,
          105.90924835205078,
          104.90154266357422,
          114.76151275634766,
          113.28639221191406,
          107.03227233886719,
          102.2020492553711,
          116.72845458984375,
          99.40478515625,
          103.03746795654297,
          109.95886993408203,
          101.20606231689453,
          99.50092315673828,
          107.73414611816406,
          97.27352142333984,
          108.59700775146484,
          100.91276550292969,
          101.44269561767578,
          100.65626525878906,
          103.45655822753906,
          100.40556335449219,
          96.63948059082031,
          95.06575012207031,
          97.19361114501953,
          100.50503540039062,
          102.85790252685547,
          103.09709167480469,
          100.14494323730469,
          109.85311126708984,
          99.41492462158203,
          108.02811431884766,
          97.41604614257812,
          103.77281951904297,
          101.27837371826172,
          103.80596160888672,
          96.86363983154297,
          97.21492767333984,
          104.85316467285156,
          105.50617980957031,
          97.3907699584961,
          96.38817596435547,
          99.07720947265625,
          100.3909912109375,
          100.6061019897461,
          102.05026245117188,
          99.13117980957031,
          100.21197509765625,
          97.4316177368164,
          93.28980255126953,
          94.79341888427734,
          97.16313171386719,
          97.04115295410156,
          96.29347229003906,
          98.37705993652344,
          96.36454772949219,
          113.18885803222656,
          95.33062744140625,
          99.31771087646484,
          96.6418228149414,
          98.25687408447266,
          138.44395446777344,
          94.31643676757812,
          97.32770538330078,
          94.862060546875,
          97.15969848632812,
          93.70011901855469,
          95.51444244384766,
          97.3378677368164,
          95.80032348632812,
          103.79712677001953,
          92.80775451660156,
          98.17245483398438,
          96.60272216796875,
          91.44002532958984,
          100.14786529541016,
          90.43370056152344,
          92.43562316894531,
          98.36555480957031,
          104.25785827636719,
          91.71582794189453,
          94.92530822753906,
          94.174560546875,
          97.33185577392578,
          93.5966567993164,
          94.43522644042969,
          92.96927642822266,
          90.47325897216797,
          94.82874298095703,
          97.19974517822266,
          95.42096710205078,
          98.69520568847656,
          100.8664321899414,
          101.35592651367188,
          92.09114837646484,
          99.15929412841797,
          98.56432342529297,
          93.78321838378906,
          96.98365020751953,
          109.83788299560547,
          91.02384948730469,
          98.53795623779297,
          90.91565704345703,
          91.64163970947266,
          92.44161987304688,
          92.27606964111328,
          93.48412322998047,
          93.62567138671875,
          95.52972412109375,
          90.73017120361328
         ],
         "yaxis": "y"
        }
       ],
       "layout": {
        "legend": {
         "title": {
          "text": "variable"
         },
         "tracegroupgap": 0
        },
        "margin": {
         "t": 60
        },
        "template": {
         "data": {
          "bar": [
           {
            "error_x": {
             "color": "#2a3f5f"
            },
            "error_y": {
             "color": "#2a3f5f"
            },
            "marker": {
             "line": {
              "color": "#E5ECF6",
              "width": 0.5
             },
             "pattern": {
              "fillmode": "overlay",
              "size": 10,
              "solidity": 0.2
             }
            },
            "type": "bar"
           }
          ],
          "barpolar": [
           {
            "marker": {
             "line": {
              "color": "#E5ECF6",
              "width": 0.5
             },
             "pattern": {
              "fillmode": "overlay",
              "size": 10,
              "solidity": 0.2
             }
            },
            "type": "barpolar"
           }
          ],
          "carpet": [
           {
            "aaxis": {
             "endlinecolor": "#2a3f5f",
             "gridcolor": "white",
             "linecolor": "white",
             "minorgridcolor": "white",
             "startlinecolor": "#2a3f5f"
            },
            "baxis": {
             "endlinecolor": "#2a3f5f",
             "gridcolor": "white",
             "linecolor": "white",
             "minorgridcolor": "white",
             "startlinecolor": "#2a3f5f"
            },
            "type": "carpet"
           }
          ],
          "choropleth": [
           {
            "colorbar": {
             "outlinewidth": 0,
             "ticks": ""
            },
            "type": "choropleth"
           }
          ],
          "contour": [
           {
            "colorbar": {
             "outlinewidth": 0,
             "ticks": ""
            },
            "colorscale": [
             [
              0,
              "#0d0887"
             ],
             [
              0.1111111111111111,
              "#46039f"
             ],
             [
              0.2222222222222222,
              "#7201a8"
             ],
             [
              0.3333333333333333,
              "#9c179e"
             ],
             [
              0.4444444444444444,
              "#bd3786"
             ],
             [
              0.5555555555555556,
              "#d8576b"
             ],
             [
              0.6666666666666666,
              "#ed7953"
             ],
             [
              0.7777777777777778,
              "#fb9f3a"
             ],
             [
              0.8888888888888888,
              "#fdca26"
             ],
             [
              1,
              "#f0f921"
             ]
            ],
            "type": "contour"
           }
          ],
          "contourcarpet": [
           {
            "colorbar": {
             "outlinewidth": 0,
             "ticks": ""
            },
            "type": "contourcarpet"
           }
          ],
          "heatmap": [
           {
            "colorbar": {
             "outlinewidth": 0,
             "ticks": ""
            },
            "colorscale": [
             [
              0,
              "#0d0887"
             ],
             [
              0.1111111111111111,
              "#46039f"
             ],
             [
              0.2222222222222222,
              "#7201a8"
             ],
             [
              0.3333333333333333,
              "#9c179e"
             ],
             [
              0.4444444444444444,
              "#bd3786"
             ],
             [
              0.5555555555555556,
              "#d8576b"
             ],
             [
              0.6666666666666666,
              "#ed7953"
             ],
             [
              0.7777777777777778,
              "#fb9f3a"
             ],
             [
              0.8888888888888888,
              "#fdca26"
             ],
             [
              1,
              "#f0f921"
             ]
            ],
            "type": "heatmap"
           }
          ],
          "heatmapgl": [
           {
            "colorbar": {
             "outlinewidth": 0,
             "ticks": ""
            },
            "colorscale": [
             [
              0,
              "#0d0887"
             ],
             [
              0.1111111111111111,
              "#46039f"
             ],
             [
              0.2222222222222222,
              "#7201a8"
             ],
             [
              0.3333333333333333,
              "#9c179e"
             ],
             [
              0.4444444444444444,
              "#bd3786"
             ],
             [
              0.5555555555555556,
              "#d8576b"
             ],
             [
              0.6666666666666666,
              "#ed7953"
             ],
             [
              0.7777777777777778,
              "#fb9f3a"
             ],
             [
              0.8888888888888888,
              "#fdca26"
             ],
             [
              1,
              "#f0f921"
             ]
            ],
            "type": "heatmapgl"
           }
          ],
          "histogram": [
           {
            "marker": {
             "pattern": {
              "fillmode": "overlay",
              "size": 10,
              "solidity": 0.2
             }
            },
            "type": "histogram"
           }
          ],
          "histogram2d": [
           {
            "colorbar": {
             "outlinewidth": 0,
             "ticks": ""
            },
            "colorscale": [
             [
              0,
              "#0d0887"
             ],
             [
              0.1111111111111111,
              "#46039f"
             ],
             [
              0.2222222222222222,
              "#7201a8"
             ],
             [
              0.3333333333333333,
              "#9c179e"
             ],
             [
              0.4444444444444444,
              "#bd3786"
             ],
             [
              0.5555555555555556,
              "#d8576b"
             ],
             [
              0.6666666666666666,
              "#ed7953"
             ],
             [
              0.7777777777777778,
              "#fb9f3a"
             ],
             [
              0.8888888888888888,
              "#fdca26"
             ],
             [
              1,
              "#f0f921"
             ]
            ],
            "type": "histogram2d"
           }
          ],
          "histogram2dcontour": [
           {
            "colorbar": {
             "outlinewidth": 0,
             "ticks": ""
            },
            "colorscale": [
             [
              0,
              "#0d0887"
             ],
             [
              0.1111111111111111,
              "#46039f"
             ],
             [
              0.2222222222222222,
              "#7201a8"
             ],
             [
              0.3333333333333333,
              "#9c179e"
             ],
             [
              0.4444444444444444,
              "#bd3786"
             ],
             [
              0.5555555555555556,
              "#d8576b"
             ],
             [
              0.6666666666666666,
              "#ed7953"
             ],
             [
              0.7777777777777778,
              "#fb9f3a"
             ],
             [
              0.8888888888888888,
              "#fdca26"
             ],
             [
              1,
              "#f0f921"
             ]
            ],
            "type": "histogram2dcontour"
           }
          ],
          "mesh3d": [
           {
            "colorbar": {
             "outlinewidth": 0,
             "ticks": ""
            },
            "type": "mesh3d"
           }
          ],
          "parcoords": [
           {
            "line": {
             "colorbar": {
              "outlinewidth": 0,
              "ticks": ""
             }
            },
            "type": "parcoords"
           }
          ],
          "pie": [
           {
            "automargin": true,
            "type": "pie"
           }
          ],
          "scatter": [
           {
            "fillpattern": {
             "fillmode": "overlay",
             "size": 10,
             "solidity": 0.2
            },
            "type": "scatter"
           }
          ],
          "scatter3d": [
           {
            "line": {
             "colorbar": {
              "outlinewidth": 0,
              "ticks": ""
             }
            },
            "marker": {
             "colorbar": {
              "outlinewidth": 0,
              "ticks": ""
             }
            },
            "type": "scatter3d"
           }
          ],
          "scattercarpet": [
           {
            "marker": {
             "colorbar": {
              "outlinewidth": 0,
              "ticks": ""
             }
            },
            "type": "scattercarpet"
           }
          ],
          "scattergeo": [
           {
            "marker": {
             "colorbar": {
              "outlinewidth": 0,
              "ticks": ""
             }
            },
            "type": "scattergeo"
           }
          ],
          "scattergl": [
           {
            "marker": {
             "colorbar": {
              "outlinewidth": 0,
              "ticks": ""
             }
            },
            "type": "scattergl"
           }
          ],
          "scattermapbox": [
           {
            "marker": {
             "colorbar": {
              "outlinewidth": 0,
              "ticks": ""
             }
            },
            "type": "scattermapbox"
           }
          ],
          "scatterpolar": [
           {
            "marker": {
             "colorbar": {
              "outlinewidth": 0,
              "ticks": ""
             }
            },
            "type": "scatterpolar"
           }
          ],
          "scatterpolargl": [
           {
            "marker": {
             "colorbar": {
              "outlinewidth": 0,
              "ticks": ""
             }
            },
            "type": "scatterpolargl"
           }
          ],
          "scatterternary": [
           {
            "marker": {
             "colorbar": {
              "outlinewidth": 0,
              "ticks": ""
             }
            },
            "type": "scatterternary"
           }
          ],
          "surface": [
           {
            "colorbar": {
             "outlinewidth": 0,
             "ticks": ""
            },
            "colorscale": [
             [
              0,
              "#0d0887"
             ],
             [
              0.1111111111111111,
              "#46039f"
             ],
             [
              0.2222222222222222,
              "#7201a8"
             ],
             [
              0.3333333333333333,
              "#9c179e"
             ],
             [
              0.4444444444444444,
              "#bd3786"
             ],
             [
              0.5555555555555556,
              "#d8576b"
             ],
             [
              0.6666666666666666,
              "#ed7953"
             ],
             [
              0.7777777777777778,
              "#fb9f3a"
             ],
             [
              0.8888888888888888,
              "#fdca26"
             ],
             [
              1,
              "#f0f921"
             ]
            ],
            "type": "surface"
           }
          ],
          "table": [
           {
            "cells": {
             "fill": {
              "color": "#EBF0F8"
             },
             "line": {
              "color": "white"
             }
            },
            "header": {
             "fill": {
              "color": "#C8D4E3"
             },
             "line": {
              "color": "white"
             }
            },
            "type": "table"
           }
          ]
         },
         "layout": {
          "annotationdefaults": {
           "arrowcolor": "#2a3f5f",
           "arrowhead": 0,
           "arrowwidth": 1
          },
          "autotypenumbers": "strict",
          "coloraxis": {
           "colorbar": {
            "outlinewidth": 0,
            "ticks": ""
           }
          },
          "colorscale": {
           "diverging": [
            [
             0,
             "#8e0152"
            ],
            [
             0.1,
             "#c51b7d"
            ],
            [
             0.2,
             "#de77ae"
            ],
            [
             0.3,
             "#f1b6da"
            ],
            [
             0.4,
             "#fde0ef"
            ],
            [
             0.5,
             "#f7f7f7"
            ],
            [
             0.6,
             "#e6f5d0"
            ],
            [
             0.7,
             "#b8e186"
            ],
            [
             0.8,
             "#7fbc41"
            ],
            [
             0.9,
             "#4d9221"
            ],
            [
             1,
             "#276419"
            ]
           ],
           "sequential": [
            [
             0,
             "#0d0887"
            ],
            [
             0.1111111111111111,
             "#46039f"
            ],
            [
             0.2222222222222222,
             "#7201a8"
            ],
            [
             0.3333333333333333,
             "#9c179e"
            ],
            [
             0.4444444444444444,
             "#bd3786"
            ],
            [
             0.5555555555555556,
             "#d8576b"
            ],
            [
             0.6666666666666666,
             "#ed7953"
            ],
            [
             0.7777777777777778,
             "#fb9f3a"
            ],
            [
             0.8888888888888888,
             "#fdca26"
            ],
            [
             1,
             "#f0f921"
            ]
           ],
           "sequentialminus": [
            [
             0,
             "#0d0887"
            ],
            [
             0.1111111111111111,
             "#46039f"
            ],
            [
             0.2222222222222222,
             "#7201a8"
            ],
            [
             0.3333333333333333,
             "#9c179e"
            ],
            [
             0.4444444444444444,
             "#bd3786"
            ],
            [
             0.5555555555555556,
             "#d8576b"
            ],
            [
             0.6666666666666666,
             "#ed7953"
            ],
            [
             0.7777777777777778,
             "#fb9f3a"
            ],
            [
             0.8888888888888888,
             "#fdca26"
            ],
            [
             1,
             "#f0f921"
            ]
           ]
          },
          "colorway": [
           "#636efa",
           "#EF553B",
           "#00cc96",
           "#ab63fa",
           "#FFA15A",
           "#19d3f3",
           "#FF6692",
           "#B6E880",
           "#FF97FF",
           "#FECB52"
          ],
          "font": {
           "color": "#2a3f5f"
          },
          "geo": {
           "bgcolor": "white",
           "lakecolor": "white",
           "landcolor": "#E5ECF6",
           "showlakes": true,
           "showland": true,
           "subunitcolor": "white"
          },
          "hoverlabel": {
           "align": "left"
          },
          "hovermode": "closest",
          "mapbox": {
           "style": "light"
          },
          "paper_bgcolor": "white",
          "plot_bgcolor": "#E5ECF6",
          "polar": {
           "angularaxis": {
            "gridcolor": "white",
            "linecolor": "white",
            "ticks": ""
           },
           "bgcolor": "#E5ECF6",
           "radialaxis": {
            "gridcolor": "white",
            "linecolor": "white",
            "ticks": ""
           }
          },
          "scene": {
           "xaxis": {
            "backgroundcolor": "#E5ECF6",
            "gridcolor": "white",
            "gridwidth": 2,
            "linecolor": "white",
            "showbackground": true,
            "ticks": "",
            "zerolinecolor": "white"
           },
           "yaxis": {
            "backgroundcolor": "#E5ECF6",
            "gridcolor": "white",
            "gridwidth": 2,
            "linecolor": "white",
            "showbackground": true,
            "ticks": "",
            "zerolinecolor": "white"
           },
           "zaxis": {
            "backgroundcolor": "#E5ECF6",
            "gridcolor": "white",
            "gridwidth": 2,
            "linecolor": "white",
            "showbackground": true,
            "ticks": "",
            "zerolinecolor": "white"
           }
          },
          "shapedefaults": {
           "line": {
            "color": "#2a3f5f"
           }
          },
          "ternary": {
           "aaxis": {
            "gridcolor": "white",
            "linecolor": "white",
            "ticks": ""
           },
           "baxis": {
            "gridcolor": "white",
            "linecolor": "white",
            "ticks": ""
           },
           "bgcolor": "#E5ECF6",
           "caxis": {
            "gridcolor": "white",
            "linecolor": "white",
            "ticks": ""
           }
          },
          "title": {
           "x": 0.05
          },
          "xaxis": {
           "automargin": true,
           "gridcolor": "white",
           "linecolor": "white",
           "ticks": "",
           "title": {
            "standoff": 15
           },
           "zerolinecolor": "white",
           "zerolinewidth": 2
          },
          "yaxis": {
           "automargin": true,
           "gridcolor": "white",
           "linecolor": "white",
           "ticks": "",
           "title": {
            "standoff": 15
           },
           "zerolinecolor": "white",
           "zerolinewidth": 2
          }
         }
        },
        "xaxis": {
         "anchor": "y",
         "domain": [
          0,
          1
         ],
         "title": {
          "text": "index"
         }
        },
        "yaxis": {
         "anchor": "x",
         "domain": [
          0,
          1
         ],
         "title": {
          "text": "value"
         }
        }
       }
      }
     },
     "metadata": {},
     "output_type": "display_data"
    }
   ],
   "source": [
    "import plotly as px\n",
    "import pandas as pd\n",
    "px.plot(pd.DataFrame(history.history)[['loss','val_loss']],kind='line')\n"
   ]
  },
  {
   "cell_type": "code",
   "execution_count": 48,
   "metadata": {},
   "outputs": [
    {
     "data": {
      "image/png": "[encoded data removed]",
      "text/plain": [
       "<Figure size 432x288 with 1 Axes>"
      ]
     },
     "metadata": {
      "needs_background": "light"
     },
     "output_type": "display_data"
    }
   ],
   "source": [
    "import matplotlib.pyplot as plt\n",
    "plt.plot(history.history['loss'])\n",
    "plt.plot(history.history['val_loss'])\n",
    "plt.title('model loss')\n",
    "plt.ylabel('loss')\n",
    "plt.xlabel('epoch')\n",
    "plt.legend(['train', 'val'], loc='upper left')\n",
    "plt.show()"
   ]
  },
  {
   "cell_type": "code",
   "execution_count": 58,
   "metadata": {},
   "outputs": [
    {
     "name": "stdout",
     "output_type": "stream",
     "text": [
      "1/1 [==============================] - 1s 1s/step\n"
     ]
    },
    {
     "data": {
      "application/vnd.plotly.v1+json": {
       "config": {
        "plotlyServerURL": "https://plot.ly"
       },
       "data": [
        {
         "hovertemplate": "variable=Prediction<br>index=%{x}<br>value=%{y}<extra></extra>",
         "legendgroup": "Prediction",
         "line": {
          "color": "#636efa",
          "dash": "solid"
         },
         "marker": {
          "symbol": "circle"
         },
         "mode": "lines",
         "name": "Prediction",
         "orientation": "v",
         "showlegend": true,
         "type": "scatter",
         "x": [
          0,
          1,
          2,
          3,
          4,
          5,
          6,
          7,
          8,
          9,
          10,
          11,
          12,
          13,
          14,
          15,
          16,
          17,
          18,
          19,
          20,
          21,
          22,
          23,
          24,
          25,
          26,
          27,
          28,
          29,
          30,
          31,
          32,
          33,
          34,
          35,
          36,
          37,
          38,
          39,
          40,
          41,
          42,
          43,
          44,
          45,
          46,
          47,
          48,
          49,
          50,
          51,
          52,
          53,
          54,
          55,
          56,
          57,
          58,
          59,
          60,
          61,
          62,
          63,
          64,
          65,
          66,
          67,
          68,
          69,
          70,
          71,
          72,
          73,
          74,
          75,
          76,
          77,
          78,
          79,
          80,
          81,
          82,
          83,
          84,
          85,
          86,
          87,
          88,
          89,
          90,
          91,
          92,
          93,
          94,
          95,
          96,
          97,
          98,
          99,
          100,
          101,
          102,
          103,
          104,
          105,
          106,
          107,
          108,
          109,
          110,
          111,
          112,
          113,
          114,
          115,
          116,
          117,
          118,
          119,
          120,
          121,
          122,
          123,
          124,
          125,
          126,
          127,
          128,
          129,
          130,
          131,
          132,
          133,
          134,
          135,
          136,
          137,
          138,
          139,
          140,
          141,
          142,
          143,
          144,
          145,
          146,
          147,
          148,
          149,
          150,
          151,
          152,
          153,
          154,
          155,
          156,
          157,
          158,
          159,
          160,
          161,
          162,
          163,
          164,
          165,
          166,
          167,
          168,
          169,
          170,
          171,
          172,
          173,
          174,
          175,
          176,
          177,
          178,
          179,
          180,
          181,
          182,
          183,
          184,
          185,
          186,
          187,
          188,
          189,
          190,
          191
         ],
         "xaxis": "x",
         "y": [
          206,
          208,
          210,
          213,
          212,
          223,
          229,
          223,
          247,
          237,
          225,
          227,
          233,
          242,
          217,
          211,
          208,
          227,
          222,
          213,
          210,
          210,
          211,
          215,
          215,
          215,
          210,
          214,
          207,
          211,
          213,
          236,
          233,
          232,
          240,
          228,
          227,
          220,
          218,
          217,
          221,
          220,
          217,
          219,
          217,
          218,
          220,
          219,
          216,
          207,
          211,
          219,
          221,
          203,
          206,
          205,
          206,
          205,
          210,
          220,
          217,
          213,
          211,
          211,
          208,
          211,
          211,
          211,
          212,
          213,
          210,
          209,
          209,
          210,
          211,
          209,
          207,
          221,
          230,
          228,
          233,
          218,
          218,
          218,
          215,
          228,
          217,
          210,
          213,
          211,
          206,
          214,
          214,
          209,
          206,
          209,
          209,
          210,
          214,
          216,
          214,
          213,
          206,
          213,
          236,
          242,
          242,
          226,
          221,
          220,
          215,
          213,
          215,
          216,
          214,
          219,
          214,
          213,
          212,
          210,
          210,
          208,
          213,
          216,
          219,
          219,
          222,
          216,
          217,
          239,
          231,
          235,
          230,
          224,
          218,
          217,
          217,
          217,
          226,
          229,
          217,
          216,
          213,
          220,
          217,
          216,
          218,
          214,
          214,
          216,
          226,
          234,
          240,
          239,
          231,
          228,
          224,
          222,
          225,
          219,
          214,
          211,
          213,
          207,
          211,
          211,
          207,
          206,
          207.63708,
          208.84941,
          209.10309,
          211.15445,
          211.79175,
          214.55353,
          217.21054,
          220.65274,
          224.64662,
          228.80891,
          230.37498,
          230.73424,
          229.31406,
          225.18275,
          220.28082,
          217.00803,
          213.7631,
          210.85052,
          209.24881,
          207.94922,
          206.68205,
          203.93333,
          203.46704,
          203.55627
         ],
         "yaxis": "y"
        },
        {
         "hovertemplate": "variable=Truth<br>index=%{x}<br>value=%{y}<extra></extra>",
         "legendgroup": "Truth",
         "line": {
          "color": "#EF553B",
          "dash": "solid"
         },
         "marker": {
          "symbol": "circle"
         },
         "mode": "lines",
         "name": "Truth",
         "orientation": "v",
         "showlegend": true,
         "type": "scatter",
         "x": [
          0,
          1,
          2,
          3,
          4,
          5,
          6,
          7,
          8,
          9,
          10,
          11,
          12,
          13,
          14,
          15,
          16,
          17,
          18,
          19,
          20,
          21,
          22,
          23,
          24,
          25,
          26,
          27,
          28,
          29,
          30,
          31,
          32,
          33,
          34,
          35,
          36,
          37,
          38,
          39,
          40,
          41,
          42,
          43,
          44,
          45,
          46,
          47,
          48,
          49,
          50,
          51,
          52,
          53,
          54,
          55,
          56,
          57,
          58,
          59,
          60,
          61,
          62,
          63,
          64,
          65,
          66,
          67,
          68,
          69,
          70,
          71,
          72,
          73,
          74,
          75,
          76,
          77,
          78,
          79,
          80,
          81,
          82,
          83,
          84,
          85,
          86,
          87,
          88,
          89,
          90,
          91,
          92,
          93,
          94,
          95,
          96,
          97,
          98,
          99,
          100,
          101,
          102,
          103,
          104,
          105,
          106,
          107,
          108,
          109,
          110,
          111,
          112,
          113,
          114,
          115,
          116,
          117,
          118,
          119,
          120,
          121,
          122,
          123,
          124,
          125,
          126,
          127,
          128,
          129,
          130,
          131,
          132,
          133,
          134,
          135,
          136,
          137,
          138,
          139,
          140,
          141,
          142,
          143,
          144,
          145,
          146,
          147,
          148,
          149,
          150,
          151,
          152,
          153,
          154,
          155,
          156,
          157,
          158,
          159,
          160,
          161,
          162,
          163,
          164,
          165,
          166,
          167,
          168,
          169,
          170,
          171,
          172,
          173,
          174,
          175,
          176,
          177,
          178,
          179,
          180,
          181,
          182,
          183,
          184,
          185,
          186,
          187,
          188,
          189,
          190,
          191
         ],
         "xaxis": "x",
         "y": [
          206,
          208,
          210,
          213,
          212,
          223,
          229,
          223,
          247,
          237,
          225,
          227,
          233,
          242,
          217,
          211,
          208,
          227,
          222,
          213,
          210,
          210,
          211,
          215,
          215,
          215,
          210,
          214,
          207,
          211,
          213,
          236,
          233,
          232,
          240,
          228,
          227,
          220,
          218,
          217,
          221,
          220,
          217,
          219,
          217,
          218,
          220,
          219,
          216,
          207,
          211,
          219,
          221,
          203,
          206,
          205,
          206,
          205,
          210,
          220,
          217,
          213,
          211,
          211,
          208,
          211,
          211,
          211,
          212,
          213,
          210,
          209,
          209,
          210,
          211,
          209,
          207,
          221,
          230,
          228,
          233,
          218,
          218,
          218,
          215,
          228,
          217,
          210,
          213,
          211,
          206,
          214,
          214,
          209,
          206,
          209,
          209,
          210,
          214,
          216,
          214,
          213,
          206,
          213,
          236,
          242,
          242,
          226,
          221,
          220,
          215,
          213,
          215,
          216,
          214,
          219,
          214,
          213,
          212,
          210,
          210,
          208,
          213,
          216,
          219,
          219,
          222,
          216,
          217,
          239,
          231,
          235,
          230,
          224,
          218,
          217,
          217,
          217,
          226,
          229,
          217,
          216,
          213,
          220,
          217,
          216,
          218,
          214,
          214,
          216,
          226,
          234,
          240,
          239,
          231,
          228,
          224,
          222,
          225,
          219,
          214,
          211,
          213,
          207,
          211,
          211,
          207,
          206,
          214,
          216,
          212,
          216,
          233,
          228,
          220,
          234,
          228,
          221,
          218,
          225,
          223,
          216,
          212,
          213,
          214,
          215,
          213,
          214,
          215,
          215,
          213,
          212
         ],
         "yaxis": "y"
        }
       ],
       "layout": {
        "legend": {
         "title": {
          "text": "variable"
         },
         "tracegroupgap": 0
        },
        "margin": {
         "t": 60
        },
        "template": {
         "data": {
          "bar": [
           {
            "error_x": {
             "color": "#2a3f5f"
            },
            "error_y": {
             "color": "#2a3f5f"
            },
            "marker": {
             "line": {
              "color": "#E5ECF6",
              "width": 0.5
             },
             "pattern": {
              "fillmode": "overlay",
              "size": 10,
              "solidity": 0.2
             }
            },
            "type": "bar"
           }
          ],
          "barpolar": [
           {
            "marker": {
             "line": {
              "color": "#E5ECF6",
              "width": 0.5
             },
             "pattern": {
              "fillmode": "overlay",
              "size": 10,
              "solidity": 0.2
             }
            },
            "type": "barpolar"
           }
          ],
          "carpet": [
           {
            "aaxis": {
             "endlinecolor": "#2a3f5f",
             "gridcolor": "white",
             "linecolor": "white",
             "minorgridcolor": "white",
             "startlinecolor": "#2a3f5f"
            },
            "baxis": {
             "endlinecolor": "#2a3f5f",
             "gridcolor": "white",
             "linecolor": "white",
             "minorgridcolor": "white",
             "startlinecolor": "#2a3f5f"
            },
            "type": "carpet"
           }
          ],
          "choropleth": [
           {
            "colorbar": {
             "outlinewidth": 0,
             "ticks": ""
            },
            "type": "choropleth"
           }
          ],
          "contour": [
           {
            "colorbar": {
             "outlinewidth": 0,
             "ticks": ""
            },
            "colorscale": [
             [
              0,
              "#0d0887"
             ],
             [
              0.1111111111111111,
              "#46039f"
             ],
             [
              0.2222222222222222,
              "#7201a8"
             ],
             [
              0.3333333333333333,
              "#9c179e"
             ],
             [
              0.4444444444444444,
              "#bd3786"
             ],
             [
              0.5555555555555556,
              "#d8576b"
             ],
             [
              0.6666666666666666,
              "#ed7953"
             ],
             [
              0.7777777777777778,
              "#fb9f3a"
             ],
             [
              0.8888888888888888,
              "#fdca26"
             ],
             [
              1,
              "#f0f921"
             ]
            ],
            "type": "contour"
           }
          ],
          "contourcarpet": [
           {
            "colorbar": {
             "outlinewidth": 0,
             "ticks": ""
            },
            "type": "contourcarpet"
           }
          ],
          "heatmap": [
           {
            "colorbar": {
             "outlinewidth": 0,
             "ticks": ""
            },
            "colorscale": [
             [
              0,
              "#0d0887"
             ],
             [
              0.1111111111111111,
              "#46039f"
             ],
             [
              0.2222222222222222,
              "#7201a8"
             ],
             [
              0.3333333333333333,
              "#9c179e"
             ],
             [
              0.4444444444444444,
              "#bd3786"
             ],
             [
              0.5555555555555556,
              "#d8576b"
             ],
             [
              0.6666666666666666,
              "#ed7953"
             ],
             [
              0.7777777777777778,
              "#fb9f3a"
             ],
             [
              0.8888888888888888,
              "#fdca26"
             ],
             [
              1,
              "#f0f921"
             ]
            ],
            "type": "heatmap"
           }
          ],
          "heatmapgl": [
           {
            "colorbar": {
             "outlinewidth": 0,
             "ticks": ""
            },
            "colorscale": [
             [
              0,
              "#0d0887"
             ],
             [
              0.1111111111111111,
              "#46039f"
             ],
             [
              0.2222222222222222,
              "#7201a8"
             ],
             [
              0.3333333333333333,
              "#9c179e"
             ],
             [
              0.4444444444444444,
              "#bd3786"
             ],
             [
              0.5555555555555556,
              "#d8576b"
             ],
             [
              0.6666666666666666,
              "#ed7953"
             ],
             [
              0.7777777777777778,
              "#fb9f3a"
             ],
             [
              0.8888888888888888,
              "#fdca26"
             ],
             [
              1,
              "#f0f921"
             ]
            ],
            "type": "heatmapgl"
           }
          ],
          "histogram": [
           {
            "marker": {
             "pattern": {
              "fillmode": "overlay",
              "size": 10,
              "solidity": 0.2
             }
            },
            "type": "histogram"
           }
          ],
          "histogram2d": [
           {
            "colorbar": {
             "outlinewidth": 0,
             "ticks": ""
            },
            "colorscale": [
             [
              0,
              "#0d0887"
             ],
             [
              0.1111111111111111,
              "#46039f"
             ],
             [
              0.2222222222222222,
              "#7201a8"
             ],
             [
              0.3333333333333333,
              "#9c179e"
             ],
             [
              0.4444444444444444,
              "#bd3786"
             ],
             [
              0.5555555555555556,
              "#d8576b"
             ],
             [
              0.6666666666666666,
              "#ed7953"
             ],
             [
              0.7777777777777778,
              "#fb9f3a"
             ],
             [
              0.8888888888888888,
              "#fdca26"
             ],
             [
              1,
              "#f0f921"
             ]
            ],
            "type": "histogram2d"
           }
          ],
          "histogram2dcontour": [
           {
            "colorbar": {
             "outlinewidth": 0,
             "ticks": ""
            },
            "colorscale": [
             [
              0,
              "#0d0887"
             ],
             [
              0.1111111111111111,
              "#46039f"
             ],
             [
              0.2222222222222222,
              "#7201a8"
             ],
             [
              0.3333333333333333,
              "#9c179e"
             ],
             [
              0.4444444444444444,
              "#bd3786"
             ],
             [
              0.5555555555555556,
              "#d8576b"
             ],
             [
              0.6666666666666666,
              "#ed7953"
             ],
             [
              0.7777777777777778,
              "#fb9f3a"
             ],
             [
              0.8888888888888888,
              "#fdca26"
             ],
             [
              1,
              "#f0f921"
             ]
            ],
            "type": "histogram2dcontour"
           }
          ],
          "mesh3d": [
           {
            "colorbar": {
             "outlinewidth": 0,
             "ticks": ""
            },
            "type": "mesh3d"
           }
          ],
          "parcoords": [
           {
            "line": {
             "colorbar": {
              "outlinewidth": 0,
              "ticks": ""
             }
            },
            "type": "parcoords"
           }
          ],
          "pie": [
           {
            "automargin": true,
            "type": "pie"
           }
          ],
          "scatter": [
           {
            "fillpattern": {
             "fillmode": "overlay",
             "size": 10,
             "solidity": 0.2
            },
            "type": "scatter"
           }
          ],
          "scatter3d": [
           {
            "line": {
             "colorbar": {
              "outlinewidth": 0,
              "ticks": ""
             }
            },
            "marker": {
             "colorbar": {
              "outlinewidth": 0,
              "ticks": ""
             }
            },
            "type": "scatter3d"
           }
          ],
          "scattercarpet": [
           {
            "marker": {
             "colorbar": {
              "outlinewidth": 0,
              "ticks": ""
             }
            },
            "type": "scattercarpet"
           }
          ],
          "scattergeo": [
           {
            "marker": {
             "colorbar": {
              "outlinewidth": 0,
              "ticks": ""
             }
            },
            "type": "scattergeo"
           }
          ],
          "scattergl": [
           {
            "marker": {
             "colorbar": {
              "outlinewidth": 0,
              "ticks": ""
             }
            },
            "type": "scattergl"
           }
          ],
          "scattermapbox": [
           {
            "marker": {
             "colorbar": {
              "outlinewidth": 0,
              "ticks": ""
             }
            },
            "type": "scattermapbox"
           }
          ],
          "scatterpolar": [
           {
            "marker": {
             "colorbar": {
              "outlinewidth": 0,
              "ticks": ""
             }
            },
            "type": "scatterpolar"
           }
          ],
          "scatterpolargl": [
           {
            "marker": {
             "colorbar": {
              "outlinewidth": 0,
              "ticks": ""
             }
            },
            "type": "scatterpolargl"
           }
          ],
          "scatterternary": [
           {
            "marker": {
             "colorbar": {
              "outlinewidth": 0,
              "ticks": ""
             }
            },
            "type": "scatterternary"
           }
          ],
          "surface": [
           {
            "colorbar": {
             "outlinewidth": 0,
             "ticks": ""
            },
            "colorscale": [
             [
              0,
              "#0d0887"
             ],
             [
              0.1111111111111111,
              "#46039f"
             ],
             [
              0.2222222222222222,
              "#7201a8"
             ],
             [
              0.3333333333333333,
              "#9c179e"
             ],
             [
              0.4444444444444444,
              "#bd3786"
             ],
             [
              0.5555555555555556,
              "#d8576b"
             ],
             [
              0.6666666666666666,
              "#ed7953"
             ],
             [
              0.7777777777777778,
              "#fb9f3a"
             ],
             [
              0.8888888888888888,
              "#fdca26"
             ],
             [
              1,
              "#f0f921"
             ]
            ],
            "type": "surface"
           }
          ],
          "table": [
           {
            "cells": {
             "fill": {
              "color": "#EBF0F8"
             },
             "line": {
              "color": "white"
             }
            },
            "header": {
             "fill": {
              "color": "#C8D4E3"
             },
             "line": {
              "color": "white"
             }
            },
            "type": "table"
           }
          ]
         },
         "layout": {
          "annotationdefaults": {
           "arrowcolor": "#2a3f5f",
           "arrowhead": 0,
           "arrowwidth": 1
          },
          "autotypenumbers": "strict",
          "coloraxis": {
           "colorbar": {
            "outlinewidth": 0,
            "ticks": ""
           }
          },
          "colorscale": {
           "diverging": [
            [
             0,
             "#8e0152"
            ],
            [
             0.1,
             "#c51b7d"
            ],
            [
             0.2,
             "#de77ae"
            ],
            [
             0.3,
             "#f1b6da"
            ],
            [
             0.4,
             "#fde0ef"
            ],
            [
             0.5,
             "#f7f7f7"
            ],
            [
             0.6,
             "#e6f5d0"
            ],
            [
             0.7,
             "#b8e186"
            ],
            [
             0.8,
             "#7fbc41"
            ],
            [
             0.9,
             "#4d9221"
            ],
            [
             1,
             "#276419"
            ]
           ],
           "sequential": [
            [
             0,
             "#0d0887"
            ],
            [
             0.1111111111111111,
             "#46039f"
            ],
            [
             0.2222222222222222,
             "#7201a8"
            ],
            [
             0.3333333333333333,
             "#9c179e"
            ],
            [
             0.4444444444444444,
             "#bd3786"
            ],
            [
             0.5555555555555556,
             "#d8576b"
            ],
            [
             0.6666666666666666,
             "#ed7953"
            ],
            [
             0.7777777777777778,
             "#fb9f3a"
            ],
            [
             0.8888888888888888,
             "#fdca26"
            ],
            [
             1,
             "#f0f921"
            ]
           ],
           "sequentialminus": [
            [
             0,
             "#0d0887"
            ],
            [
             0.1111111111111111,
             "#46039f"
            ],
            [
             0.2222222222222222,
             "#7201a8"
            ],
            [
             0.3333333333333333,
             "#9c179e"
            ],
            [
             0.4444444444444444,
             "#bd3786"
            ],
            [
             0.5555555555555556,
             "#d8576b"
            ],
            [
             0.6666666666666666,
             "#ed7953"
            ],
            [
             0.7777777777777778,
             "#fb9f3a"
            ],
            [
             0.8888888888888888,
             "#fdca26"
            ],
            [
             1,
             "#f0f921"
            ]
           ]
          },
          "colorway": [
           "#636efa",
           "#EF553B",
           "#00cc96",
           "#ab63fa",
           "#FFA15A",
           "#19d3f3",
           "#FF6692",
           "#B6E880",
           "#FF97FF",
           "#FECB52"
          ],
          "font": {
           "color": "#2a3f5f"
          },
          "geo": {
           "bgcolor": "white",
           "lakecolor": "white",
           "landcolor": "#E5ECF6",
           "showlakes": true,
           "showland": true,
           "subunitcolor": "white"
          },
          "hoverlabel": {
           "align": "left"
          },
          "hovermode": "closest",
          "mapbox": {
           "style": "light"
          },
          "paper_bgcolor": "white",
          "plot_bgcolor": "#E5ECF6",
          "polar": {
           "angularaxis": {
            "gridcolor": "white",
            "linecolor": "white",
            "ticks": ""
           },
           "bgcolor": "#E5ECF6",
           "radialaxis": {
            "gridcolor": "white",
            "linecolor": "white",
            "ticks": ""
           }
          },
          "scene": {
           "xaxis": {
            "backgroundcolor": "#E5ECF6",
            "gridcolor": "white",
            "gridwidth": 2,
            "linecolor": "white",
            "showbackground": true,
            "ticks": "",
            "zerolinecolor": "white"
           },
           "yaxis": {
            "backgroundcolor": "#E5ECF6",
            "gridcolor": "white",
            "gridwidth": 2,
            "linecolor": "white",
            "showbackground": true,
            "ticks": "",
            "zerolinecolor": "white"
           },
           "zaxis": {
            "backgroundcolor": "#E5ECF6",
            "gridcolor": "white",
            "gridwidth": 2,
            "linecolor": "white",
            "showbackground": true,
            "ticks": "",
            "zerolinecolor": "white"
           }
          },
          "shapedefaults": {
           "line": {
            "color": "#2a3f5f"
           }
          },
          "ternary": {
           "aaxis": {
            "gridcolor": "white",
            "linecolor": "white",
            "ticks": ""
           },
           "baxis": {
            "gridcolor": "white",
            "linecolor": "white",
            "ticks": ""
           },
           "bgcolor": "#E5ECF6",
           "caxis": {
            "gridcolor": "white",
            "linecolor": "white",
            "ticks": ""
           }
          },
          "title": {
           "x": 0.05
          },
          "xaxis": {
           "automargin": true,
           "gridcolor": "white",
           "linecolor": "white",
           "ticks": "",
           "title": {
            "standoff": 15
           },
           "zerolinecolor": "white",
           "zerolinewidth": 2
          },
          "yaxis": {
           "automargin": true,
           "gridcolor": "white",
           "linecolor": "white",
           "ticks": "",
           "title": {
            "standoff": 15
           },
           "zerolinecolor": "white",
           "zerolinewidth": 2
          }
         }
        },
        "xaxis": {
         "anchor": "y",
         "domain": [
          0,
          1
         ],
         "title": {
          "text": "index"
         }
        },
        "yaxis": {
         "anchor": "x",
         "domain": [
          0,
          1
         ],
         "fixedrange": true,
         "range": [
          0,
          400
         ],
         "title": {
          "text": "value"
         }
        }
       }
      }
     },
     "metadata": {},
     "output_type": "display_data"
    },
    {
     "name": "stdout",
     "output_type": "stream",
     "text": [
      "rmse: 0.8729452803723806\n"
     ]
    }
   ],
   "source": [
    "# Plot a random prediction result from test set\n",
    "\n",
    "import random\n",
    "example_index = test_size-1\n",
    "\n",
    "example_input_1 = test_input_1[example_index]\n",
    "example_input_2 = test_input_2[example_index]\n",
    "example_input_3 = test_input_3[example_index]\n",
    "example_input_4 = test_input_4[example_index]\n",
    "example_input_5 = test_input_5[example_index]\n",
    "example_input_6 = test_input_6[example_index]\n",
    "example_truth = test_output[example_index]\n",
    "\n",
    "example_output = model.predict(x=[numpy.array([example_input_1])\n",
    "                                  , numpy.array([example_input_2])\n",
    "                                  , numpy.array([example_input_3])\n",
    "                                  , numpy.array([example_input_4])\n",
    "                                  , numpy.array([example_input_5])\n",
    "                                  , numpy.array([example_input_6])])[0]\n",
    "\n",
    "import plotly.express as px\n",
    "fig = px.line({'Prediction': [*example_input_1, *example_output], 'Truth': [*example_input_1, *example_truth]})\n",
    "fig.update_layout(yaxis_range=[0, 400])\n",
    "fig.update_yaxes(fixedrange=True)\n",
    "fig.show()\n",
    "from sklearn.metrics import mean_squared_error\n",
    "import pandas as pd\n",
    "print('rmse: '+str(mean_squared_error([*example_output],[*example_truth])**0.5/10))"
   ]
  },
  {
   "cell_type": "code",
   "execution_count": 50,
   "metadata": {},
   "outputs": [
    {
     "data": {
      "text/plain": [
       "<function matplotlib.pyplot.xticks(ticks=None, labels=None, *, minor=False, **kwargs)>"
      ]
     },
     "execution_count": 50,
     "metadata": {},
     "output_type": "execute_result"
    },
    {
     "data": {
      "image/png": "[encoded data removed]",
      "text/plain": [
       "<Figure size 432x288 with 1 Axes>"
      ]
     },
     "metadata": {
      "needs_background": "light"
     },
     "output_type": "display_data"
    }
   ],
   "source": [
    "import seaborn as sns\n",
    "import matplotlib.pyplot as plt\n",
    "fig,ax=plt.subplots(1)\n",
    "pred=list(example_input_1)+list(example_output)\n",
    "actual=list(example_input_1)+list(example_truth)\n",
    "sns.lineplot(x=df_range.index[-len(pred):],y=pred,ax=ax)\n",
    "sns.lineplot(x=df_range.index[-len(pred):],y=actual,ax=ax,c='r')\n",
    "plt.xticks(rotation=45)\n",
    "plt.xticks"
   ]
  },
  {
   "cell_type": "code",
   "execution_count": 51,
   "metadata": {},
   "outputs": [
    {
     "name": "stdout",
     "output_type": "stream",
     "text": [
      "rmse: 0.8729452803723806\n"
     ]
    },
    {
     "data": {
      "application/vnd.plotly.v1+json": {
       "config": {
        "plotlyServerURL": "https://plot.ly"
       },
       "data": [
        {
         "hovertemplate": "variable=Prediction<br>index=%{x}<br>value=%{y}<extra></extra>",
         "legendgroup": "Prediction",
         "line": {
          "color": "#636efa",
          "dash": "solid"
         },
         "marker": {
          "symbol": "circle"
         },
         "mode": "markers+lines",
         "name": "Prediction",
         "orientation": "v",
         "showlegend": true,
         "type": "scatter",
         "x": [
          168,
          169,
          170,
          171,
          172,
          173,
          174,
          175,
          176,
          177,
          178,
          179,
          180,
          181,
          182,
          183,
          184,
          185,
          186,
          187,
          188,
          189,
          190,
          191
         ],
         "xaxis": "x",
         "y": [
          20.763708,
          20.884941,
          20.910309,
          21.115444,
          21.179174,
          21.455353,
          21.721054,
          22.065273,
          22.464663,
          22.880892,
          23.037498,
          23.073423,
          22.931406,
          22.518276,
          22.028082,
          21.700802,
          21.37631,
          21.085052,
          20.924881,
          20.794922,
          20.668205,
          20.393333,
          20.346704,
          20.355627
         ],
         "yaxis": "y"
        },
        {
         "hovertemplate": "variable=Truth<br>index=%{x}<br>value=%{y}<extra></extra>",
         "legendgroup": "Truth",
         "line": {
          "color": "#EF553B",
          "dash": "solid"
         },
         "marker": {
          "symbol": "circle"
         },
         "mode": "markers+lines",
         "name": "Truth",
         "orientation": "v",
         "showlegend": true,
         "type": "scatter",
         "x": [
          168,
          169,
          170,
          171,
          172,
          173,
          174,
          175,
          176,
          177,
          178,
          179,
          180,
          181,
          182,
          183,
          184,
          185,
          186,
          187,
          188,
          189,
          190,
          191
         ],
         "xaxis": "x",
         "y": [
          21.4,
          21.6,
          21.2,
          21.6,
          23.3,
          22.8,
          22,
          23.4,
          22.8,
          22.1,
          21.8,
          22.5,
          22.3,
          21.6,
          21.2,
          21.3,
          21.4,
          21.5,
          21.3,
          21.4,
          21.5,
          21.5,
          21.3,
          21.2
         ],
         "yaxis": "y"
        }
       ],
       "layout": {
        "legend": {
         "title": {
          "text": "variable"
         },
         "tracegroupgap": 0
        },
        "margin": {
         "t": 60
        },
        "template": {
         "data": {
          "bar": [
           {
            "error_x": {
             "color": "#2a3f5f"
            },
            "error_y": {
             "color": "#2a3f5f"
            },
            "marker": {
             "line": {
              "color": "#E5ECF6",
              "width": 0.5
             },
             "pattern": {
              "fillmode": "overlay",
              "size": 10,
              "solidity": 0.2
             }
            },
            "type": "bar"
           }
          ],
          "barpolar": [
           {
            "marker": {
             "line": {
              "color": "#E5ECF6",
              "width": 0.5
             },
             "pattern": {
              "fillmode": "overlay",
              "size": 10,
              "solidity": 0.2
             }
            },
            "type": "barpolar"
           }
          ],
          "carpet": [
           {
            "aaxis": {
             "endlinecolor": "#2a3f5f",
             "gridcolor": "white",
             "linecolor": "white",
             "minorgridcolor": "white",
             "startlinecolor": "#2a3f5f"
            },
            "baxis": {
             "endlinecolor": "#2a3f5f",
             "gridcolor": "white",
             "linecolor": "white",
             "minorgridcolor": "white",
             "startlinecolor": "#2a3f5f"
            },
            "type": "carpet"
           }
          ],
          "choropleth": [
           {
            "colorbar": {
             "outlinewidth": 0,
             "ticks": ""
            },
            "type": "choropleth"
           }
          ],
          "contour": [
           {
            "colorbar": {
             "outlinewidth": 0,
             "ticks": ""
            },
            "colorscale": [
             [
              0,
              "#0d0887"
             ],
             [
              0.1111111111111111,
              "#46039f"
             ],
             [
              0.2222222222222222,
              "#7201a8"
             ],
             [
              0.3333333333333333,
              "#9c179e"
             ],
             [
              0.4444444444444444,
              "#bd3786"
             ],
             [
              0.5555555555555556,
              "#d8576b"
             ],
             [
              0.6666666666666666,
              "#ed7953"
             ],
             [
              0.7777777777777778,
              "#fb9f3a"
             ],
             [
              0.8888888888888888,
              "#fdca26"
             ],
             [
              1,
              "#f0f921"
             ]
            ],
            "type": "contour"
           }
          ],
          "contourcarpet": [
           {
            "colorbar": {
             "outlinewidth": 0,
             "ticks": ""
            },
            "type": "contourcarpet"
           }
          ],
          "heatmap": [
           {
            "colorbar": {
             "outlinewidth": 0,
             "ticks": ""
            },
            "colorscale": [
             [
              0,
              "#0d0887"
             ],
             [
              0.1111111111111111,
              "#46039f"
             ],
             [
              0.2222222222222222,
              "#7201a8"
             ],
             [
              0.3333333333333333,
              "#9c179e"
             ],
             [
              0.4444444444444444,
              "#bd3786"
             ],
             [
              0.5555555555555556,
              "#d8576b"
             ],
             [
              0.6666666666666666,
              "#ed7953"
             ],
             [
              0.7777777777777778,
              "#fb9f3a"
             ],
             [
              0.8888888888888888,
              "#fdca26"
             ],
             [
              1,
              "#f0f921"
             ]
            ],
            "type": "heatmap"
           }
          ],
          "heatmapgl": [
           {
            "colorbar": {
             "outlinewidth": 0,
             "ticks": ""
            },
            "colorscale": [
             [
              0,
              "#0d0887"
             ],
             [
              0.1111111111111111,
              "#46039f"
             ],
             [
              0.2222222222222222,
              "#7201a8"
             ],
             [
              0.3333333333333333,
              "#9c179e"
             ],
             [
              0.4444444444444444,
              "#bd3786"
             ],
             [
              0.5555555555555556,
              "#d8576b"
             ],
             [
              0.6666666666666666,
              "#ed7953"
             ],
             [
              0.7777777777777778,
              "#fb9f3a"
             ],
             [
              0.8888888888888888,
              "#fdca26"
             ],
             [
              1,
              "#f0f921"
             ]
            ],
            "type": "heatmapgl"
           }
          ],
          "histogram": [
           {
            "marker": {
             "pattern": {
              "fillmode": "overlay",
              "size": 10,
              "solidity": 0.2
             }
            },
            "type": "histogram"
           }
          ],
          "histogram2d": [
           {
            "colorbar": {
             "outlinewidth": 0,
             "ticks": ""
            },
            "colorscale": [
             [
              0,
              "#0d0887"
             ],
             [
              0.1111111111111111,
              "#46039f"
             ],
             [
              0.2222222222222222,
              "#7201a8"
             ],
             [
              0.3333333333333333,
              "#9c179e"
             ],
             [
              0.4444444444444444,
              "#bd3786"
             ],
             [
              0.5555555555555556,
              "#d8576b"
             ],
             [
              0.6666666666666666,
              "#ed7953"
             ],
             [
              0.7777777777777778,
              "#fb9f3a"
             ],
             [
              0.8888888888888888,
              "#fdca26"
             ],
             [
              1,
              "#f0f921"
             ]
            ],
            "type": "histogram2d"
           }
          ],
          "histogram2dcontour": [
           {
            "colorbar": {
             "outlinewidth": 0,
             "ticks": ""
            },
            "colorscale": [
             [
              0,
              "#0d0887"
             ],
             [
              0.1111111111111111,
              "#46039f"
             ],
             [
              0.2222222222222222,
              "#7201a8"
             ],
             [
              0.3333333333333333,
              "#9c179e"
             ],
             [
              0.4444444444444444,
              "#bd3786"
             ],
             [
              0.5555555555555556,
              "#d8576b"
             ],
             [
              0.6666666666666666,
              "#ed7953"
             ],
             [
              0.7777777777777778,
              "#fb9f3a"
             ],
             [
              0.8888888888888888,
              "#fdca26"
             ],
             [
              1,
              "#f0f921"
             ]
            ],
            "type": "histogram2dcontour"
           }
          ],
          "mesh3d": [
           {
            "colorbar": {
             "outlinewidth": 0,
             "ticks": ""
            },
            "type": "mesh3d"
           }
          ],
          "parcoords": [
           {
            "line": {
             "colorbar": {
              "outlinewidth": 0,
              "ticks": ""
             }
            },
            "type": "parcoords"
           }
          ],
          "pie": [
           {
            "automargin": true,
            "type": "pie"
           }
          ],
          "scatter": [
           {
            "fillpattern": {
             "fillmode": "overlay",
             "size": 10,
             "solidity": 0.2
            },
            "type": "scatter"
           }
          ],
          "scatter3d": [
           {
            "line": {
             "colorbar": {
              "outlinewidth": 0,
              "ticks": ""
             }
            },
            "marker": {
             "colorbar": {
              "outlinewidth": 0,
              "ticks": ""
             }
            },
            "type": "scatter3d"
           }
          ],
          "scattercarpet": [
           {
            "marker": {
             "colorbar": {
              "outlinewidth": 0,
              "ticks": ""
             }
            },
            "type": "scattercarpet"
           }
          ],
          "scattergeo": [
           {
            "marker": {
             "colorbar": {
              "outlinewidth": 0,
              "ticks": ""
             }
            },
            "type": "scattergeo"
           }
          ],
          "scattergl": [
           {
            "marker": {
             "colorbar": {
              "outlinewidth": 0,
              "ticks": ""
             }
            },
            "type": "scattergl"
           }
          ],
          "scattermapbox": [
           {
            "marker": {
             "colorbar": {
              "outlinewidth": 0,
              "ticks": ""
             }
            },
            "type": "scattermapbox"
           }
          ],
          "scatterpolar": [
           {
            "marker": {
             "colorbar": {
              "outlinewidth": 0,
              "ticks": ""
             }
            },
            "type": "scatterpolar"
           }
          ],
          "scatterpolargl": [
           {
            "marker": {
             "colorbar": {
              "outlinewidth": 0,
              "ticks": ""
             }
            },
            "type": "scatterpolargl"
           }
          ],
          "scatterternary": [
           {
            "marker": {
             "colorbar": {
              "outlinewidth": 0,
              "ticks": ""
             }
            },
            "type": "scatterternary"
           }
          ],
          "surface": [
           {
            "colorbar": {
             "outlinewidth": 0,
             "ticks": ""
            },
            "colorscale": [
             [
              0,
              "#0d0887"
             ],
             [
              0.1111111111111111,
              "#46039f"
             ],
             [
              0.2222222222222222,
              "#7201a8"
             ],
             [
              0.3333333333333333,
              "#9c179e"
             ],
             [
              0.4444444444444444,
              "#bd3786"
             ],
             [
              0.5555555555555556,
              "#d8576b"
             ],
             [
              0.6666666666666666,
              "#ed7953"
             ],
             [
              0.7777777777777778,
              "#fb9f3a"
             ],
             [
              0.8888888888888888,
              "#fdca26"
             ],
             [
              1,
              "#f0f921"
             ]
            ],
            "type": "surface"
           }
          ],
          "table": [
           {
            "cells": {
             "fill": {
              "color": "#EBF0F8"
             },
             "line": {
              "color": "white"
             }
            },
            "header": {
             "fill": {
              "color": "#C8D4E3"
             },
             "line": {
              "color": "white"
             }
            },
            "type": "table"
           }
          ]
         },
         "layout": {
          "annotationdefaults": {
           "arrowcolor": "#2a3f5f",
           "arrowhead": 0,
           "arrowwidth": 1
          },
          "autotypenumbers": "strict",
          "coloraxis": {
           "colorbar": {
            "outlinewidth": 0,
            "ticks": ""
           }
          },
          "colorscale": {
           "diverging": [
            [
             0,
             "#8e0152"
            ],
            [
             0.1,
             "#c51b7d"
            ],
            [
             0.2,
             "#de77ae"
            ],
            [
             0.3,
             "#f1b6da"
            ],
            [
             0.4,
             "#fde0ef"
            ],
            [
             0.5,
             "#f7f7f7"
            ],
            [
             0.6,
             "#e6f5d0"
            ],
            [
             0.7,
             "#b8e186"
            ],
            [
             0.8,
             "#7fbc41"
            ],
            [
             0.9,
             "#4d9221"
            ],
            [
             1,
             "#276419"
            ]
           ],
           "sequential": [
            [
             0,
             "#0d0887"
            ],
            [
             0.1111111111111111,
             "#46039f"
            ],
            [
             0.2222222222222222,
             "#7201a8"
            ],
            [
             0.3333333333333333,
             "#9c179e"
            ],
            [
             0.4444444444444444,
             "#bd3786"
            ],
            [
             0.5555555555555556,
             "#d8576b"
            ],
            [
             0.6666666666666666,
             "#ed7953"
            ],
            [
             0.7777777777777778,
             "#fb9f3a"
            ],
            [
             0.8888888888888888,
             "#fdca26"
            ],
            [
             1,
             "#f0f921"
            ]
           ],
           "sequentialminus": [
            [
             0,
             "#0d0887"
            ],
            [
             0.1111111111111111,
             "#46039f"
            ],
            [
             0.2222222222222222,
             "#7201a8"
            ],
            [
             0.3333333333333333,
             "#9c179e"
            ],
            [
             0.4444444444444444,
             "#bd3786"
            ],
            [
             0.5555555555555556,
             "#d8576b"
            ],
            [
             0.6666666666666666,
             "#ed7953"
            ],
            [
             0.7777777777777778,
             "#fb9f3a"
            ],
            [
             0.8888888888888888,
             "#fdca26"
            ],
            [
             1,
             "#f0f921"
            ]
           ]
          },
          "colorway": [
           "#636efa",
           "#EF553B",
           "#00cc96",
           "#ab63fa",
           "#FFA15A",
           "#19d3f3",
           "#FF6692",
           "#B6E880",
           "#FF97FF",
           "#FECB52"
          ],
          "font": {
           "color": "#2a3f5f"
          },
          "geo": {
           "bgcolor": "white",
           "lakecolor": "white",
           "landcolor": "#E5ECF6",
           "showlakes": true,
           "showland": true,
           "subunitcolor": "white"
          },
          "hoverlabel": {
           "align": "left"
          },
          "hovermode": "closest",
          "mapbox": {
           "style": "light"
          },
          "paper_bgcolor": "white",
          "plot_bgcolor": "#E5ECF6",
          "polar": {
           "angularaxis": {
            "gridcolor": "white",
            "linecolor": "white",
            "ticks": ""
           },
           "bgcolor": "#E5ECF6",
           "radialaxis": {
            "gridcolor": "white",
            "linecolor": "white",
            "ticks": ""
           }
          },
          "scene": {
           "xaxis": {
            "backgroundcolor": "#E5ECF6",
            "gridcolor": "white",
            "gridwidth": 2,
            "linecolor": "white",
            "showbackground": true,
            "ticks": "",
            "zerolinecolor": "white"
           },
           "yaxis": {
            "backgroundcolor": "#E5ECF6",
            "gridcolor": "white",
            "gridwidth": 2,
            "linecolor": "white",
            "showbackground": true,
            "ticks": "",
            "zerolinecolor": "white"
           },
           "zaxis": {
            "backgroundcolor": "#E5ECF6",
            "gridcolor": "white",
            "gridwidth": 2,
            "linecolor": "white",
            "showbackground": true,
            "ticks": "",
            "zerolinecolor": "white"
           }
          },
          "shapedefaults": {
           "line": {
            "color": "#2a3f5f"
           }
          },
          "ternary": {
           "aaxis": {
            "gridcolor": "white",
            "linecolor": "white",
            "ticks": ""
           },
           "baxis": {
            "gridcolor": "white",
            "linecolor": "white",
            "ticks": ""
           },
           "bgcolor": "#E5ECF6",
           "caxis": {
            "gridcolor": "white",
            "linecolor": "white",
            "ticks": ""
           }
          },
          "title": {
           "x": 0.05
          },
          "xaxis": {
           "automargin": true,
           "gridcolor": "white",
           "linecolor": "white",
           "ticks": "",
           "title": {
            "standoff": 15
           },
           "zerolinecolor": "white",
           "zerolinewidth": 2
          },
          "yaxis": {
           "automargin": true,
           "gridcolor": "white",
           "linecolor": "white",
           "ticks": "",
           "title": {
            "standoff": 15
           },
           "zerolinecolor": "white",
           "zerolinewidth": 2
          }
         }
        },
        "xaxis": {
         "anchor": "y",
         "domain": [
          0,
          1
         ],
         "title": {
          "text": "index"
         }
        },
        "yaxis": {
         "anchor": "x",
         "domain": [
          0,
          1
         ],
         "title": {
          "text": "value"
         }
        }
       }
      }
     },
     "metadata": {},
     "output_type": "display_data"
    }
   ],
   "source": [
    "from sklearn.metrics import mean_squared_error\n",
    "import pandas as pd\n",
    "print('rmse: '+str(mean_squared_error([*example_output],[*example_truth])**0.5/10))\n",
    "summary=pd.DataFrame({'Prediction': [*example_input_1, *example_output], 'Truth': [*example_input_1, *example_truth]})\n",
    "summary=summary/10\n",
    "summary=summary[-len(example_truth):]\n",
    "summary['Diff']=summary['Prediction']-summary['Truth']\n",
    "summary\n",
    "px.line(summary[['Prediction','Truth']],markers='s')"
   ]
  },
  {
   "cell_type": "code",
   "execution_count": 52,
   "metadata": {},
   "outputs": [],
   "source": [
    "start_date = datetime(2023, 3, 29,0,0,0)\n",
    "end_date = datetime(2023, 3, 30,0,0,0)\n",
    "# Create dataset\n",
    "dataset_inputs_1 = []\n",
    "dataset_inputs_2 = []\n",
    "dataset_inputs_3 = []\n",
    "dataset_inputs_4 = []\n",
    "dataset_inputs_5 = []\n",
    "dataset_inputs_6 = []\n",
    "dataset_outputs = []\n",
    "for single_date in daterange(start_date, end_date):\n",
    "    if df_range[single_date-timedelta(hours=7*24):single_date+timedelta(hours=24)].isnull().values.any():\n",
    "        continue  # Skip data with nan\n",
    "    df_previous_week = df_range[single_date-timedelta(hours=7*24):single_date]\n",
    "    df_coming_day = df_range[single_date:single_date+timedelta(hours=24)]\n",
    "\n",
    "    temperature_input = numpy.asarray(df_previous_week['Temperature'].values.tolist(), dtype=numpy.float32)\n",
    "    wind_input = numpy.asarray(df_previous_week['Wind'].values.tolist(), dtype=numpy.float32)\n",
    "    rain_input = numpy.asarray(df_previous_week['Rainfall'].values.tolist(), dtype=numpy.float32)\n",
    "    month_input = to_categorical(single_date.month - 1, num_classes=12, dtype=numpy.float32)\n",
    "    humid_input = numpy.asarray(df_previous_week['Humid'].values.tolist(), dtype=numpy.float32)\n",
    "    hour_input = to_categorical(single_date.hour, num_classes=24, dtype=numpy.float32)\n",
    "    temperature_output = numpy.asarray(df_coming_day['Temperature'].values.tolist(), dtype=numpy.float32)\n",
    "\n",
    "\n",
    "    dataset_inputs_1.append(temperature_input)\n",
    "    dataset_inputs_2.append(month_input)\n",
    "    dataset_inputs_3.append(hour_input)\n",
    "    dataset_inputs_4.append(wind_input)\n",
    "    dataset_inputs_5.append(rain_input)\n",
    "    dataset_inputs_6.append(humid_input)\n",
    "    dataset_outputs.append(temperature_output)\n",
    "    \n",
    "dataset = list(zip(dataset_inputs_1, dataset_inputs_2, dataset_inputs_3, dataset_inputs_4, dataset_inputs_5,dataset_inputs_6, dataset_outputs))\n",
    "example_input_1=dataset[0][0]\n",
    "example_input_2=dataset[0][1]\n",
    "example_input_3=dataset[0][2]\n",
    "example_input_4=dataset[0][3]\n",
    "example_input_5=dataset[0][4]\n",
    "example_input_6=dataset[0][5]"
   ]
  },
  {
   "cell_type": "code",
   "execution_count": 53,
   "metadata": {},
   "outputs": [
    {
     "name": "stdout",
     "output_type": "stream",
     "text": [
      "1/1 [==============================] - 0s 44ms/step\n"
     ]
    }
   ],
   "source": [
    "import tensorflow as tf\n",
    "#model=tf.keras.models.load_model('C:/Users/squar/Desktop/HKO/Experiments/model/model-20230522-210104')\n",
    "example_output = model.predict(x=[numpy.array([example_input_1])\n",
    "                                  , numpy.array([example_input_2])\n",
    "                                  , numpy.array([example_input_3])\n",
    "                                  , numpy.array([example_input_4])\n",
    "                                  , numpy.array([example_input_5])\n",
    "                                  , numpy.array([example_input_6])])[0]"
   ]
  },
  {
   "cell_type": "code",
   "execution_count": 54,
   "metadata": {},
   "outputs": [
    {
     "data": {
      "text/plain": [
       "<function matplotlib.pyplot.xticks(ticks=None, labels=None, *, minor=False, **kwargs)>"
      ]
     },
     "execution_count": 54,
     "metadata": {},
     "output_type": "execute_result"
    },
    {
     "data": {
      "image/png": "[encoded data removed]",
      "text/plain": [
       "<Figure size 432x288 with 1 Axes>"
      ]
     },
     "metadata": {
      "needs_background": "light"
     },
     "output_type": "display_data"
    }
   ],
   "source": [
    "import seaborn as sns\n",
    "import matplotlib.pyplot as plt\n",
    "fig,ax=plt.subplots(1)\n",
    "pred=list(example_input_1)+list(example_output)\n",
    "actual=list(example_input_1)+list(dataset_outputs[0])\n",
    "sns.lineplot(x=df_range.index[-len(pred):],y=pred,ax=ax)\n",
    "sns.lineplot(x=df_range.index[-len(pred):],y=actual,ax=ax,c='r')\n",
    "plt.xticks(rotation=45)\n",
    "plt.xticks"
   ]
  },
  {
   "cell_type": "code",
   "execution_count": 55,
   "metadata": {},
   "outputs": [
    {
     "data": {
      "text/plain": [
       "0.6375"
      ]
     },
     "execution_count": 55,
     "metadata": {},
     "output_type": "execute_result"
    }
   ],
   "source": [
    "sum=pd.DataFrame({'pred':example_output,'actual':dataset_outputs[0]})\n",
    "sum['pred']=round(sum['pred'])\n",
    "sum['diff']=sum['actual']-sum['pred']\n",
    "sum['diff'].apply(abs).mean()/10"
   ]
  },
  {
   "cell_type": "code",
   "execution_count": 56,
   "metadata": {},
   "outputs": [
    {
     "data": {
      "application/vnd.plotly.v1+json": {
       "config": {
        "plotlyServerURL": "https://plot.ly"
       },
       "data": [
        {
         "hovertemplate": "variable=Temperature<br>Datetime=%{x}<br>value=%{y}<extra></extra>",
         "legendgroup": "Temperature",
         "line": {
          "color": "#636efa",
          "dash": "solid"
         },
         "marker": {
          "symbol": "circle"
         },
         "mode": "markers+lines",
         "name": "Temperature",
         "orientation": "v",
         "showlegend": true,
         "type": "scatter",
         "x": [
          "2023-03-29T00:01:00",
          "2023-03-29T01:01:00",
          "2023-03-29T02:01:00",
          "2023-03-29T03:01:00",
          "2023-03-29T04:01:00",
          "2023-03-29T05:01:00",
          "2023-03-29T06:01:00",
          "2023-03-29T07:01:00",
          "2023-03-29T08:01:00",
          "2023-03-29T09:01:00",
          "2023-03-29T10:01:00",
          "2023-03-29T11:01:00",
          "2023-03-29T12:01:00",
          "2023-03-29T13:01:00",
          "2023-03-29T14:01:00",
          "2023-03-29T15:01:00",
          "2023-03-29T16:01:00",
          "2023-03-29T17:01:00",
          "2023-03-29T18:01:00",
          "2023-03-29T19:01:00",
          "2023-03-29T20:01:00",
          "2023-03-29T21:01:00",
          "2023-03-29T22:01:00",
          "2023-03-29T23:01:00"
         ],
         "xaxis": "x",
         "y": [
          132,
          130,
          130,
          131,
          130,
          130,
          128,
          128,
          129,
          130,
          129,
          136,
          157,
          165,
          176,
          166,
          155,
          158,
          155,
          152,
          150,
          148,
          154,
          150
         ],
         "yaxis": "y"
        },
        {
         "hovertemplate": "variable=pred<br>Datetime=%{x}<br>value=%{y}<extra></extra>",
         "legendgroup": "pred",
         "line": {
          "color": "#EF553B",
          "dash": "solid"
         },
         "marker": {
          "symbol": "circle"
         },
         "mode": "markers+lines",
         "name": "pred",
         "orientation": "v",
         "showlegend": true,
         "type": "scatter",
         "x": [
          "2023-03-29T00:01:00",
          "2023-03-29T01:01:00",
          "2023-03-29T02:01:00",
          "2023-03-29T03:01:00",
          "2023-03-29T04:01:00",
          "2023-03-29T05:01:00",
          "2023-03-29T06:01:00",
          "2023-03-29T07:01:00",
          "2023-03-29T08:01:00",
          "2023-03-29T09:01:00",
          "2023-03-29T10:01:00",
          "2023-03-29T11:01:00",
          "2023-03-29T12:01:00",
          "2023-03-29T13:01:00",
          "2023-03-29T14:01:00",
          "2023-03-29T15:01:00",
          "2023-03-29T16:01:00",
          "2023-03-29T17:01:00",
          "2023-03-29T18:01:00",
          "2023-03-29T19:01:00",
          "2023-03-29T20:01:00",
          "2023-03-29T21:01:00",
          "2023-03-29T22:01:00",
          "2023-03-29T23:01:00"
         ],
         "xaxis": "x",
         "y": [
          126,
          127,
          128,
          129,
          129,
          130,
          130,
          131,
          133,
          136,
          138,
          141,
          144,
          146,
          148,
          151,
          151,
          150,
          150,
          149,
          148,
          147,
          146,
          146
         ],
         "yaxis": "y"
        }
       ],
       "layout": {
        "legend": {
         "title": {
          "text": "variable"
         },
         "tracegroupgap": 0
        },
        "margin": {
         "t": 60
        },
        "template": {
         "data": {
          "bar": [
           {
            "error_x": {
             "color": "#2a3f5f"
            },
            "error_y": {
             "color": "#2a3f5f"
            },
            "marker": {
             "line": {
              "color": "#E5ECF6",
              "width": 0.5
             },
             "pattern": {
              "fillmode": "overlay",
              "size": 10,
              "solidity": 0.2
             }
            },
            "type": "bar"
           }
          ],
          "barpolar": [
           {
            "marker": {
             "line": {
              "color": "#E5ECF6",
              "width": 0.5
             },
             "pattern": {
              "fillmode": "overlay",
              "size": 10,
              "solidity": 0.2
             }
            },
            "type": "barpolar"
           }
          ],
          "carpet": [
           {
            "aaxis": {
             "endlinecolor": "#2a3f5f",
             "gridcolor": "white",
             "linecolor": "white",
             "minorgridcolor": "white",
             "startlinecolor": "#2a3f5f"
            },
            "baxis": {
             "endlinecolor": "#2a3f5f",
             "gridcolor": "white",
             "linecolor": "white",
             "minorgridcolor": "white",
             "startlinecolor": "#2a3f5f"
            },
            "type": "carpet"
           }
          ],
          "choropleth": [
           {
            "colorbar": {
             "outlinewidth": 0,
             "ticks": ""
            },
            "type": "choropleth"
           }
          ],
          "contour": [
           {
            "colorbar": {
             "outlinewidth": 0,
             "ticks": ""
            },
            "colorscale": [
             [
              0,
              "#0d0887"
             ],
             [
              0.1111111111111111,
              "#46039f"
             ],
             [
              0.2222222222222222,
              "#7201a8"
             ],
             [
              0.3333333333333333,
              "#9c179e"
             ],
             [
              0.4444444444444444,
              "#bd3786"
             ],
             [
              0.5555555555555556,
              "#d8576b"
             ],
             [
              0.6666666666666666,
              "#ed7953"
             ],
             [
              0.7777777777777778,
              "#fb9f3a"
             ],
             [
              0.8888888888888888,
              "#fdca26"
             ],
             [
              1,
              "#f0f921"
             ]
            ],
            "type": "contour"
           }
          ],
          "contourcarpet": [
           {
            "colorbar": {
             "outlinewidth": 0,
             "ticks": ""
            },
            "type": "contourcarpet"
           }
          ],
          "heatmap": [
           {
            "colorbar": {
             "outlinewidth": 0,
             "ticks": ""
            },
            "colorscale": [
             [
              0,
              "#0d0887"
             ],
             [
              0.1111111111111111,
              "#46039f"
             ],
             [
              0.2222222222222222,
              "#7201a8"
             ],
             [
              0.3333333333333333,
              "#9c179e"
             ],
             [
              0.4444444444444444,
              "#bd3786"
             ],
             [
              0.5555555555555556,
              "#d8576b"
             ],
             [
              0.6666666666666666,
              "#ed7953"
             ],
             [
              0.7777777777777778,
              "#fb9f3a"
             ],
             [
              0.8888888888888888,
              "#fdca26"
             ],
             [
              1,
              "#f0f921"
             ]
            ],
            "type": "heatmap"
           }
          ],
          "heatmapgl": [
           {
            "colorbar": {
             "outlinewidth": 0,
             "ticks": ""
            },
            "colorscale": [
             [
              0,
              "#0d0887"
             ],
             [
              0.1111111111111111,
              "#46039f"
             ],
             [
              0.2222222222222222,
              "#7201a8"
             ],
             [
              0.3333333333333333,
              "#9c179e"
             ],
             [
              0.4444444444444444,
              "#bd3786"
             ],
             [
              0.5555555555555556,
              "#d8576b"
             ],
             [
              0.6666666666666666,
              "#ed7953"
             ],
             [
              0.7777777777777778,
              "#fb9f3a"
             ],
             [
              0.8888888888888888,
              "#fdca26"
             ],
             [
              1,
              "#f0f921"
             ]
            ],
            "type": "heatmapgl"
           }
          ],
          "histogram": [
           {
            "marker": {
             "pattern": {
              "fillmode": "overlay",
              "size": 10,
              "solidity": 0.2
             }
            },
            "type": "histogram"
           }
          ],
          "histogram2d": [
           {
            "colorbar": {
             "outlinewidth": 0,
             "ticks": ""
            },
            "colorscale": [
             [
              0,
              "#0d0887"
             ],
             [
              0.1111111111111111,
              "#46039f"
             ],
             [
              0.2222222222222222,
              "#7201a8"
             ],
             [
              0.3333333333333333,
              "#9c179e"
             ],
             [
              0.4444444444444444,
              "#bd3786"
             ],
             [
              0.5555555555555556,
              "#d8576b"
             ],
             [
              0.6666666666666666,
              "#ed7953"
             ],
             [
              0.7777777777777778,
              "#fb9f3a"
             ],
             [
              0.8888888888888888,
              "#fdca26"
             ],
             [
              1,
              "#f0f921"
             ]
            ],
            "type": "histogram2d"
           }
          ],
          "histogram2dcontour": [
           {
            "colorbar": {
             "outlinewidth": 0,
             "ticks": ""
            },
            "colorscale": [
             [
              0,
              "#0d0887"
             ],
             [
              0.1111111111111111,
              "#46039f"
             ],
             [
              0.2222222222222222,
              "#7201a8"
             ],
             [
              0.3333333333333333,
              "#9c179e"
             ],
             [
              0.4444444444444444,
              "#bd3786"
             ],
             [
              0.5555555555555556,
              "#d8576b"
             ],
             [
              0.6666666666666666,
              "#ed7953"
             ],
             [
              0.7777777777777778,
              "#fb9f3a"
             ],
             [
              0.8888888888888888,
              "#fdca26"
             ],
             [
              1,
              "#f0f921"
             ]
            ],
            "type": "histogram2dcontour"
           }
          ],
          "mesh3d": [
           {
            "colorbar": {
             "outlinewidth": 0,
             "ticks": ""
            },
            "type": "mesh3d"
           }
          ],
          "parcoords": [
           {
            "line": {
             "colorbar": {
              "outlinewidth": 0,
              "ticks": ""
             }
            },
            "type": "parcoords"
           }
          ],
          "pie": [
           {
            "automargin": true,
            "type": "pie"
           }
          ],
          "scatter": [
           {
            "fillpattern": {
             "fillmode": "overlay",
             "size": 10,
             "solidity": 0.2
            },
            "type": "scatter"
           }
          ],
          "scatter3d": [
           {
            "line": {
             "colorbar": {
              "outlinewidth": 0,
              "ticks": ""
             }
            },
            "marker": {
             "colorbar": {
              "outlinewidth": 0,
              "ticks": ""
             }
            },
            "type": "scatter3d"
           }
          ],
          "scattercarpet": [
           {
            "marker": {
             "colorbar": {
              "outlinewidth": 0,
              "ticks": ""
             }
            },
            "type": "scattercarpet"
           }
          ],
          "scattergeo": [
           {
            "marker": {
             "colorbar": {
              "outlinewidth": 0,
              "ticks": ""
             }
            },
            "type": "scattergeo"
           }
          ],
          "scattergl": [
           {
            "marker": {
             "colorbar": {
              "outlinewidth": 0,
              "ticks": ""
             }
            },
            "type": "scattergl"
           }
          ],
          "scattermapbox": [
           {
            "marker": {
             "colorbar": {
              "outlinewidth": 0,
              "ticks": ""
             }
            },
            "type": "scattermapbox"
           }
          ],
          "scatterpolar": [
           {
            "marker": {
             "colorbar": {
              "outlinewidth": 0,
              "ticks": ""
             }
            },
            "type": "scatterpolar"
           }
          ],
          "scatterpolargl": [
           {
            "marker": {
             "colorbar": {
              "outlinewidth": 0,
              "ticks": ""
             }
            },
            "type": "scatterpolargl"
           }
          ],
          "scatterternary": [
           {
            "marker": {
             "colorbar": {
              "outlinewidth": 0,
              "ticks": ""
             }
            },
            "type": "scatterternary"
           }
          ],
          "surface": [
           {
            "colorbar": {
             "outlinewidth": 0,
             "ticks": ""
            },
            "colorscale": [
             [
              0,
              "#0d0887"
             ],
             [
              0.1111111111111111,
              "#46039f"
             ],
             [
              0.2222222222222222,
              "#7201a8"
             ],
             [
              0.3333333333333333,
              "#9c179e"
             ],
             [
              0.4444444444444444,
              "#bd3786"
             ],
             [
              0.5555555555555556,
              "#d8576b"
             ],
             [
              0.6666666666666666,
              "#ed7953"
             ],
             [
              0.7777777777777778,
              "#fb9f3a"
             ],
             [
              0.8888888888888888,
              "#fdca26"
             ],
             [
              1,
              "#f0f921"
             ]
            ],
            "type": "surface"
           }
          ],
          "table": [
           {
            "cells": {
             "fill": {
              "color": "#EBF0F8"
             },
             "line": {
              "color": "white"
             }
            },
            "header": {
             "fill": {
              "color": "#C8D4E3"
             },
             "line": {
              "color": "white"
             }
            },
            "type": "table"
           }
          ]
         },
         "layout": {
          "annotationdefaults": {
           "arrowcolor": "#2a3f5f",
           "arrowhead": 0,
           "arrowwidth": 1
          },
          "autotypenumbers": "strict",
          "coloraxis": {
           "colorbar": {
            "outlinewidth": 0,
            "ticks": ""
           }
          },
          "colorscale": {
           "diverging": [
            [
             0,
             "#8e0152"
            ],
            [
             0.1,
             "#c51b7d"
            ],
            [
             0.2,
             "#de77ae"
            ],
            [
             0.3,
             "#f1b6da"
            ],
            [
             0.4,
             "#fde0ef"
            ],
            [
             0.5,
             "#f7f7f7"
            ],
            [
             0.6,
             "#e6f5d0"
            ],
            [
             0.7,
             "#b8e186"
            ],
            [
             0.8,
             "#7fbc41"
            ],
            [
             0.9,
             "#4d9221"
            ],
            [
             1,
             "#276419"
            ]
           ],
           "sequential": [
            [
             0,
             "#0d0887"
            ],
            [
             0.1111111111111111,
             "#46039f"
            ],
            [
             0.2222222222222222,
             "#7201a8"
            ],
            [
             0.3333333333333333,
             "#9c179e"
            ],
            [
             0.4444444444444444,
             "#bd3786"
            ],
            [
             0.5555555555555556,
             "#d8576b"
            ],
            [
             0.6666666666666666,
             "#ed7953"
            ],
            [
             0.7777777777777778,
             "#fb9f3a"
            ],
            [
             0.8888888888888888,
             "#fdca26"
            ],
            [
             1,
             "#f0f921"
            ]
           ],
           "sequentialminus": [
            [
             0,
             "#0d0887"
            ],
            [
             0.1111111111111111,
             "#46039f"
            ],
            [
             0.2222222222222222,
             "#7201a8"
            ],
            [
             0.3333333333333333,
             "#9c179e"
            ],
            [
             0.4444444444444444,
             "#bd3786"
            ],
            [
             0.5555555555555556,
             "#d8576b"
            ],
            [
             0.6666666666666666,
             "#ed7953"
            ],
            [
             0.7777777777777778,
             "#fb9f3a"
            ],
            [
             0.8888888888888888,
             "#fdca26"
            ],
            [
             1,
             "#f0f921"
            ]
           ]
          },
          "colorway": [
           "#636efa",
           "#EF553B",
           "#00cc96",
           "#ab63fa",
           "#FFA15A",
           "#19d3f3",
           "#FF6692",
           "#B6E880",
           "#FF97FF",
           "#FECB52"
          ],
          "font": {
           "color": "#2a3f5f"
          },
          "geo": {
           "bgcolor": "white",
           "lakecolor": "white",
           "landcolor": "#E5ECF6",
           "showlakes": true,
           "showland": true,
           "subunitcolor": "white"
          },
          "hoverlabel": {
           "align": "left"
          },
          "hovermode": "closest",
          "mapbox": {
           "style": "light"
          },
          "paper_bgcolor": "white",
          "plot_bgcolor": "#E5ECF6",
          "polar": {
           "angularaxis": {
            "gridcolor": "white",
            "linecolor": "white",
            "ticks": ""
           },
           "bgcolor": "#E5ECF6",
           "radialaxis": {
            "gridcolor": "white",
            "linecolor": "white",
            "ticks": ""
           }
          },
          "scene": {
           "xaxis": {
            "backgroundcolor": "#E5ECF6",
            "gridcolor": "white",
            "gridwidth": 2,
            "linecolor": "white",
            "showbackground": true,
            "ticks": "",
            "zerolinecolor": "white"
           },
           "yaxis": {
            "backgroundcolor": "#E5ECF6",
            "gridcolor": "white",
            "gridwidth": 2,
            "linecolor": "white",
            "showbackground": true,
            "ticks": "",
            "zerolinecolor": "white"
           },
           "zaxis": {
            "backgroundcolor": "#E5ECF6",
            "gridcolor": "white",
            "gridwidth": 2,
            "linecolor": "white",
            "showbackground": true,
            "ticks": "",
            "zerolinecolor": "white"
           }
          },
          "shapedefaults": {
           "line": {
            "color": "#2a3f5f"
           }
          },
          "ternary": {
           "aaxis": {
            "gridcolor": "white",
            "linecolor": "white",
            "ticks": ""
           },
           "baxis": {
            "gridcolor": "white",
            "linecolor": "white",
            "ticks": ""
           },
           "bgcolor": "#E5ECF6",
           "caxis": {
            "gridcolor": "white",
            "linecolor": "white",
            "ticks": ""
           }
          },
          "title": {
           "x": 0.05
          },
          "xaxis": {
           "automargin": true,
           "gridcolor": "white",
           "linecolor": "white",
           "ticks": "",
           "title": {
            "standoff": 15
           },
           "zerolinecolor": "white",
           "zerolinewidth": 2
          },
          "yaxis": {
           "automargin": true,
           "gridcolor": "white",
           "linecolor": "white",
           "ticks": "",
           "title": {
            "standoff": 15
           },
           "zerolinecolor": "white",
           "zerolinewidth": 2
          }
         }
        },
        "xaxis": {
         "anchor": "y",
         "domain": [
          0,
          1
         ],
         "title": {
          "text": "Datetime"
         }
        },
        "yaxis": {
         "anchor": "x",
         "domain": [
          0,
          1
         ],
         "title": {
          "text": "value"
         }
        }
       }
      }
     },
     "metadata": {},
     "output_type": "display_data"
    }
   ],
   "source": [
    "import plotly as px\n",
    "start_date = datetime(2023, 3, 29,0,1,0)\n",
    "end_date = datetime(2023, 3, 31,0,1,0)\n",
    "d=df_range.loc[start_date:][['Temperature']][:24]\n",
    "d['pred']=example_output\n",
    "d['pred']=round(d['pred'])\n",
    "px.plot(d,kind='line',markers='s')"
   ]
  },
  {
   "cell_type": "code",
   "execution_count": null,
   "metadata": {},
   "outputs": [],
   "source": []
  }
 ],
 "metadata": {
  "kernelspec": {
   "display_name": "Python 3",
   "language": "python",
   "name": "python3"
  },
  "language_info": {
   "codemirror_mode": {
    "name": "ipython",
    "version": 3
   },
   "file_extension": ".py",
   "mimetype": "text/x-python",
   "name": "python",
   "nbconvert_exporter": "python",
   "pygments_lexer": "ipython3",
   "version": "3.10.4"
  },
  "orig_nbformat": 4
 },
 "nbformat": 4,
 "nbformat_minor": 2
}
