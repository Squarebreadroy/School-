{
 "cells": [
  {
   "cell_type": "code",
   "execution_count": 138,
   "metadata": {},
   "outputs": [
    {
     "name": "stderr",
     "output_type": "stream",
     "text": [
      "c:\\Users\\squar\\AppData\\Local\\Programs\\Python\\Python310\\lib\\site-packages\\sklearn\\utils\\extmath.py:1047: RuntimeWarning: invalid value encountered in divide\n",
      "  updated_mean = (last_sum + new_sum) / updated_sample_count\n",
      "c:\\Users\\squar\\AppData\\Local\\Programs\\Python\\Python310\\lib\\site-packages\\sklearn\\utils\\extmath.py:1052: RuntimeWarning: invalid value encountered in divide\n",
      "  T = new_sum / new_sample_count\n",
      "c:\\Users\\squar\\AppData\\Local\\Programs\\Python\\Python310\\lib\\site-packages\\sklearn\\utils\\extmath.py:1072: RuntimeWarning: invalid value encountered in divide\n",
      "  new_unnormalized_variance -= correction**2 / new_sample_count\n",
      "c:\\Users\\squar\\AppData\\Local\\Programs\\Python\\Python310\\lib\\site-packages\\sklearn\\utils\\extmath.py:1047: RuntimeWarning: invalid value encountered in divide\n",
      "  updated_mean = (last_sum + new_sum) / updated_sample_count\n",
      "c:\\Users\\squar\\AppData\\Local\\Programs\\Python\\Python310\\lib\\site-packages\\sklearn\\utils\\extmath.py:1052: RuntimeWarning: invalid value encountered in divide\n",
      "  T = new_sum / new_sample_count\n",
      "c:\\Users\\squar\\AppData\\Local\\Programs\\Python\\Python310\\lib\\site-packages\\sklearn\\utils\\extmath.py:1072: RuntimeWarning: invalid value encountered in divide\n",
      "  new_unnormalized_variance -= correction**2 / new_sample_count\n",
      "c:\\Users\\squar\\AppData\\Local\\Programs\\Python\\Python310\\lib\\site-packages\\sklearn\\utils\\extmath.py:1047: RuntimeWarning: invalid value encountered in divide\n",
      "  updated_mean = (last_sum + new_sum) / updated_sample_count\n",
      "c:\\Users\\squar\\AppData\\Local\\Programs\\Python\\Python310\\lib\\site-packages\\sklearn\\utils\\extmath.py:1052: RuntimeWarning: invalid value encountered in divide\n",
      "  T = new_sum / new_sample_count\n",
      "c:\\Users\\squar\\AppData\\Local\\Programs\\Python\\Python310\\lib\\site-packages\\sklearn\\utils\\extmath.py:1072: RuntimeWarning: invalid value encountered in divide\n",
      "  new_unnormalized_variance -= correction**2 / new_sample_count\n",
      "c:\\Users\\squar\\AppData\\Local\\Programs\\Python\\Python310\\lib\\site-packages\\sklearn\\utils\\extmath.py:1047: RuntimeWarning: invalid value encountered in divide\n",
      "  updated_mean = (last_sum + new_sum) / updated_sample_count\n",
      "c:\\Users\\squar\\AppData\\Local\\Programs\\Python\\Python310\\lib\\site-packages\\sklearn\\utils\\extmath.py:1052: RuntimeWarning: invalid value encountered in divide\n",
      "  T = new_sum / new_sample_count\n",
      "c:\\Users\\squar\\AppData\\Local\\Programs\\Python\\Python310\\lib\\site-packages\\sklearn\\utils\\extmath.py:1072: RuntimeWarning: invalid value encountered in divide\n",
      "  new_unnormalized_variance -= correction**2 / new_sample_count\n",
      "c:\\Users\\squar\\AppData\\Local\\Programs\\Python\\Python310\\lib\\site-packages\\sklearn\\utils\\extmath.py:1047: RuntimeWarning: invalid value encountered in divide\n",
      "  updated_mean = (last_sum + new_sum) / updated_sample_count\n",
      "c:\\Users\\squar\\AppData\\Local\\Programs\\Python\\Python310\\lib\\site-packages\\sklearn\\utils\\extmath.py:1052: RuntimeWarning: invalid value encountered in divide\n",
      "  T = new_sum / new_sample_count\n",
      "c:\\Users\\squar\\AppData\\Local\\Programs\\Python\\Python310\\lib\\site-packages\\sklearn\\utils\\extmath.py:1072: RuntimeWarning: invalid value encountered in divide\n",
      "  new_unnormalized_variance -= correction**2 / new_sample_count\n",
      "c:\\Users\\squar\\AppData\\Local\\Programs\\Python\\Python310\\lib\\site-packages\\sklearn\\utils\\extmath.py:1047: RuntimeWarning: invalid value encountered in divide\n",
      "  updated_mean = (last_sum + new_sum) / updated_sample_count\n",
      "c:\\Users\\squar\\AppData\\Local\\Programs\\Python\\Python310\\lib\\site-packages\\sklearn\\utils\\extmath.py:1052: RuntimeWarning: invalid value encountered in divide\n",
      "  T = new_sum / new_sample_count\n",
      "c:\\Users\\squar\\AppData\\Local\\Programs\\Python\\Python310\\lib\\site-packages\\sklearn\\utils\\extmath.py:1072: RuntimeWarning: invalid value encountered in divide\n",
      "  new_unnormalized_variance -= correction**2 / new_sample_count\n",
      "c:\\Users\\squar\\AppData\\Local\\Programs\\Python\\Python310\\lib\\site-packages\\sklearn\\utils\\extmath.py:1047: RuntimeWarning: invalid value encountered in divide\n",
      "  updated_mean = (last_sum + new_sum) / updated_sample_count\n",
      "c:\\Users\\squar\\AppData\\Local\\Programs\\Python\\Python310\\lib\\site-packages\\sklearn\\utils\\extmath.py:1052: RuntimeWarning: invalid value encountered in divide\n",
      "  T = new_sum / new_sample_count\n",
      "c:\\Users\\squar\\AppData\\Local\\Programs\\Python\\Python310\\lib\\site-packages\\sklearn\\utils\\extmath.py:1072: RuntimeWarning: invalid value encountered in divide\n",
      "  new_unnormalized_variance -= correction**2 / new_sample_count\n",
      "c:\\Users\\squar\\AppData\\Local\\Programs\\Python\\Python310\\lib\\site-packages\\sklearn\\utils\\extmath.py:1047: RuntimeWarning: invalid value encountered in divide\n",
      "  updated_mean = (last_sum + new_sum) / updated_sample_count\n",
      "c:\\Users\\squar\\AppData\\Local\\Programs\\Python\\Python310\\lib\\site-packages\\sklearn\\utils\\extmath.py:1052: RuntimeWarning: invalid value encountered in divide\n",
      "  T = new_sum / new_sample_count\n",
      "c:\\Users\\squar\\AppData\\Local\\Programs\\Python\\Python310\\lib\\site-packages\\sklearn\\utils\\extmath.py:1072: RuntimeWarning: invalid value encountered in divide\n",
      "  new_unnormalized_variance -= correction**2 / new_sample_count\n",
      "c:\\Users\\squar\\AppData\\Local\\Programs\\Python\\Python310\\lib\\site-packages\\sklearn\\utils\\extmath.py:1047: RuntimeWarning: invalid value encountered in divide\n",
      "  updated_mean = (last_sum + new_sum) / updated_sample_count\n",
      "c:\\Users\\squar\\AppData\\Local\\Programs\\Python\\Python310\\lib\\site-packages\\sklearn\\utils\\extmath.py:1052: RuntimeWarning: invalid value encountered in divide\n",
      "  T = new_sum / new_sample_count\n",
      "c:\\Users\\squar\\AppData\\Local\\Programs\\Python\\Python310\\lib\\site-packages\\sklearn\\utils\\extmath.py:1072: RuntimeWarning: invalid value encountered in divide\n",
      "  new_unnormalized_variance -= correction**2 / new_sample_count\n"
     ]
    }
   ],
   "source": [
    "import numpy as np\n",
    "import pandas as pd\n",
    "import matplotlib.pyplot as plt\n",
    "import seaborn as sns\n",
    "import glob\n",
    "import openpyxl\n",
    "from sklearn.preprocessing import StandardScaler\n",
    "from sklearn.model_selection import train_test_split\n",
    "import random\n",
    "import warnings\n",
    "warnings.simplefilter(\"ignore\", UserWarning)\n",
    "random.seed(1)\n",
    "\n",
    "filelist=glob.glob('*.xls')\n",
    "temp={}\n",
    "for xls in filelist:\n",
    "    df_temp=pd.read_excel(xls)\n",
    "    for col in df_temp.select_dtypes(float):\n",
    "        ss=StandardScaler()\n",
    "        df_temp['new'+col]=ss.fit_transform(df_temp[[col]])\n",
    "    temp[xls]=df_temp\n",
    "df=pd.concat(temp)\n",
    "df=df.reset_index(drop=True)\n",
    "for col in df.columns[df.columns.str.contains('數學')]:\n",
    "    another=col[:-1]+'必'\n",
    "    df[col]=df[[col,another]].max(axis=1)\n",
    "    df=df.drop([another],axis=1)\n",
    "for col in df.columns[df.columns.str.startswith('T')]:\n",
    "    m=df[col].mean()\n",
    "    df[col]=df[col]/m"
   ]
  },
  {
   "cell_type": "code",
   "execution_count": 139,
   "metadata": {},
   "outputs": [],
   "source": [
    "df=df.drop_duplicates(subset=['學年','Reg No.'],keep='last')\n",
    "df_melt=df.melt(id_vars=df.select_dtypes(include=[int,object]))\n",
    "df_melt=df_melt.dropna()\n",
    "df_melt['Time']=df_melt['班別'].str[:-1]+'_'+df_melt['variable'].str[-3:-2]"
   ]
  },
  {
   "cell_type": "code",
   "execution_count": 140,
   "metadata": {},
   "outputs": [],
   "source": [
    "sub=['中文','英文','數學']\n",
    "df_melt_math=df_melt[df_melt['variable'].str.contains('數學')]\n",
    "df_melt_math=df_melt_math.drop_duplicates(subset=['Time','Reg No.'],keep='last')\n",
    "df_melt_math.pivot(index='Reg No.',columns='Time',values='value')\n",
    "df_math=df.select_dtypes(include=[int,object]).merge(df_melt_math.pivot(index='Reg No.',columns='Time',values='value'),how='left',on='Reg No.')\n",
    "df_math=df_math.drop_duplicates(subset=['Reg No.'],keep='last')\n",
    "\n",
    "df_melt_math=df_melt[df_melt['variable'].str.contains('數學')]\n",
    "df_melt_math=df_melt_math.drop_duplicates(subset=['Time','Reg No.'],keep='first')\n",
    "df_melt_math.pivot(index='Reg No.',columns='Time',values='value')\n",
    "df_math2=df.select_dtypes(include=[int,object]).merge(df_melt_math.pivot(index='Reg No.',columns='Time',values='value'),how='left',on='Reg No.')\n",
    "df_math2=df_math2.drop_duplicates(subset=['Reg No.'],keep='last')\n",
    "df_math=df_math.merge(df_math2,on=['學年','班別','班號','中文姓名','Reg No.'],how='inner')"
   ]
  },
  {
   "cell_type": "code",
   "execution_count": 141,
   "metadata": {},
   "outputs": [
    {
     "name": "stderr",
     "output_type": "stream",
     "text": [
      "C:\\Users\\squar\\AppData\\Local\\Temp\\ipykernel_21988\\3909739483.py:3: FutureWarning: The default value of regex will change from True to False in a future version.\n",
      "  dse['A030 Math']=dse['A030 Math'].str.replace('5\\*\\*','7')\n",
      "C:\\Users\\squar\\AppData\\Local\\Temp\\ipykernel_21988\\3909739483.py:4: FutureWarning: The default value of regex will change from True to False in a future version.\n",
      "  dse['A030 Math']=dse['A030 Math'].str.replace('5\\*','6')\n"
     ]
    }
   ],
   "source": [
    "dse=pd.read_excel('DSE/DSErecord.xls')\n",
    "dse['A030 Math']=dse['A030 Math'].str.replace('U','0')\n",
    "dse['A030 Math']=dse['A030 Math'].str.replace('5\\*\\*','7')\n",
    "dse['A030 Math']=dse['A030 Math'].str.replace('5\\*','6')\n",
    "dse['A030 Math']=dse['A030 Math'][dse['A030 Math']!='X']\n",
    "dse['A030 Math']=dse['A030 Math'].astype(float)\n",
    "dse_result=dse[['Reg No.','A030 Math']]\n",
    "df_final=dse_result.merge(df_math,how='left',on='Reg No.')\n",
    "df_final=df_final[~df_final['中文姓名'].isna()]\n",
    "df_final=df_final[['Reg No.', 'A030 Math', '學年', '班別', '班號', '中文姓名', '4_1_x', '4_2_x', '4_3_x', '5_1_x', '5_2_x', '5_3_x', '6_1_x', '6_2_x', '4_1_y', '4_2_y', '4_3_y', '5_1_y', '5_2_y', '5_3_y', '6_1_y', '6_2_y']]\n",
    "df_final[df_final.columns[-15:-8]]=df_final[df_final.columns[-15:-8]][df_final[df_final.columns[-15:-8]].isna().sum(axis=1)<=2].interpolate('linear')\n",
    "df_final[df_final.columns[-8:]]=df_final[df_final.columns[-8:]][df_final[df_final.columns[-8:]].isna().sum(axis=1)<=2].interpolate('linear')\n",
    "df_final=df_final[(df_final.isna().sum(axis=1)==0)]"
   ]
  },
  {
   "cell_type": "code",
   "execution_count": 142,
   "metadata": {},
   "outputs": [],
   "source": [
    "from sklearn.ensemble import RandomForestClassifier\n",
    "from sklearn.model_selection import GridSearchCV\n",
    "from sklearn.metrics import mean_absolute_error,make_scorer,classification_report\n",
    "mk=make_scorer(mean_absolute_error,greater_is_better=False)"
   ]
  },
  {
   "cell_type": "code",
   "execution_count": 143,
   "metadata": {},
   "outputs": [
    {
     "name": "stdout",
     "output_type": "stream",
     "text": [
      "Fitting 5 folds for each of 60 candidates, totalling 300 fits\n"
     ]
    }
   ],
   "source": [
    "#inital model\n",
    "X=df_final[df_final.columns[-15:]]\n",
    "y=df_final[['A030 Math']]\n",
    "X_train,X_test,y_train,y_test=train_test_split(X,y,test_size=0.2,stratify=y,random_state=0)\n",
    "rfr=RandomForestClassifier(random_state=0)\n",
    "rfr_grid={'n_estimators':np.arange(100,120),'max_depth':np.arange(2,5)}\n",
    "rfr_cv=GridSearchCV(rfr,rfr_grid,scoring=mk,verbose=1).fit(X_train,y_train)\n",
    "y_pred=rfr_cv.best_estimator_.predict(X_test)\n"
   ]
  },
  {
   "cell_type": "code",
   "execution_count": 144,
   "metadata": {},
   "outputs": [
    {
     "name": "stdout",
     "output_type": "stream",
     "text": [
      "              precision    recall  f1-score   support\n",
      "\n",
      "         0.0       0.68      0.94      0.79        16\n",
      "         1.0       0.59      0.59      0.59        27\n",
      "         2.0       0.81      0.62      0.70        40\n",
      "         3.0       0.30      0.43      0.35         7\n",
      "         4.0       0.71      0.71      0.71         7\n",
      "         5.0       1.00      0.50      0.67         2\n",
      "         6.0       0.00      0.00      0.00         0\n",
      "\n",
      "    accuracy                           0.66        99\n",
      "   macro avg       0.59      0.54      0.55        99\n",
      "weighted avg       0.69      0.66      0.66        99\n",
      "\n"
     ]
    }
   ],
   "source": [
    "compare=pd.DataFrame({'pred':y_pred,'actual':y_test['A030 Math']})\n",
    "compare['diff']=np.abs(compare['pred']-compare['actual'])\n",
    "print(classification_report(y_pred,y_test))"
   ]
  },
  {
   "cell_type": "code",
   "execution_count": 145,
   "metadata": {},
   "outputs": [
    {
     "name": "stdout",
     "output_type": "stream",
     "text": [
      "Best Param:{'max_depth': 4, 'n_estimators': 116}\n",
      "Feature Importance:[0.03496869 0.05569125 0.02203046 0.02688019 0.06231178 0.1167166\n",
      " 0.19027127 0.03860984 0.06594425 0.03459106 0.02279069 0.03810655\n",
      " 0.07316414 0.07033051 0.14759271]\n"
     ]
    },
    {
     "data": {
      "text/plain": [
       "([0, 1, 2, 3, 4, 5, 6, 7, 8, 9, 10, 11, 12, 13, 14],\n",
       " [Text(0, 0, '4_2_x'),\n",
       "  Text(1, 0, '4_3_x'),\n",
       "  Text(2, 0, '5_1_x'),\n",
       "  Text(3, 0, '5_2_x'),\n",
       "  Text(4, 0, '5_3_x'),\n",
       "  Text(5, 0, '6_1_x'),\n",
       "  Text(6, 0, '6_2_x'),\n",
       "  Text(7, 0, '4_1_y'),\n",
       "  Text(8, 0, '4_2_y'),\n",
       "  Text(9, 0, '4_3_y'),\n",
       "  Text(10, 0, '5_1_y'),\n",
       "  Text(11, 0, '5_2_y'),\n",
       "  Text(12, 0, '5_3_y'),\n",
       "  Text(13, 0, '6_1_y'),\n",
       "  Text(14, 0, '6_2_y')])"
      ]
     },
     "execution_count": 145,
     "metadata": {},
     "output_type": "execute_result"
    },
    {
     "data": {
      "image/png": "[encoded data removed]",
      "text/plain": [
       "<Figure size 432x288 with 1 Axes>"
      ]
     },
     "metadata": {
      "needs_background": "light"
     },
     "output_type": "display_data"
    }
   ],
   "source": [
    "print(f'Best Param:{rfr_cv.best_params_}')\n",
    "print(f'Feature Importance:{rfr_cv.best_estimator_.feature_importances_}')\n",
    "\n",
    "bestfea=rfr_cv.best_estimator_.feature_importances_\n",
    "plt.bar(X.columns,rfr_cv.best_estimator_.feature_importances_)\n",
    "plt.xticks(rotation=90)"
   ]
  },
  {
   "cell_type": "code",
   "execution_count": 146,
   "metadata": {},
   "outputs": [
    {
     "data": {
      "text/plain": [
       "['4_3_x', '5_3_x', '6_1_x', '6_2_x', '4_2_y', '5_3_y', '6_1_y', '6_2_y']"
      ]
     },
     "execution_count": 146,
     "metadata": {},
     "output_type": "execute_result"
    }
   ],
   "source": [
    "temp_dict={}\n",
    "temp_lst=[]\n",
    "for a, b in zip(df_final.columns[-15:],bestfea):\n",
    "    temp_dict[a]=b\n",
    "for i,v in temp_dict.items():\n",
    "    if v >0.05:\n",
    "        temp_lst.append(i)\n",
    "temp_lst"
   ]
  },
  {
   "cell_type": "code",
   "execution_count": 147,
   "metadata": {},
   "outputs": [
    {
     "name": "stdout",
     "output_type": "stream",
     "text": [
      "Fitting 5 folds for each of 60 candidates, totalling 300 fits\n"
     ]
    }
   ],
   "source": [
    "#Best model\n",
    "X=df_final[temp_lst]\n",
    "y=df_final[['A030 Math']]\n",
    "X_train,X_test,y_train,y_test=train_test_split(X,y,test_size=0.2,stratify=y,random_state=0)\n",
    "rfr=RandomForestClassifier(random_state=0)\n",
    "rfr_grid={'n_estimators':np.arange(100,120),'max_depth':np.arange(2,5)}\n",
    "rfr_cv=GridSearchCV(rfr,rfr_grid,scoring=mk,verbose=1).fit(X_train,y_train)\n",
    "y_pred=rfr_cv.best_estimator_.predict(X_test)\n",
    "compare=pd.DataFrame({'pred':y_pred,'actual':y_test['A030 Math']})\n",
    "compare['diff']=np.abs(compare['pred']-compare['actual'])\n"
   ]
  },
  {
   "cell_type": "code",
   "execution_count": 148,
   "metadata": {},
   "outputs": [
    {
     "name": "stdout",
     "output_type": "stream",
     "text": [
      "              precision    recall  f1-score   support\n",
      "\n",
      "         0.0       0.64      0.88      0.74        16\n",
      "         1.0       0.59      0.62      0.60        26\n",
      "         2.0       0.87      0.69      0.77        39\n",
      "         3.0       0.40      0.44      0.42         9\n",
      "         4.0       0.57      0.57      0.57         7\n",
      "         5.0       1.00      0.50      0.67         2\n",
      "         6.0       0.00      0.00      0.00         0\n",
      "\n",
      "    accuracy                           0.67        99\n",
      "   macro avg       0.58      0.53      0.54        99\n",
      "weighted avg       0.70      0.67      0.67        99\n",
      "\n"
     ]
    }
   ],
   "source": [
    "print(classification_report(y_pred,y_test))"
   ]
  },
  {
   "cell_type": "code",
   "execution_count": 149,
   "metadata": {},
   "outputs": [
    {
     "name": "stdout",
     "output_type": "stream",
     "text": [
      "Best Param:{'max_depth': 4, 'n_estimators': 112}\n",
      "Feature Importance:[0.05188704 0.07560633 0.17864763 0.22268258 0.10234441 0.08196282\n",
      " 0.10986747 0.17700173]\n"
     ]
    },
    {
     "data": {
      "image/png": "[encoded data removed]",
      "text/plain": [
       "<Figure size 432x288 with 1 Axes>"
      ]
     },
     "metadata": {
      "needs_background": "light"
     },
     "output_type": "display_data"
    }
   ],
   "source": [
    "plt.bar(X.columns,rfr_cv.best_estimator_.feature_importances_)\n",
    "print(f'Best Param:{rfr_cv.best_params_}')\n",
    "print(f'Feature Importance:{rfr_cv.best_estimator_.feature_importances_}')"
   ]
  },
  {
   "cell_type": "code",
   "execution_count": 150,
   "metadata": {},
   "outputs": [],
   "source": [
    "#Test 2022 candidates\n",
    "df2022=df_math[(df_math['學年']==2022 ) & (df_math['班別'].str.contains('6'))]\n",
    "df2022=df2022[['Reg No.', '學年', '班別', '班號', '中文姓名', '4_1_x', '4_2_x', '4_3_x', '5_1_x', '5_2_x', '5_3_x', '6_1_x', '6_2_x', '4_1_y', '4_2_y', '4_3_y', '5_1_y', '5_2_y', '5_3_y', '6_1_y', '6_2_y']]\n",
    "df2022[df_final.columns[-15:-8]]=df2022[df_final.columns[-15:-8]].interpolate('linear',axis=1)\n",
    "df2022[df_final.columns[-8:]]=df2022[df_final.columns[-8:]].interpolate('linear',axis=1)\n",
    "df2022=df2022.dropna()\n",
    "sample=df2022[temp_lst]\n",
    "sample_pred=rfr_cv.best_estimator_.predict(sample)\n",
    "sample_pred_df=pd.DataFrame({'name':df2022['中文姓名'],'pred':sample_pred})\n",
    "sample_pred_df.to_excel('DSE2022.xlsx')\n"
   ]
  },
  {
   "cell_type": "code",
   "execution_count": 151,
   "metadata": {},
   "outputs": [
    {
     "name": "stdout",
     "output_type": "stream",
     "text": [
      "Pass rate: 0.41\n"
     ]
    },
    {
     "data": {
      "text/plain": [
       "0.0    30.0\n",
       "1.0    29.0\n",
       "2.0    30.0\n",
       "3.0     5.0\n",
       "4.0     6.0\n",
       "5.0     NaN\n",
       "6.0     NaN\n",
       "7.0     NaN\n",
       "Name: pred, dtype: float64"
      ]
     },
     "metadata": {},
     "output_type": "display_data"
    },
    {
     "data": {
      "text/plain": [
       "<Axes: >"
      ]
     },
     "execution_count": 151,
     "metadata": {},
     "output_type": "execute_result"
    },
    {
     "data": {
      "image/png": "[encoded data removed]",
      "text/plain": [
       "<Figure size 432x288 with 1 Axes>"
      ]
     },
     "metadata": {
      "needs_background": "light"
     },
     "output_type": "display_data"
    }
   ],
   "source": [
    "print('Pass rate: ' +str((round((sample_pred_df['pred']>1).sum()/(sample_pred_df['pred']).count(),2))))\n",
    "display(sample_pred_df['pred'].value_counts().reindex([0.0,1.0,2.0,3.0,4.0,5.0,6.0,7.0]))\n",
    "sample_pred_df['pred'].value_counts().reindex([0.0,1.0,2.0,3.0,4.0,5.0,6.0,7.0]).plot.bar()"
   ]
  },
  {
   "cell_type": "code",
   "execution_count": 152,
   "metadata": {},
   "outputs": [
    {
     "data": {
      "text/html": [
       "<div>\n",
       "<style scoped>\n",
       "    .dataframe tbody tr th:only-of-type {\n",
       "        vertical-align: middle;\n",
       "    }\n",
       "\n",
       "    .dataframe tbody tr th {\n",
       "        vertical-align: top;\n",
       "    }\n",
       "\n",
       "    .dataframe thead th {\n",
       "        text-align: right;\n",
       "    }\n",
       "</style>\n",
       "<table border=\"1\" class=\"dataframe\">\n",
       "  <thead>\n",
       "    <tr style=\"text-align: right;\">\n",
       "      <th></th>\n",
       "      <th>學年</th>\n",
       "      <th>班別</th>\n",
       "      <th>班號</th>\n",
       "      <th>中文姓名</th>\n",
       "      <th>Reg No.</th>\n",
       "      <th>4_3_x</th>\n",
       "      <th>5_3_x</th>\n",
       "      <th>6_1_x</th>\n",
       "      <th>6_2_x</th>\n",
       "      <th>4_2_y</th>\n",
       "      <th>5_3_y</th>\n",
       "      <th>6_1_y</th>\n",
       "      <th>6_2_y</th>\n",
       "    </tr>\n",
       "  </thead>\n",
       "  <tbody>\n",
       "    <tr>\n",
       "      <th>859</th>\n",
       "      <td>2016.0</td>\n",
       "      <td>6B</td>\n",
       "      <td>3.0</td>\n",
       "      <td>陳河沅</td>\n",
       "      <td>20144001F</td>\n",
       "      <td>1.507439</td>\n",
       "      <td>2.514688</td>\n",
       "      <td>2.810014</td>\n",
       "      <td>2.363922</td>\n",
       "      <td>1.778014</td>\n",
       "      <td>1.739850</td>\n",
       "      <td>1.713605</td>\n",
       "      <td>1.647688</td>\n",
       "    </tr>\n",
       "    <tr>\n",
       "      <th>902</th>\n",
       "      <td>2016.0</td>\n",
       "      <td>6C</td>\n",
       "      <td>16.0</td>\n",
       "      <td>徐浩文</td>\n",
       "      <td>20111037M</td>\n",
       "      <td>1.415068</td>\n",
       "      <td>2.488942</td>\n",
       "      <td>2.312968</td>\n",
       "      <td>2.604246</td>\n",
       "      <td>1.805941</td>\n",
       "      <td>1.730741</td>\n",
       "      <td>1.557823</td>\n",
       "      <td>1.731469</td>\n",
       "    </tr>\n",
       "    <tr>\n",
       "      <th>995</th>\n",
       "      <td>2017.0</td>\n",
       "      <td>6C</td>\n",
       "      <td>5.0</td>\n",
       "      <td>石樂兒</td>\n",
       "      <td>20121073F</td>\n",
       "      <td>2.282976</td>\n",
       "      <td>2.438148</td>\n",
       "      <td>2.463491</td>\n",
       "      <td>2.162710</td>\n",
       "      <td>1.703542</td>\n",
       "      <td>1.630540</td>\n",
       "      <td>1.609750</td>\n",
       "      <td>1.656997</td>\n",
       "    </tr>\n",
       "    <tr>\n",
       "      <th>1114</th>\n",
       "      <td>2018.0</td>\n",
       "      <td>6C</td>\n",
       "      <td>14.0</td>\n",
       "      <td>陳國聰</td>\n",
       "      <td>20164003M</td>\n",
       "      <td>1.722277</td>\n",
       "      <td>2.178483</td>\n",
       "      <td>1.817001</td>\n",
       "      <td>1.626311</td>\n",
       "      <td>1.219475</td>\n",
       "      <td>1.594103</td>\n",
       "      <td>1.505896</td>\n",
       "      <td>1.452200</td>\n",
       "    </tr>\n",
       "    <tr>\n",
       "      <th>1173</th>\n",
       "      <td>2019.0</td>\n",
       "      <td>6A</td>\n",
       "      <td>24.0</td>\n",
       "      <td>徐嘉謙</td>\n",
       "      <td>20141023M</td>\n",
       "      <td>2.373850</td>\n",
       "      <td>2.348493</td>\n",
       "      <td>1.884848</td>\n",
       "      <td>2.155800</td>\n",
       "      <td>1.787323</td>\n",
       "      <td>1.630540</td>\n",
       "      <td>1.661678</td>\n",
       "      <td>1.768705</td>\n",
       "    </tr>\n",
       "    <tr>\n",
       "      <th>1174</th>\n",
       "      <td>2019.0</td>\n",
       "      <td>6A</td>\n",
       "      <td>25.0</td>\n",
       "      <td>賴文龍</td>\n",
       "      <td>20141116M</td>\n",
       "      <td>2.398271</td>\n",
       "      <td>2.622707</td>\n",
       "      <td>1.759537</td>\n",
       "      <td>2.130013</td>\n",
       "      <td>1.815250</td>\n",
       "      <td>1.721631</td>\n",
       "      <td>1.618405</td>\n",
       "      <td>1.759396</td>\n",
       "    </tr>\n",
       "    <tr>\n",
       "      <th>1181</th>\n",
       "      <td>2019.0</td>\n",
       "      <td>6A</td>\n",
       "      <td>32.0</td>\n",
       "      <td>陸嘉浩</td>\n",
       "      <td>20174001M</td>\n",
       "      <td>2.251745</td>\n",
       "      <td>2.513022</td>\n",
       "      <td>1.960035</td>\n",
       "      <td>2.078437</td>\n",
       "      <td>1.712851</td>\n",
       "      <td>1.685195</td>\n",
       "      <td>1.687642</td>\n",
       "      <td>1.740778</td>\n",
       "    </tr>\n",
       "    <tr>\n",
       "      <th>1207</th>\n",
       "      <td>2019.0</td>\n",
       "      <td>6C</td>\n",
       "      <td>7.0</td>\n",
       "      <td>何瑋縉</td>\n",
       "      <td>20141032M</td>\n",
       "      <td>1.690064</td>\n",
       "      <td>2.129121</td>\n",
       "      <td>1.734475</td>\n",
       "      <td>1.743196</td>\n",
       "      <td>1.675615</td>\n",
       "      <td>1.557667</td>\n",
       "      <td>1.609750</td>\n",
       "      <td>1.619761</td>\n",
       "    </tr>\n",
       "    <tr>\n",
       "      <th>1298</th>\n",
       "      <td>2020.0</td>\n",
       "      <td>6C</td>\n",
       "      <td>10.0</td>\n",
       "      <td>陳宣亦</td>\n",
       "      <td>20173001M</td>\n",
       "      <td>2.650129</td>\n",
       "      <td>2.181610</td>\n",
       "      <td>2.589471</td>\n",
       "      <td>2.325434</td>\n",
       "      <td>1.852486</td>\n",
       "      <td>1.739850</td>\n",
       "      <td>1.696296</td>\n",
       "      <td>1.768705</td>\n",
       "    </tr>\n",
       "    <tr>\n",
       "      <th>1715</th>\n",
       "      <td>2022.0</td>\n",
       "      <td>6A</td>\n",
       "      <td>1.0</td>\n",
       "      <td>鍾欣廷</td>\n",
       "      <td>20171021F</td>\n",
       "      <td>2.338241</td>\n",
       "      <td>1.765960</td>\n",
       "      <td>1.625634</td>\n",
       "      <td>1.473670</td>\n",
       "      <td>1.647688</td>\n",
       "      <td>1.484793</td>\n",
       "      <td>1.402041</td>\n",
       "      <td>1.433582</td>\n",
       "    </tr>\n",
       "    <tr>\n",
       "      <th>1726</th>\n",
       "      <td>2022.0</td>\n",
       "      <td>6A</td>\n",
       "      <td>12.0</td>\n",
       "      <td>曾麗琳</td>\n",
       "      <td>20171091F</td>\n",
       "      <td>2.605331</td>\n",
       "      <td>2.101721</td>\n",
       "      <td>1.625634</td>\n",
       "      <td>1.881340</td>\n",
       "      <td>1.731469</td>\n",
       "      <td>1.603212</td>\n",
       "      <td>1.402041</td>\n",
       "      <td>1.573216</td>\n",
       "    </tr>\n",
       "    <tr>\n",
       "      <th>1734</th>\n",
       "      <td>2022.0</td>\n",
       "      <td>6A</td>\n",
       "      <td>20.0</td>\n",
       "      <td>程浩軒</td>\n",
       "      <td>20171013M</td>\n",
       "      <td>2.192555</td>\n",
       "      <td>1.197748</td>\n",
       "      <td>1.402758</td>\n",
       "      <td>1.473670</td>\n",
       "      <td>1.396346</td>\n",
       "      <td>1.284392</td>\n",
       "      <td>1.332804</td>\n",
       "      <td>1.433582</td>\n",
       "    </tr>\n",
       "    <tr>\n",
       "      <th>1736</th>\n",
       "      <td>2022.0</td>\n",
       "      <td>6A</td>\n",
       "      <td>22.0</td>\n",
       "      <td>林均和</td>\n",
       "      <td>20171041M</td>\n",
       "      <td>2.095432</td>\n",
       "      <td>1.559337</td>\n",
       "      <td>1.430618</td>\n",
       "      <td>1.663916</td>\n",
       "      <td>1.508054</td>\n",
       "      <td>1.411920</td>\n",
       "      <td>1.341459</td>\n",
       "      <td>1.498745</td>\n",
       "    </tr>\n",
       "    <tr>\n",
       "      <th>1737</th>\n",
       "      <td>2022.0</td>\n",
       "      <td>6A</td>\n",
       "      <td>23.0</td>\n",
       "      <td>林宏凱</td>\n",
       "      <td>20171042M</td>\n",
       "      <td>2.313960</td>\n",
       "      <td>1.533510</td>\n",
       "      <td>1.569915</td>\n",
       "      <td>1.745450</td>\n",
       "      <td>1.619761</td>\n",
       "      <td>1.402811</td>\n",
       "      <td>1.384732</td>\n",
       "      <td>1.526672</td>\n",
       "    </tr>\n",
       "    <tr>\n",
       "      <th>1746</th>\n",
       "      <td>2022.0</td>\n",
       "      <td>6A</td>\n",
       "      <td>32.0</td>\n",
       "      <td>葉爾朗</td>\n",
       "      <td>20171116M</td>\n",
       "      <td>2.216836</td>\n",
       "      <td>1.765960</td>\n",
       "      <td>1.402758</td>\n",
       "      <td>1.799806</td>\n",
       "      <td>1.489436</td>\n",
       "      <td>1.484793</td>\n",
       "      <td>1.332804</td>\n",
       "      <td>1.545290</td>\n",
       "    </tr>\n",
       "  </tbody>\n",
       "</table>\n",
       "</div>"
      ],
      "text/plain": [
       "          學年  班別    班號 中文姓名    Reg No.     4_3_x     5_3_x     6_1_x  \\\n",
       "859   2016.0  6B   3.0  陳河沅  20144001F  1.507439  2.514688  2.810014   \n",
       "902   2016.0  6C  16.0  徐浩文  20111037M  1.415068  2.488942  2.312968   \n",
       "995   2017.0  6C   5.0  石樂兒  20121073F  2.282976  2.438148  2.463491   \n",
       "1114  2018.0  6C  14.0  陳國聰  20164003M  1.722277  2.178483  1.817001   \n",
       "1173  2019.0  6A  24.0  徐嘉謙  20141023M  2.373850  2.348493  1.884848   \n",
       "1174  2019.0  6A  25.0  賴文龍  20141116M  2.398271  2.622707  1.759537   \n",
       "1181  2019.0  6A  32.0  陸嘉浩  20174001M  2.251745  2.513022  1.960035   \n",
       "1207  2019.0  6C   7.0  何瑋縉  20141032M  1.690064  2.129121  1.734475   \n",
       "1298  2020.0  6C  10.0  陳宣亦  20173001M  2.650129  2.181610  2.589471   \n",
       "1715  2022.0  6A   1.0  鍾欣廷  20171021F  2.338241  1.765960  1.625634   \n",
       "1726  2022.0  6A  12.0  曾麗琳  20171091F  2.605331  2.101721  1.625634   \n",
       "1734  2022.0  6A  20.0  程浩軒  20171013M  2.192555  1.197748  1.402758   \n",
       "1736  2022.0  6A  22.0  林均和  20171041M  2.095432  1.559337  1.430618   \n",
       "1737  2022.0  6A  23.0  林宏凱  20171042M  2.313960  1.533510  1.569915   \n",
       "1746  2022.0  6A  32.0  葉爾朗  20171116M  2.216836  1.765960  1.402758   \n",
       "\n",
       "         6_2_x     4_2_y     5_3_y     6_1_y     6_2_y  \n",
       "859   2.363922  1.778014  1.739850  1.713605  1.647688  \n",
       "902   2.604246  1.805941  1.730741  1.557823  1.731469  \n",
       "995   2.162710  1.703542  1.630540  1.609750  1.656997  \n",
       "1114  1.626311  1.219475  1.594103  1.505896  1.452200  \n",
       "1173  2.155800  1.787323  1.630540  1.661678  1.768705  \n",
       "1174  2.130013  1.815250  1.721631  1.618405  1.759396  \n",
       "1181  2.078437  1.712851  1.685195  1.687642  1.740778  \n",
       "1207  1.743196  1.675615  1.557667  1.609750  1.619761  \n",
       "1298  2.325434  1.852486  1.739850  1.696296  1.768705  \n",
       "1715  1.473670  1.647688  1.484793  1.402041  1.433582  \n",
       "1726  1.881340  1.731469  1.603212  1.402041  1.573216  \n",
       "1734  1.473670  1.396346  1.284392  1.332804  1.433582  \n",
       "1736  1.663916  1.508054  1.411920  1.341459  1.498745  \n",
       "1737  1.745450  1.619761  1.402811  1.384732  1.526672  \n",
       "1746  1.799806  1.489436  1.484793  1.332804  1.545290  "
      ]
     },
     "execution_count": 152,
     "metadata": {},
     "output_type": "execute_result"
    }
   ],
   "source": [
    "df_top=df_final[df_final['A030 Math']>=5]\n",
    "df_top=df_top.drop(['A030 Math'],axis=1)\n",
    "df2022_top=df_math.loc[sample_pred_df[sample_pred_df.pred==4].index]\n",
    "df_alltop=pd.concat([df_top,df2022_top])\n",
    "new_lst=['學年','班別','班號','中文姓名','Reg No.']+temp_lst\n",
    "df_alltop[new_lst]"
   ]
  },
  {
   "cell_type": "code",
   "execution_count": null,
   "metadata": {},
   "outputs": [
    {
     "data": {
      "image/png": "[encoded data removed]",
      "text/plain": [
       "<Figure size 432x288 with 2 Axes>"
      ]
     },
     "metadata": {
      "needs_background": "light"
     },
     "output_type": "display_data"
    }
   ],
   "source": [
    "heat=temp_lst\n",
    "sns.heatmap(df_alltop[heat],annot=True,fmt='.2f',yticklabels=df_alltop['Reg No.'],cmap='RdBu')\n",
    "plt.tight_layout()"
   ]
  },
  {
   "cell_type": "code",
   "execution_count": 106,
   "metadata": {},
   "outputs": [
    {
     "name": "stderr",
     "output_type": "stream",
     "text": [
      "C:\\Users\\squar\\AppData\\Local\\Temp\\ipykernel_21988\\2144022874.py:3: SettingWithCopyWarning: \n",
      "A value is trying to be set on a copy of a slice from a DataFrame.\n",
      "Try using .loc[row_indexer,col_indexer] = value instead\n",
      "\n",
      "See the caveats in the documentation: https://pandas.pydata.org/pandas-docs/stable/user_guide/indexing.html#returning-a-view-versus-a-copy\n",
      "  df_alltopheat[col]=df_alltopheat[col]-df_alltopheat[col].mean()\n"
     ]
    },
    {
     "data": {
      "image/png": "[encoded data removed]",
      "text/plain": [
       "<Figure size 432x288 with 2 Axes>"
      ]
     },
     "metadata": {
      "needs_background": "light"
     },
     "output_type": "display_data"
    }
   ],
   "source": [
    "df_alltopheat=df_alltop[heat]\n",
    "for col in df_alltopheat.columns:\n",
    "    df_alltopheat[col]=df_alltopheat[col]-df_alltopheat[col].mean()\n",
    "sns.heatmap(df_alltopheat,annot=True,fmt='.2f',yticklabels=df_alltop['Reg No.'],cmap='RdBu')\n",
    "plt.tight_layout()"
   ]
  },
  {
   "cell_type": "code",
   "execution_count": 107,
   "metadata": {},
   "outputs": [
    {
     "name": "stderr",
     "output_type": "stream",
     "text": [
      "C:\\Users\\squar\\AppData\\Local\\Temp\\ipykernel_21988\\1166050633.py:3: FutureWarning: Indexing with multiple keys (implicitly converted to a tuple of keys) will be deprecated, use a list instead.\n",
      "  df_mean_table=df_mean[df_mean['班別'].str.contains('6')].groupby('學年')['T1數學','T2數學'].mean()\n"
     ]
    },
    {
     "data": {
      "text/html": [
       "<div>\n",
       "<style scoped>\n",
       "    .dataframe tbody tr th:only-of-type {\n",
       "        vertical-align: middle;\n",
       "    }\n",
       "\n",
       "    .dataframe tbody tr th {\n",
       "        vertical-align: top;\n",
       "    }\n",
       "\n",
       "    .dataframe thead th {\n",
       "        text-align: right;\n",
       "    }\n",
       "</style>\n",
       "<table border=\"1\" class=\"dataframe\">\n",
       "  <thead>\n",
       "    <tr style=\"text-align: right;\">\n",
       "      <th></th>\n",
       "      <th>T1數學</th>\n",
       "      <th>T2數學</th>\n",
       "    </tr>\n",
       "    <tr>\n",
       "      <th>學年</th>\n",
       "      <th></th>\n",
       "      <th></th>\n",
       "    </tr>\n",
       "  </thead>\n",
       "  <tbody>\n",
       "    <tr>\n",
       "      <th>2014</th>\n",
       "      <td>0.761602</td>\n",
       "      <td>0.703038</td>\n",
       "    </tr>\n",
       "    <tr>\n",
       "      <th>2015</th>\n",
       "      <td>0.872966</td>\n",
       "      <td>0.722951</td>\n",
       "    </tr>\n",
       "    <tr>\n",
       "      <th>2016</th>\n",
       "      <td>0.774510</td>\n",
       "      <td>0.731798</td>\n",
       "    </tr>\n",
       "    <tr>\n",
       "      <th>2017</th>\n",
       "      <td>0.888428</td>\n",
       "      <td>0.855556</td>\n",
       "    </tr>\n",
       "    <tr>\n",
       "      <th>2018</th>\n",
       "      <td>0.796468</td>\n",
       "      <td>0.669182</td>\n",
       "    </tr>\n",
       "    <tr>\n",
       "      <th>2019</th>\n",
       "      <td>1.010798</td>\n",
       "      <td>0.990495</td>\n",
       "    </tr>\n",
       "    <tr>\n",
       "      <th>2020</th>\n",
       "      <td>0.787758</td>\n",
       "      <td>0.794332</td>\n",
       "    </tr>\n",
       "    <tr>\n",
       "      <th>2021</th>\n",
       "      <td>0.789039</td>\n",
       "      <td>0.871280</td>\n",
       "    </tr>\n",
       "    <tr>\n",
       "      <th>2022</th>\n",
       "      <td>0.748705</td>\n",
       "      <td>0.759959</td>\n",
       "    </tr>\n",
       "  </tbody>\n",
       "</table>\n",
       "</div>"
      ],
      "text/plain": [
       "          T1數學      T2數學\n",
       "學年                      \n",
       "2014  0.761602  0.703038\n",
       "2015  0.872966  0.722951\n",
       "2016  0.774510  0.731798\n",
       "2017  0.888428  0.855556\n",
       "2018  0.796468  0.669182\n",
       "2019  1.010798  0.990495\n",
       "2020  0.787758  0.794332\n",
       "2021  0.789039  0.871280\n",
       "2022  0.748705  0.759959"
      ]
     },
     "execution_count": 107,
     "metadata": {},
     "output_type": "execute_result"
    }
   ],
   "source": [
    "df_mean=df[['學年','班別','班號','中文姓名','T1數學','T2數學']]\n",
    "\n",
    "df_mean_table=df_mean[df_mean['班別'].str.contains('6')].groupby('學年')['T1數學','T2數學'].mean()\n",
    "df_mean_table"
   ]
  },
  {
   "cell_type": "code",
   "execution_count": null,
   "metadata": {},
   "outputs": [],
   "source": []
  },
  {
   "cell_type": "code",
   "execution_count": null,
   "metadata": {},
   "outputs": [],
   "source": []
  }
 ],
 "metadata": {
  "kernelspec": {
   "display_name": "Python 3",
   "language": "python",
   "name": "python3"
  },
  "language_info": {
   "codemirror_mode": {
    "name": "ipython",
    "version": 3
   },
   "file_extension": ".py",
   "mimetype": "text/x-python",
   "name": "python",
   "nbconvert_exporter": "python",
   "pygments_lexer": "ipython3",
   "version": "3.10.4"
  },
  "orig_nbformat": 4,
  "vscode": {
   "interpreter": {
    "hash": "966cbfce5db93f729d26026f62147536549f2fb2d4135884a5b132286c8fcda7"
   }
  }
 },
 "nbformat": 4,
 "nbformat_minor": 2
}
